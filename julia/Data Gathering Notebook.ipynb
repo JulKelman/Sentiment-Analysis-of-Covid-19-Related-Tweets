{
 "cells": [
  {
   "cell_type": "markdown",
   "metadata": {},
   "source": [
    "# Sentiment Analysis of Covid-19 Related Tweets based on Geographic Location and State Policies\n",
    "\n",
    "#### Authors: Steve Diamond [(GitHub)](ttps://github.com/ssdiam2000), Markell Jones-Francis [(GitHub)](https://git.generalassemb.ly/markelljones-francis), and Julia Kelman [(GitHub)](https://git.generalassemb.ly/julia-kelman/)"
   ]
  },
  {
   "cell_type": "markdown",
   "metadata": {},
   "source": [
    "## Loading Libraries"
   ]
  },
  {
   "cell_type": "code",
   "execution_count": 1,
   "metadata": {},
   "outputs": [
    {
     "name": "stdout",
     "output_type": "stream",
     "text": [
      "Requirement already satisfied: twitterscraper in /opt/anaconda3/envs/DSI/lib/python3.7/site-packages (1.4.0)\n",
      "Requirement already satisfied: billiard in /opt/anaconda3/envs/DSI/lib/python3.7/site-packages (from twitterscraper) (3.6.3.0)\n",
      "Requirement already satisfied: bs4 in /opt/anaconda3/envs/DSI/lib/python3.7/site-packages (from twitterscraper) (0.0.1)\n",
      "Requirement already satisfied: lxml in /opt/anaconda3/envs/DSI/lib/python3.7/site-packages (from twitterscraper) (4.5.0)\n",
      "Requirement already satisfied: coala-utils~=0.5.0 in /opt/anaconda3/envs/DSI/lib/python3.7/site-packages (from twitterscraper) (0.5.1)\n",
      "Requirement already satisfied: requests in /opt/anaconda3/envs/DSI/lib/python3.7/site-packages (from twitterscraper) (2.23.0)\n",
      "Requirement already satisfied: beautifulsoup4 in /opt/anaconda3/envs/DSI/lib/python3.7/site-packages (from bs4->twitterscraper) (4.8.2)\n",
      "Requirement already satisfied: chardet<4,>=3.0.2 in /opt/anaconda3/envs/DSI/lib/python3.7/site-packages (from requests->twitterscraper) (3.0.4)\n",
      "Requirement already satisfied: certifi>=2017.4.17 in /opt/anaconda3/envs/DSI/lib/python3.7/site-packages (from requests->twitterscraper) (2020.4.5.1)\n",
      "Requirement already satisfied: idna<3,>=2.5 in /opt/anaconda3/envs/DSI/lib/python3.7/site-packages (from requests->twitterscraper) (2.8)\n",
      "Requirement already satisfied: urllib3!=1.25.0,!=1.25.1,<1.26,>=1.21.1 in /opt/anaconda3/envs/DSI/lib/python3.7/site-packages (from requests->twitterscraper) (1.25.8)\n",
      "Requirement already satisfied: soupsieve>=1.2 in /opt/anaconda3/envs/DSI/lib/python3.7/site-packages (from beautifulsoup4->bs4->twitterscraper) (1.9.5)\n",
      "Note: you may need to restart the kernel to use updated packages.\n"
     ]
    }
   ],
   "source": [
    "pip install twitterscraper"
   ]
  },
  {
   "cell_type": "code",
   "execution_count": 2,
   "metadata": {},
   "outputs": [
    {
     "name": "stderr",
     "output_type": "stream",
     "text": [
      "INFO: {'User-Agent': 'Opera/9.80 (X11; Linux i686; Ubuntu/14.10) Presto/2.12.388 Version/12.16'}\n"
     ]
    }
   ],
   "source": [
    "import pandas as pd\n",
    "import requests\n",
    "from bs4 import BeautifulSoup\n",
    "import twitterscraper as ts\n",
    "from twitterscraper.tweet import Tweet\n",
    "from time import strftime, localtime\n",
    "import json"
   ]
  },
  {
   "cell_type": "markdown",
   "metadata": {},
   "source": [
    "## Gathering Twitter Data"
   ]
  },
  {
   "cell_type": "markdown",
   "metadata": {},
   "source": [
    "We will use a publically available dataset created by Rabindra Lamsal and available [here](https://ieee-dataport.org/open-access/corona-virus-covid-19-geolocation-based-sentiment-data) (more specifically, the `april28-may6.csv` file was used). This data provides tweet IDs and sentiment scores for tweets posted between April 28th and May 6th 2020 which mentioned anything about \"corona\", \"covid-19\", \"coronavirus\" or the variants of \"sars-cov-2\" and have location information available.  \n",
    "Complying with Twitter's data sharing policy, only the tweet IDs were shared in the original dataset. As a result, we need to hydrate these IDs using twitterscrapper in order to retrive the content of the tweet and location information. This information then needs to be saved in a new dataframe. "
   ]
  },
  {
   "cell_type": "markdown",
   "metadata": {},
   "source": [
    "### Loading Tweet Id and Sentiment Score Data"
   ]
  },
  {
   "cell_type": "code",
   "execution_count": 3,
   "metadata": {},
   "outputs": [
    {
     "data": {
      "text/html": [
       "<div>\n",
       "<style scoped>\n",
       "    .dataframe tbody tr th:only-of-type {\n",
       "        vertical-align: middle;\n",
       "    }\n",
       "\n",
       "    .dataframe tbody tr th {\n",
       "        vertical-align: top;\n",
       "    }\n",
       "\n",
       "    .dataframe thead th {\n",
       "        text-align: right;\n",
       "    }\n",
       "</style>\n",
       "<table border=\"1\" class=\"dataframe\">\n",
       "  <thead>\n",
       "    <tr style=\"text-align: right;\">\n",
       "      <th></th>\n",
       "      <th>tweet_id</th>\n",
       "      <th>sentiment_score</th>\n",
       "    </tr>\n",
       "  </thead>\n",
       "  <tbody>\n",
       "    <tr>\n",
       "      <th>0</th>\n",
       "      <td>1254995208888094721</td>\n",
       "      <td>0.0000</td>\n",
       "    </tr>\n",
       "    <tr>\n",
       "      <th>1</th>\n",
       "      <td>1254995485452050438</td>\n",
       "      <td>0.0000</td>\n",
       "    </tr>\n",
       "    <tr>\n",
       "      <th>2</th>\n",
       "      <td>1254995705527177216</td>\n",
       "      <td>0.5250</td>\n",
       "    </tr>\n",
       "    <tr>\n",
       "      <th>3</th>\n",
       "      <td>1254995868333289475</td>\n",
       "      <td>0.2875</td>\n",
       "    </tr>\n",
       "    <tr>\n",
       "      <th>4</th>\n",
       "      <td>1254996123514789893</td>\n",
       "      <td>0.0000</td>\n",
       "    </tr>\n",
       "  </tbody>\n",
       "</table>\n",
       "</div>"
      ],
      "text/plain": [
       "              tweet_id  sentiment_score\n",
       "0  1254995208888094721           0.0000\n",
       "1  1254995485452050438           0.0000\n",
       "2  1254995705527177216           0.5250\n",
       "3  1254995868333289475           0.2875\n",
       "4  1254996123514789893           0.0000"
      ]
     },
     "execution_count": 3,
     "metadata": {},
     "output_type": "execute_result"
    }
   ],
   "source": [
    "tweets_id = pd.read_csv(\"./april28-may6.csv\", header=None)\n",
    "tweets_id.rename(columns={0:'tweet_id', 1:'sentiment_score'}, inplace=True)\n",
    "tweets_id.head()"
   ]
  },
  {
   "cell_type": "markdown",
   "metadata": {},
   "source": [
    "### Getting Original Tweet and Location Function"
   ]
  },
  {
   "cell_type": "code",
   "execution_count": 4,
   "metadata": {},
   "outputs": [],
   "source": [
    "def get_tweet_df(df):\n",
    "    tweets = []          # creates list to store Tweet objects                                                     \n",
    "    locations = []       # creates list to store scraped location data\n",
    "    deleted_tweets = 0   # starts counter for deleted tweets if tweet can no longer be reached\n",
    "    \n",
    "    # loops through each tweet_id in the imported dataframe of tweet_id\n",
    "    for tweet_id in df['tweet_id']:\n",
    "        url = f'https://twitter.com/anyuser/status/{tweet_id}'    # sets url to the tweet - tweet urls do not need a specified user\n",
    "        res = requests.get(url)                                   # request for tweet url\n",
    "        soup = BeautifulSoup(res.content, 'lxml')                 # creates beautifulsoup object for the webpage of the tweet\n",
    "        # attempts to create tweet object using beautifulsoup object\n",
    "        # and adds location based on location scrape from beatifulsoup object\n",
    "        try:                                              \n",
    "            tweets.append(Tweet.from_soup(soup))\n",
    "            locations.append(soup.find('span', 'permalink-tweet-geo-text').text[12: -1])\n",
    "        # adds to deleted_tweets counter if tweet url does not exist\n",
    "        except:\n",
    "            deleted_tweets += 1\n",
    "    print(f'Deleted Tweets = {deleted_tweets}')                   # prints number of deleted tweets in dataframe\n",
    "    tweet_df = pd.DataFrame(t.__dict__ for t in tweets)           # creates dataframe using tweet objects in tweets list\n",
    "    tweet_df = tweet_df.astype({'tweet_id': 'int64'})             # converts tweet_id from str to int so it can be merged to id_df\n",
    "    # dropping columns that are note useful for our analysis\n",
    "    tweet_df.drop(columns = ['user_id', 'tweet_url',\n",
    "        'timestamp_epochs', 'text_html', 'links',\n",
    "        'has_media', 'img_urls', 'video_url', 'is_replied', 'is_reply_to', 'parent_tweet_id',\n",
    "       'reply_to_users'], inplace = True)\n",
    "    # merge original df to new df to keep sentiment score\n",
    "    tweet_df = pd.merge(left = tweet_df, right = df, on = 'tweet_id')  \n",
    "    # create dataframe of locations from list of scraped locations\n",
    "    location_df = pd.DataFrame(locations, columns = ['location'])       \n",
    "    # merge locations dataframe onto tweets dataframe with sentiments\n",
    "    # merge on index because the index is the same\n",
    "    tweet_df = pd.merge(tweet_df, location_df, left_index= True, right_index = True) \n",
    "    # creates city column by using the location value up to the last word - which is the state (or country if outside of the US) \n",
    "    # removes the comma at the end of the city name\n",
    "    tweet_df['city'] = [' '.join(loc.split()[:-1:]).replace(',', '') for loc in tweet_df['location']]\n",
    "    # creates state column by taking the last word of the location value - (returns the country if location is outside US)\n",
    "    tweet_df['state'] = [loc.split()[-1] for loc in tweet_df['location']]\n",
    "    # removes location column as it is no longer neccessary\n",
    "    tweet_df.drop(columns = ['location'], inplace = True)\n",
    "    return tweet_df"
   ]
  },
  {
   "cell_type": "markdown",
   "metadata": {},
   "source": [
    "### Gathering Original Tweet and Location Data"
   ]
  },
  {
   "cell_type": "code",
   "execution_count": 5,
   "metadata": {},
   "outputs": [
    {
     "name": "stdout",
     "output_type": "stream",
     "text": [
      "Deleted Tweets = 419\n"
     ]
    }
   ],
   "source": [
    "tweets = get_tweet_df(tweets_id)"
   ]
  },
  {
   "cell_type": "code",
   "execution_count": 6,
   "metadata": {},
   "outputs": [
    {
     "data": {
      "text/html": [
       "<div>\n",
       "<style scoped>\n",
       "    .dataframe tbody tr th:only-of-type {\n",
       "        vertical-align: middle;\n",
       "    }\n",
       "\n",
       "    .dataframe tbody tr th {\n",
       "        vertical-align: top;\n",
       "    }\n",
       "\n",
       "    .dataframe thead th {\n",
       "        text-align: right;\n",
       "    }\n",
       "</style>\n",
       "<table border=\"1\" class=\"dataframe\">\n",
       "  <thead>\n",
       "    <tr style=\"text-align: right;\">\n",
       "      <th></th>\n",
       "      <th>screen_name</th>\n",
       "      <th>username</th>\n",
       "      <th>tweet_id</th>\n",
       "      <th>timestamp</th>\n",
       "      <th>text</th>\n",
       "      <th>hashtags</th>\n",
       "      <th>likes</th>\n",
       "      <th>retweets</th>\n",
       "      <th>replies</th>\n",
       "      <th>sentiment_score</th>\n",
       "      <th>city</th>\n",
       "      <th>state</th>\n",
       "    </tr>\n",
       "  </thead>\n",
       "  <tbody>\n",
       "    <tr>\n",
       "      <th>0</th>\n",
       "      <td>ChefHosea</td>\n",
       "      <td>Hosea Rosenberg</td>\n",
       "      <td>1254995208888094721</td>\n",
       "      <td>2020-04-28 04:45:49</td>\n",
       "      <td>Xmas in April covid19 edition @santoboulder #b...</td>\n",
       "      <td>[burrito, xmas, smotheredburrito, greenchile, ...</td>\n",
       "      <td>1</td>\n",
       "      <td>0</td>\n",
       "      <td>0</td>\n",
       "      <td>0.0000</td>\n",
       "      <td>Boulder</td>\n",
       "      <td>CO</td>\n",
       "    </tr>\n",
       "    <tr>\n",
       "      <th>1</th>\n",
       "      <td>Robin4ascii</td>\n",
       "      <td>Robin Hubbard</td>\n",
       "      <td>1254995485452050438</td>\n",
       "      <td>2020-04-28 04:46:55</td>\n",
       "      <td>@QUORA a sample of #Homework Topics Q&amp;A -- ask...</td>\n",
       "      <td>[Homework, schools, collegestudents, universit...</td>\n",
       "      <td>0</td>\n",
       "      <td>0</td>\n",
       "      <td>0</td>\n",
       "      <td>0.0000</td>\n",
       "      <td>Mountain View</td>\n",
       "      <td>CA</td>\n",
       "    </tr>\n",
       "    <tr>\n",
       "      <th>2</th>\n",
       "      <td>iam_ifegbolahan</td>\n",
       "      <td>Ise Owo Omogbolahan</td>\n",
       "      <td>1254995705527177216</td>\n",
       "      <td>2020-04-28 04:47:47</td>\n",
       "      <td>\"There is nothing more beautiful than someone ...</td>\n",
       "      <td>[covid_19, CoronaVirus, Art, IseOwoOmogbolahan...</td>\n",
       "      <td>1</td>\n",
       "      <td>0</td>\n",
       "      <td>0</td>\n",
       "      <td>0.5250</td>\n",
       "      <td>Ikeja</td>\n",
       "      <td>Nigeria</td>\n",
       "    </tr>\n",
       "    <tr>\n",
       "      <th>3</th>\n",
       "      <td>JC_RWRC</td>\n",
       "      <td>J.C.</td>\n",
       "      <td>1254995868333289475</td>\n",
       "      <td>2020-04-28 04:48:26</td>\n",
       "      <td>Another one in the books today for an AMAZING ...</td>\n",
       "      <td>[]</td>\n",
       "      <td>0</td>\n",
       "      <td>0</td>\n",
       "      <td>0</td>\n",
       "      <td>0.2875</td>\n",
       "      <td>Jonesboro</td>\n",
       "      <td>AR</td>\n",
       "    </tr>\n",
       "    <tr>\n",
       "      <th>4</th>\n",
       "      <td>harsh05710408</td>\n",
       "      <td>harsh vyas</td>\n",
       "      <td>1254996123514789893</td>\n",
       "      <td>2020-04-28 04:49:27</td>\n",
       "      <td>#gvkemri to fight against #covid19 @ GVK Emri ...</td>\n",
       "      <td>[gvkemri, covid19]</td>\n",
       "      <td>0</td>\n",
       "      <td>0</td>\n",
       "      <td>0</td>\n",
       "      <td>0.0000</td>\n",
       "      <td>Medchal</td>\n",
       "      <td>India</td>\n",
       "    </tr>\n",
       "  </tbody>\n",
       "</table>\n",
       "</div>"
      ],
      "text/plain": [
       "       screen_name             username             tweet_id  \\\n",
       "0        ChefHosea      Hosea Rosenberg  1254995208888094721   \n",
       "1      Robin4ascii        Robin Hubbard  1254995485452050438   \n",
       "2  iam_ifegbolahan  Ise Owo Omogbolahan  1254995705527177216   \n",
       "3          JC_RWRC                 J.C.  1254995868333289475   \n",
       "4    harsh05710408           harsh vyas  1254996123514789893   \n",
       "\n",
       "            timestamp                                               text  \\\n",
       "0 2020-04-28 04:45:49  Xmas in April covid19 edition @santoboulder #b...   \n",
       "1 2020-04-28 04:46:55  @QUORA a sample of #Homework Topics Q&A -- ask...   \n",
       "2 2020-04-28 04:47:47  \"There is nothing more beautiful than someone ...   \n",
       "3 2020-04-28 04:48:26  Another one in the books today for an AMAZING ...   \n",
       "4 2020-04-28 04:49:27  #gvkemri to fight against #covid19 @ GVK Emri ...   \n",
       "\n",
       "                                            hashtags  likes  retweets  \\\n",
       "0  [burrito, xmas, smotheredburrito, greenchile, ...      1         0   \n",
       "1  [Homework, schools, collegestudents, universit...      0         0   \n",
       "2  [covid_19, CoronaVirus, Art, IseOwoOmogbolahan...      1         0   \n",
       "3                                                 []      0         0   \n",
       "4                                 [gvkemri, covid19]      0         0   \n",
       "\n",
       "   replies  sentiment_score           city    state  \n",
       "0        0           0.0000        Boulder       CO  \n",
       "1        0           0.0000  Mountain View       CA  \n",
       "2        0           0.5250          Ikeja  Nigeria  \n",
       "3        0           0.2875      Jonesboro       AR  \n",
       "4        0           0.0000        Medchal    India  "
      ]
     },
     "execution_count": 6,
     "metadata": {},
     "output_type": "execute_result"
    }
   ],
   "source": [
    "tweets.head()"
   ]
  },
  {
   "cell_type": "code",
   "execution_count": 10,
   "metadata": {},
   "outputs": [
    {
     "data": {
      "text/plain": [
       "(12898, 12)"
      ]
     },
     "execution_count": 10,
     "metadata": {},
     "output_type": "execute_result"
    }
   ],
   "source": [
    "tweets.shape"
   ]
  },
  {
   "cell_type": "markdown",
   "metadata": {},
   "source": [
    "#### Saving this Data as a .CSV File "
   ]
  },
  {
   "cell_type": "code",
   "execution_count": null,
   "metadata": {},
   "outputs": [],
   "source": [
    "#tweets.to_csv(\"../data/tweets_all.csv\", index = False)"
   ]
  },
  {
   "cell_type": "markdown",
   "metadata": {},
   "source": [
    "### Selecting Tweets from Specific States Function"
   ]
  },
  {
   "cell_type": "code",
   "execution_count": 7,
   "metadata": {},
   "outputs": [],
   "source": [
    "# extract specific states from the cleaned data\n",
    "def get_states(data, states = []):\n",
    "    # instantiate empty list to place the dataframe of each state\n",
    "    df_list = []\n",
    "    # loop through the provided list of states and add the dataframe containing each state to the datagrame list\n",
    "    for i, state in enumerate(states):\n",
    "        df = data.loc[data['state'] == state]\n",
    "        df_list.append(df)\n",
    "    # create new dataframe by concatenating each dataframe in the datafame list\n",
    "    new_df = pd.concat(objs = df_list)\n",
    "    #return the dataframe of specified states\n",
    "    return new_df"
   ]
  },
  {
   "cell_type": "markdown",
   "metadata": {},
   "source": [
    "### Selecting Tweets from New York and Texas"
   ]
  },
  {
   "cell_type": "code",
   "execution_count": 8,
   "metadata": {
    "scrolled": false
   },
   "outputs": [
    {
     "data": {
      "text/html": [
       "<div>\n",
       "<style scoped>\n",
       "    .dataframe tbody tr th:only-of-type {\n",
       "        vertical-align: middle;\n",
       "    }\n",
       "\n",
       "    .dataframe tbody tr th {\n",
       "        vertical-align: top;\n",
       "    }\n",
       "\n",
       "    .dataframe thead th {\n",
       "        text-align: right;\n",
       "    }\n",
       "</style>\n",
       "<table border=\"1\" class=\"dataframe\">\n",
       "  <thead>\n",
       "    <tr style=\"text-align: right;\">\n",
       "      <th></th>\n",
       "      <th>screen_name</th>\n",
       "      <th>username</th>\n",
       "      <th>tweet_id</th>\n",
       "      <th>timestamp</th>\n",
       "      <th>text</th>\n",
       "      <th>hashtags</th>\n",
       "      <th>likes</th>\n",
       "      <th>retweets</th>\n",
       "      <th>replies</th>\n",
       "      <th>sentiment_score</th>\n",
       "      <th>city</th>\n",
       "      <th>state</th>\n",
       "    </tr>\n",
       "  </thead>\n",
       "  <tbody>\n",
       "    <tr>\n",
       "      <th>5</th>\n",
       "      <td>BillBodouva</td>\n",
       "      <td>Real Estate BuyerRep</td>\n",
       "      <td>1254996305082036224</td>\n",
       "      <td>2020-04-28 04:50:10</td>\n",
       "      <td>Happy Birthday Mom!  You wouldn’t believe what...</td>\n",
       "      <td>[bestmom, bestfriend, happybirthday, 1son, cov...</td>\n",
       "      <td>0</td>\n",
       "      <td>0</td>\n",
       "      <td>0</td>\n",
       "      <td>0.313973</td>\n",
       "      <td>Sands Point</td>\n",
       "      <td>NY</td>\n",
       "    </tr>\n",
       "    <tr>\n",
       "      <th>13</th>\n",
       "      <td>zagnut99</td>\n",
       "      <td>Frank Zagottis</td>\n",
       "      <td>1254999586302820353</td>\n",
       "      <td>2020-04-28 05:03:12</td>\n",
       "      <td>Isolation dinners continue with Isabel’s roast...</td>\n",
       "      <td>[Dinner, Chicken, Isolation, IsolationDinner, ...</td>\n",
       "      <td>0</td>\n",
       "      <td>0</td>\n",
       "      <td>0</td>\n",
       "      <td>-0.600000</td>\n",
       "      <td>Queens</td>\n",
       "      <td>NY</td>\n",
       "    </tr>\n",
       "    <tr>\n",
       "      <th>23</th>\n",
       "      <td>johnnybebad666_</td>\n",
       "      <td>John Fitzgerald Kennedy Page®</td>\n",
       "      <td>1255004404723462146</td>\n",
       "      <td>2020-04-28 05:22:21</td>\n",
       "      <td>COVID-19 update \\nThis MTA BUS didn't pick me ...</td>\n",
       "      <td>[]</td>\n",
       "      <td>0</td>\n",
       "      <td>0</td>\n",
       "      <td>0</td>\n",
       "      <td>0.000000</td>\n",
       "      <td>Queens</td>\n",
       "      <td>NY</td>\n",
       "    </tr>\n",
       "    <tr>\n",
       "      <th>26</th>\n",
       "      <td>juanjeremy100</td>\n",
       "      <td>Cornerman Juan Jeremy</td>\n",
       "      <td>1255006251676831744</td>\n",
       "      <td>2020-04-28 05:29:41</td>\n",
       "      <td>When the #Cornerman confronts #COVID19 #Pneumo...</td>\n",
       "      <td>[Cornerman, COVID19, Pneumonia, coronavirus, c...</td>\n",
       "      <td>3</td>\n",
       "      <td>1</td>\n",
       "      <td>0</td>\n",
       "      <td>0.000000</td>\n",
       "      <td>Brooklyn</td>\n",
       "      <td>NY</td>\n",
       "    </tr>\n",
       "    <tr>\n",
       "      <th>239</th>\n",
       "      <td>officialdanek</td>\n",
       "      <td>Danèk</td>\n",
       "      <td>1255067181924134913</td>\n",
       "      <td>2020-04-28 09:31:48</td>\n",
       "      <td>Just chilling by the fire!  breeeee.x \\n.\\n.\\n...</td>\n",
       "      <td>[model, instagram, tiktok, picoftheday, ootd, ...</td>\n",
       "      <td>0</td>\n",
       "      <td>0</td>\n",
       "      <td>0</td>\n",
       "      <td>-0.262500</td>\n",
       "      <td>Manhattan</td>\n",
       "      <td>NY</td>\n",
       "    </tr>\n",
       "  </tbody>\n",
       "</table>\n",
       "</div>"
      ],
      "text/plain": [
       "         screen_name                       username             tweet_id  \\\n",
       "5        BillBodouva           Real Estate BuyerRep  1254996305082036224   \n",
       "13          zagnut99                 Frank Zagottis  1254999586302820353   \n",
       "23   johnnybebad666_  John Fitzgerald Kennedy Page®  1255004404723462146   \n",
       "26     juanjeremy100          Cornerman Juan Jeremy  1255006251676831744   \n",
       "239    officialdanek                          Danèk  1255067181924134913   \n",
       "\n",
       "              timestamp                                               text  \\\n",
       "5   2020-04-28 04:50:10  Happy Birthday Mom!  You wouldn’t believe what...   \n",
       "13  2020-04-28 05:03:12  Isolation dinners continue with Isabel’s roast...   \n",
       "23  2020-04-28 05:22:21  COVID-19 update \\nThis MTA BUS didn't pick me ...   \n",
       "26  2020-04-28 05:29:41  When the #Cornerman confronts #COVID19 #Pneumo...   \n",
       "239 2020-04-28 09:31:48  Just chilling by the fire!  breeeee.x \\n.\\n.\\n...   \n",
       "\n",
       "                                              hashtags  likes  retweets  \\\n",
       "5    [bestmom, bestfriend, happybirthday, 1son, cov...      0         0   \n",
       "13   [Dinner, Chicken, Isolation, IsolationDinner, ...      0         0   \n",
       "23                                                  []      0         0   \n",
       "26   [Cornerman, COVID19, Pneumonia, coronavirus, c...      3         1   \n",
       "239  [model, instagram, tiktok, picoftheday, ootd, ...      0         0   \n",
       "\n",
       "     replies  sentiment_score         city state  \n",
       "5          0         0.313973  Sands Point    NY  \n",
       "13         0        -0.600000       Queens    NY  \n",
       "23         0         0.000000       Queens    NY  \n",
       "26         0         0.000000     Brooklyn    NY  \n",
       "239        0        -0.262500    Manhattan    NY  "
      ]
     },
     "execution_count": 8,
     "metadata": {},
     "output_type": "execute_result"
    }
   ],
   "source": [
    "tweets_ny_tx = get_states(tweets, states=['NY', 'TX'])\n",
    "tweets_ny_tx.head()"
   ]
  },
  {
   "cell_type": "code",
   "execution_count": 11,
   "metadata": {},
   "outputs": [
    {
     "data": {
      "text/plain": [
       "(1731, 12)"
      ]
     },
     "execution_count": 11,
     "metadata": {},
     "output_type": "execute_result"
    }
   ],
   "source": [
    "tweets_ny_tx.shape"
   ]
  },
  {
   "cell_type": "markdown",
   "metadata": {},
   "source": [
    "## Gatherting Covid-19 Occurences Data "
   ]
  },
  {
   "cell_type": "markdown",
   "metadata": {},
   "source": [
    "We will use a publically available dataset created by The New York Times and available [here](https://github.com/nytimes/covid-19-data)."
   ]
  },
  {
   "cell_type": "markdown",
   "metadata": {},
   "source": [
    "## Gathering State Policy Data "
   ]
  },
  {
   "cell_type": "markdown",
   "metadata": {},
   "source": [
    "## References\n",
    "\n",
    "[Original Tweets IDs and Sentiment Scores Dataset](https://ieee-dataport.org/open-access/corona-virus-covid-19-geolocation-based-sentiment-data)  \n",
    "[Covid-19 Cases and Deaths Dataset](https://github.com/nytimes/covid-19-data)"
   ]
  },
  {
   "cell_type": "code",
   "execution_count": null,
   "metadata": {},
   "outputs": [],
   "source": []
  }
 ],
 "metadata": {
  "kernelspec": {
   "display_name": "Python 3",
   "language": "python",
   "name": "python3"
  },
  "language_info": {
   "codemirror_mode": {
    "name": "ipython",
    "version": 3
   },
   "file_extension": ".py",
   "mimetype": "text/x-python",
   "name": "python",
   "nbconvert_exporter": "python",
   "pygments_lexer": "ipython3",
   "version": "3.7.6"
  }
 },
 "nbformat": 4,
 "nbformat_minor": 4
}
