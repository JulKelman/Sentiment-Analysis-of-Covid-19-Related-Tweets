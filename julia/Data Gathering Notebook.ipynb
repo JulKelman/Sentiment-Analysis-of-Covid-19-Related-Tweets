{
 "cells": [
  {
   "cell_type": "markdown",
   "metadata": {},
   "source": [
    "# Sentiment Analysis of Covid-19 Related Tweets based on Geographic Location and State Policies\n",
    "\n",
    "#### Authors: Steve Diamond [(GitHub)](ttps://github.com/ssdiam2000), Markell Jones-Francis [(GitHub)](https://git.generalassemb.ly/markelljones-francis), and Julia Kelman [(GitHub)](https://git.generalassemb.ly/julia-kelman/)"
   ]
  },
  {
   "cell_type": "markdown",
   "metadata": {},
   "source": [
    "## Loading Libraries"
   ]
  },
  {
   "cell_type": "code",
   "execution_count": 1,
   "metadata": {},
   "outputs": [
    {
     "name": "stdout",
     "output_type": "stream",
     "text": [
      "Requirement already satisfied: twitterscraper in /opt/anaconda3/envs/DSI/lib/python3.7/site-packages (1.4.0)\n",
      "Requirement already satisfied: billiard in /opt/anaconda3/envs/DSI/lib/python3.7/site-packages (from twitterscraper) (3.6.3.0)\n",
      "Requirement already satisfied: bs4 in /opt/anaconda3/envs/DSI/lib/python3.7/site-packages (from twitterscraper) (0.0.1)\n",
      "Requirement already satisfied: lxml in /opt/anaconda3/envs/DSI/lib/python3.7/site-packages (from twitterscraper) (4.5.0)\n",
      "Requirement already satisfied: coala-utils~=0.5.0 in /opt/anaconda3/envs/DSI/lib/python3.7/site-packages (from twitterscraper) (0.5.1)\n",
      "Requirement already satisfied: requests in /opt/anaconda3/envs/DSI/lib/python3.7/site-packages (from twitterscraper) (2.23.0)\n",
      "Requirement already satisfied: beautifulsoup4 in /opt/anaconda3/envs/DSI/lib/python3.7/site-packages (from bs4->twitterscraper) (4.8.2)\n",
      "Requirement already satisfied: chardet<4,>=3.0.2 in /opt/anaconda3/envs/DSI/lib/python3.7/site-packages (from requests->twitterscraper) (3.0.4)\n",
      "Requirement already satisfied: certifi>=2017.4.17 in /opt/anaconda3/envs/DSI/lib/python3.7/site-packages (from requests->twitterscraper) (2020.4.5.1)\n",
      "Requirement already satisfied: idna<3,>=2.5 in /opt/anaconda3/envs/DSI/lib/python3.7/site-packages (from requests->twitterscraper) (2.8)\n",
      "Requirement already satisfied: urllib3!=1.25.0,!=1.25.1,<1.26,>=1.21.1 in /opt/anaconda3/envs/DSI/lib/python3.7/site-packages (from requests->twitterscraper) (1.25.8)\n",
      "Requirement already satisfied: soupsieve>=1.2 in /opt/anaconda3/envs/DSI/lib/python3.7/site-packages (from beautifulsoup4->bs4->twitterscraper) (1.9.5)\n",
      "Note: you may need to restart the kernel to use updated packages.\n"
     ]
    }
   ],
   "source": [
    "pip install twitterscraper"
   ]
  },
  {
   "cell_type": "code",
   "execution_count": 2,
   "metadata": {},
   "outputs": [
    {
     "name": "stderr",
     "output_type": "stream",
     "text": [
      "INFO: {'User-Agent': 'Opera/9.80 (X11; Linux i686; Ubuntu/14.10) Presto/2.12.388 Version/12.16'}\n"
     ]
    }
   ],
   "source": [
    "import pandas as pd\n",
    "import requests\n",
    "from bs4 import BeautifulSoup\n",
    "import twitterscraper as ts\n",
    "from twitterscraper.tweet import Tweet\n",
    "from time import strftime, localtime\n",
    "import json"
   ]
  },
  {
   "cell_type": "markdown",
   "metadata": {},
   "source": [
    "## Gathering Twitter Data"
   ]
  },
  {
   "cell_type": "markdown",
   "metadata": {},
   "source": [
    "We will use a publically available dataset created by Rabindra Lamsal and available [here](https://ieee-dataport.org/open-access/corona-virus-covid-19-geolocation-based-sentiment-data) (more specifically, the `april28-may6.csv` file was used). This data provides tweet IDs and sentiment scores for tweets posted between April 28th and May 6th 2020 which mentioned anything about \"corona\", \"covid-19\", \"coronavirus\" or the variants of \"sars-cov-2\" and have location information available.  \n",
    "Complying with Twitter's data sharing policy, only the tweet IDs were shared in the original dataset. As a result, we need to hydrate these IDs using twitterscrapper in order to retrive the content of the tweet and location information. This information then needs to be saved in a new dataframe. "
   ]
  },
  {
   "cell_type": "markdown",
   "metadata": {},
   "source": [
    "### Loading Tweet Id and Sentiment Score Data"
   ]
  },
  {
   "cell_type": "code",
   "execution_count": 3,
   "metadata": {},
   "outputs": [
    {
     "data": {
      "text/html": [
       "<div>\n",
       "<style scoped>\n",
       "    .dataframe tbody tr th:only-of-type {\n",
       "        vertical-align: middle;\n",
       "    }\n",
       "\n",
       "    .dataframe tbody tr th {\n",
       "        vertical-align: top;\n",
       "    }\n",
       "\n",
       "    .dataframe thead th {\n",
       "        text-align: right;\n",
       "    }\n",
       "</style>\n",
       "<table border=\"1\" class=\"dataframe\">\n",
       "  <thead>\n",
       "    <tr style=\"text-align: right;\">\n",
       "      <th></th>\n",
       "      <th>tweet_id</th>\n",
       "      <th>sentiment_score</th>\n",
       "    </tr>\n",
       "  </thead>\n",
       "  <tbody>\n",
       "    <tr>\n",
       "      <th>0</th>\n",
       "      <td>1254995208888094721</td>\n",
       "      <td>0.0000</td>\n",
       "    </tr>\n",
       "    <tr>\n",
       "      <th>1</th>\n",
       "      <td>1254995485452050438</td>\n",
       "      <td>0.0000</td>\n",
       "    </tr>\n",
       "    <tr>\n",
       "      <th>2</th>\n",
       "      <td>1254995705527177216</td>\n",
       "      <td>0.5250</td>\n",
       "    </tr>\n",
       "    <tr>\n",
       "      <th>3</th>\n",
       "      <td>1254995868333289475</td>\n",
       "      <td>0.2875</td>\n",
       "    </tr>\n",
       "    <tr>\n",
       "      <th>4</th>\n",
       "      <td>1254996123514789893</td>\n",
       "      <td>0.0000</td>\n",
       "    </tr>\n",
       "  </tbody>\n",
       "</table>\n",
       "</div>"
      ],
      "text/plain": [
       "              tweet_id  sentiment_score\n",
       "0  1254995208888094721           0.0000\n",
       "1  1254995485452050438           0.0000\n",
       "2  1254995705527177216           0.5250\n",
       "3  1254995868333289475           0.2875\n",
       "4  1254996123514789893           0.0000"
      ]
     },
     "execution_count": 3,
     "metadata": {},
     "output_type": "execute_result"
    }
   ],
   "source": [
    "tweets_id = pd.read_csv(\"./april28-may6.csv\", header=None)\n",
    "tweets_id.rename(columns={0:'tweet_id', 1:'sentiment_score'}, inplace=True)\n",
    "tweets_id.head()"
   ]
  },
  {
   "cell_type": "markdown",
   "metadata": {},
   "source": [
    "### Getting Original Tweet and Location Function"
   ]
  },
  {
   "cell_type": "code",
   "execution_count": 4,
   "metadata": {},
   "outputs": [],
   "source": [
    "def get_tweet_df(df):\n",
    "    tweets = []          # creates list to store Tweet objects                                                     \n",
    "    locations = []       # creates list to store scraped location data\n",
    "    deleted_tweets = 0   # starts counter for deleted tweets if tweet can no longer be reached\n",
    "    \n",
    "    # loops through each tweet_id in the imported dataframe of tweet_id\n",
    "    for tweet_id in df['tweet_id']:\n",
    "        url = f'https://twitter.com/anyuser/status/{tweet_id}'    # sets url to the tweet - tweet urls do not need a specified user\n",
    "        res = requests.get(url)                                   # request for tweet url\n",
    "        soup = BeautifulSoup(res.content, 'lxml')                 # creates beautifulsoup object for the webpage of the tweet\n",
    "        # attempts to create tweet object using beautifulsoup object\n",
    "        # and adds location based on location scrape from beatifulsoup object\n",
    "        try:                                              \n",
    "            tweets.append(Tweet.from_soup(soup))\n",
    "            locations.append(soup.find('span', 'permalink-tweet-geo-text').text[12: -1])\n",
    "        # adds to deleted_tweets counter if tweet url does not exist\n",
    "        except:\n",
    "            deleted_tweets += 1\n",
    "    print(f'Deleted Tweets = {deleted_tweets}')                   # prints number of deleted tweets in dataframe\n",
    "    tweet_df = pd.DataFrame(t.__dict__ for t in tweets)           # creates dataframe using tweet objects in tweets list\n",
    "    tweet_df = tweet_df.astype({'tweet_id': 'int64'})             # converts tweet_id from str to int so it can be merged to id_df\n",
    "    # dropping columns that are note useful for our analysis\n",
    "    tweet_df.drop(columns = ['user_id', 'tweet_url',\n",
    "        'timestamp_epochs', 'text_html', 'links',\n",
    "        'has_media', 'img_urls', 'video_url', 'is_replied', 'is_reply_to', 'parent_tweet_id',\n",
    "       'reply_to_users'], inplace = True)\n",
    "    # merge original df to new df to keep sentiment score\n",
    "    tweet_df = pd.merge(left = tweet_df, right = df, on = 'tweet_id')  \n",
    "    # create dataframe of locations from list of scraped locations\n",
    "    location_df = pd.DataFrame(locations, columns = ['location'])       \n",
    "    # merge locations dataframe onto tweets dataframe with sentiments\n",
    "    # merge on index because the index is the same\n",
    "    tweet_df = pd.merge(tweet_df, location_df, left_index= True, right_index = True) \n",
    "    # creates city column by using the location value up to the last word - which is the state (or country if outside of the US) \n",
    "    # removes the comma at the end of the city name\n",
    "    tweet_df['city'] = [' '.join(loc.split()[:-1:]).replace(',', '') for loc in tweet_df['location']]\n",
    "    # creates state column by taking the last word of the location value - (returns the country if location is outside US)\n",
    "    tweet_df['state'] = [loc.split()[-1] for loc in tweet_df['location']]\n",
    "    # removes location column as it is no longer neccessary\n",
    "    tweet_df.drop(columns = ['location'], inplace = True)\n",
    "    return tweet_df"
   ]
  },
  {
   "cell_type": "markdown",
   "metadata": {},
   "source": [
    "### Gathering Original Tweet and Location Data"
   ]
  },
  {
   "cell_type": "code",
   "execution_count": 5,
   "metadata": {},
   "outputs": [
    {
     "name": "stdout",
     "output_type": "stream",
     "text": [
      "Deleted Tweets = 419\n"
     ]
    }
   ],
   "source": [
    "tweets = get_tweet_df(tweets_id)"
   ]
  },
  {
   "cell_type": "code",
   "execution_count": 6,
   "metadata": {},
   "outputs": [
    {
     "data": {
      "text/html": [
       "<div>\n",
       "<style scoped>\n",
       "    .dataframe tbody tr th:only-of-type {\n",
       "        vertical-align: middle;\n",
       "    }\n",
       "\n",
       "    .dataframe tbody tr th {\n",
       "        vertical-align: top;\n",
       "    }\n",
       "\n",
       "    .dataframe thead th {\n",
       "        text-align: right;\n",
       "    }\n",
       "</style>\n",
       "<table border=\"1\" class=\"dataframe\">\n",
       "  <thead>\n",
       "    <tr style=\"text-align: right;\">\n",
       "      <th></th>\n",
       "      <th>screen_name</th>\n",
       "      <th>username</th>\n",
       "      <th>tweet_id</th>\n",
       "      <th>timestamp</th>\n",
       "      <th>text</th>\n",
       "      <th>hashtags</th>\n",
       "      <th>likes</th>\n",
       "      <th>retweets</th>\n",
       "      <th>replies</th>\n",
       "      <th>sentiment_score</th>\n",
       "      <th>city</th>\n",
       "      <th>state</th>\n",
       "    </tr>\n",
       "  </thead>\n",
       "  <tbody>\n",
       "    <tr>\n",
       "      <th>0</th>\n",
       "      <td>ChefHosea</td>\n",
       "      <td>Hosea Rosenberg</td>\n",
       "      <td>1254995208888094721</td>\n",
       "      <td>2020-04-28 04:45:49</td>\n",
       "      <td>Xmas in April covid19 edition @santoboulder #b...</td>\n",
       "      <td>[burrito, xmas, smotheredburrito, greenchile, ...</td>\n",
       "      <td>1</td>\n",
       "      <td>0</td>\n",
       "      <td>0</td>\n",
       "      <td>0.0000</td>\n",
       "      <td>Boulder</td>\n",
       "      <td>CO</td>\n",
       "    </tr>\n",
       "    <tr>\n",
       "      <th>1</th>\n",
       "      <td>Robin4ascii</td>\n",
       "      <td>Robin Hubbard</td>\n",
       "      <td>1254995485452050438</td>\n",
       "      <td>2020-04-28 04:46:55</td>\n",
       "      <td>@QUORA a sample of #Homework Topics Q&amp;A -- ask...</td>\n",
       "      <td>[Homework, schools, collegestudents, universit...</td>\n",
       "      <td>0</td>\n",
       "      <td>0</td>\n",
       "      <td>0</td>\n",
       "      <td>0.0000</td>\n",
       "      <td>Mountain View</td>\n",
       "      <td>CA</td>\n",
       "    </tr>\n",
       "    <tr>\n",
       "      <th>2</th>\n",
       "      <td>iam_ifegbolahan</td>\n",
       "      <td>Ise Owo Omogbolahan</td>\n",
       "      <td>1254995705527177216</td>\n",
       "      <td>2020-04-28 04:47:47</td>\n",
       "      <td>\"There is nothing more beautiful than someone ...</td>\n",
       "      <td>[covid_19, CoronaVirus, Art, IseOwoOmogbolahan...</td>\n",
       "      <td>1</td>\n",
       "      <td>0</td>\n",
       "      <td>0</td>\n",
       "      <td>0.5250</td>\n",
       "      <td>Ikeja</td>\n",
       "      <td>Nigeria</td>\n",
       "    </tr>\n",
       "    <tr>\n",
       "      <th>3</th>\n",
       "      <td>JC_RWRC</td>\n",
       "      <td>J.C.</td>\n",
       "      <td>1254995868333289475</td>\n",
       "      <td>2020-04-28 04:48:26</td>\n",
       "      <td>Another one in the books today for an AMAZING ...</td>\n",
       "      <td>[]</td>\n",
       "      <td>0</td>\n",
       "      <td>0</td>\n",
       "      <td>0</td>\n",
       "      <td>0.2875</td>\n",
       "      <td>Jonesboro</td>\n",
       "      <td>AR</td>\n",
       "    </tr>\n",
       "    <tr>\n",
       "      <th>4</th>\n",
       "      <td>harsh05710408</td>\n",
       "      <td>harsh vyas</td>\n",
       "      <td>1254996123514789893</td>\n",
       "      <td>2020-04-28 04:49:27</td>\n",
       "      <td>#gvkemri to fight against #covid19 @ GVK Emri ...</td>\n",
       "      <td>[gvkemri, covid19]</td>\n",
       "      <td>0</td>\n",
       "      <td>0</td>\n",
       "      <td>0</td>\n",
       "      <td>0.0000</td>\n",
       "      <td>Medchal</td>\n",
       "      <td>India</td>\n",
       "    </tr>\n",
       "  </tbody>\n",
       "</table>\n",
       "</div>"
      ],
      "text/plain": [
       "       screen_name             username             tweet_id  \\\n",
       "0        ChefHosea      Hosea Rosenberg  1254995208888094721   \n",
       "1      Robin4ascii        Robin Hubbard  1254995485452050438   \n",
       "2  iam_ifegbolahan  Ise Owo Omogbolahan  1254995705527177216   \n",
       "3          JC_RWRC                 J.C.  1254995868333289475   \n",
       "4    harsh05710408           harsh vyas  1254996123514789893   \n",
       "\n",
       "            timestamp                                               text  \\\n",
       "0 2020-04-28 04:45:49  Xmas in April covid19 edition @santoboulder #b...   \n",
       "1 2020-04-28 04:46:55  @QUORA a sample of #Homework Topics Q&A -- ask...   \n",
       "2 2020-04-28 04:47:47  \"There is nothing more beautiful than someone ...   \n",
       "3 2020-04-28 04:48:26  Another one in the books today for an AMAZING ...   \n",
       "4 2020-04-28 04:49:27  #gvkemri to fight against #covid19 @ GVK Emri ...   \n",
       "\n",
       "                                            hashtags  likes  retweets  \\\n",
       "0  [burrito, xmas, smotheredburrito, greenchile, ...      1         0   \n",
       "1  [Homework, schools, collegestudents, universit...      0         0   \n",
       "2  [covid_19, CoronaVirus, Art, IseOwoOmogbolahan...      1         0   \n",
       "3                                                 []      0         0   \n",
       "4                                 [gvkemri, covid19]      0         0   \n",
       "\n",
       "   replies  sentiment_score           city    state  \n",
       "0        0           0.0000        Boulder       CO  \n",
       "1        0           0.0000  Mountain View       CA  \n",
       "2        0           0.5250          Ikeja  Nigeria  \n",
       "3        0           0.2875      Jonesboro       AR  \n",
       "4        0           0.0000        Medchal    India  "
      ]
     },
     "execution_count": 6,
     "metadata": {},
     "output_type": "execute_result"
    }
   ],
   "source": [
    "tweets.head()"
   ]
  },
  {
   "cell_type": "code",
   "execution_count": 10,
   "metadata": {},
   "outputs": [
    {
     "data": {
      "text/plain": [
       "(12898, 12)"
      ]
     },
     "execution_count": 10,
     "metadata": {},
     "output_type": "execute_result"
    }
   ],
   "source": [
    "tweets.shape"
   ]
  },
  {
   "cell_type": "markdown",
   "metadata": {},
   "source": [
    "#### Saving this Data as a .CSV File "
   ]
  },
  {
   "cell_type": "code",
   "execution_count": null,
   "metadata": {},
   "outputs": [],
   "source": [
    "#tweets.to_csv(\"../data/tweets_all.csv\", index = False)"
   ]
  },
  {
   "cell_type": "markdown",
   "metadata": {},
   "source": [
    "### Selecting Tweets from Specific States Function"
   ]
  },
  {
   "cell_type": "code",
   "execution_count": 7,
   "metadata": {},
   "outputs": [],
   "source": [
    "# extract specific states from the cleaned data\n",
    "def get_states(data, states = []):\n",
    "    # instantiate empty list to place the dataframe of each state\n",
    "    df_list = []\n",
    "    # loop through the provided list of states and add the dataframe containing each state to the dataframe list\n",
    "    for i, state in enumerate(states):\n",
    "        df = data.loc[data['state'] == state]\n",
    "        df_list.append(df)\n",
    "    # create new dataframe by concatenating each dataframe in the datafame list\n",
    "    new_df = pd.concat(objs = df_list)\n",
    "    #return the dataframe of specified states\n",
    "    return new_df"
   ]
  },
  {
   "cell_type": "markdown",
   "metadata": {},
   "source": [
    "### Selecting Tweets from New York and Texas"
   ]
  },
  {
   "cell_type": "code",
   "execution_count": 8,
   "metadata": {
    "scrolled": false
   },
   "outputs": [
    {
     "data": {
      "text/html": [
       "<div>\n",
       "<style scoped>\n",
       "    .dataframe tbody tr th:only-of-type {\n",
       "        vertical-align: middle;\n",
       "    }\n",
       "\n",
       "    .dataframe tbody tr th {\n",
       "        vertical-align: top;\n",
       "    }\n",
       "\n",
       "    .dataframe thead th {\n",
       "        text-align: right;\n",
       "    }\n",
       "</style>\n",
       "<table border=\"1\" class=\"dataframe\">\n",
       "  <thead>\n",
       "    <tr style=\"text-align: right;\">\n",
       "      <th></th>\n",
       "      <th>screen_name</th>\n",
       "      <th>username</th>\n",
       "      <th>tweet_id</th>\n",
       "      <th>timestamp</th>\n",
       "      <th>text</th>\n",
       "      <th>hashtags</th>\n",
       "      <th>likes</th>\n",
       "      <th>retweets</th>\n",
       "      <th>replies</th>\n",
       "      <th>sentiment_score</th>\n",
       "      <th>city</th>\n",
       "      <th>state</th>\n",
       "    </tr>\n",
       "  </thead>\n",
       "  <tbody>\n",
       "    <tr>\n",
       "      <th>5</th>\n",
       "      <td>BillBodouva</td>\n",
       "      <td>Real Estate BuyerRep</td>\n",
       "      <td>1254996305082036224</td>\n",
       "      <td>2020-04-28 04:50:10</td>\n",
       "      <td>Happy Birthday Mom!  You wouldn’t believe what...</td>\n",
       "      <td>[bestmom, bestfriend, happybirthday, 1son, cov...</td>\n",
       "      <td>0</td>\n",
       "      <td>0</td>\n",
       "      <td>0</td>\n",
       "      <td>0.313973</td>\n",
       "      <td>Sands Point</td>\n",
       "      <td>NY</td>\n",
       "    </tr>\n",
       "    <tr>\n",
       "      <th>13</th>\n",
       "      <td>zagnut99</td>\n",
       "      <td>Frank Zagottis</td>\n",
       "      <td>1254999586302820353</td>\n",
       "      <td>2020-04-28 05:03:12</td>\n",
       "      <td>Isolation dinners continue with Isabel’s roast...</td>\n",
       "      <td>[Dinner, Chicken, Isolation, IsolationDinner, ...</td>\n",
       "      <td>0</td>\n",
       "      <td>0</td>\n",
       "      <td>0</td>\n",
       "      <td>-0.600000</td>\n",
       "      <td>Queens</td>\n",
       "      <td>NY</td>\n",
       "    </tr>\n",
       "    <tr>\n",
       "      <th>23</th>\n",
       "      <td>johnnybebad666_</td>\n",
       "      <td>John Fitzgerald Kennedy Page®</td>\n",
       "      <td>1255004404723462146</td>\n",
       "      <td>2020-04-28 05:22:21</td>\n",
       "      <td>COVID-19 update \\nThis MTA BUS didn't pick me ...</td>\n",
       "      <td>[]</td>\n",
       "      <td>0</td>\n",
       "      <td>0</td>\n",
       "      <td>0</td>\n",
       "      <td>0.000000</td>\n",
       "      <td>Queens</td>\n",
       "      <td>NY</td>\n",
       "    </tr>\n",
       "    <tr>\n",
       "      <th>26</th>\n",
       "      <td>juanjeremy100</td>\n",
       "      <td>Cornerman Juan Jeremy</td>\n",
       "      <td>1255006251676831744</td>\n",
       "      <td>2020-04-28 05:29:41</td>\n",
       "      <td>When the #Cornerman confronts #COVID19 #Pneumo...</td>\n",
       "      <td>[Cornerman, COVID19, Pneumonia, coronavirus, c...</td>\n",
       "      <td>3</td>\n",
       "      <td>1</td>\n",
       "      <td>0</td>\n",
       "      <td>0.000000</td>\n",
       "      <td>Brooklyn</td>\n",
       "      <td>NY</td>\n",
       "    </tr>\n",
       "    <tr>\n",
       "      <th>239</th>\n",
       "      <td>officialdanek</td>\n",
       "      <td>Danèk</td>\n",
       "      <td>1255067181924134913</td>\n",
       "      <td>2020-04-28 09:31:48</td>\n",
       "      <td>Just chilling by the fire!  breeeee.x \\n.\\n.\\n...</td>\n",
       "      <td>[model, instagram, tiktok, picoftheday, ootd, ...</td>\n",
       "      <td>0</td>\n",
       "      <td>0</td>\n",
       "      <td>0</td>\n",
       "      <td>-0.262500</td>\n",
       "      <td>Manhattan</td>\n",
       "      <td>NY</td>\n",
       "    </tr>\n",
       "  </tbody>\n",
       "</table>\n",
       "</div>"
      ],
      "text/plain": [
       "         screen_name                       username             tweet_id  \\\n",
       "5        BillBodouva           Real Estate BuyerRep  1254996305082036224   \n",
       "13          zagnut99                 Frank Zagottis  1254999586302820353   \n",
       "23   johnnybebad666_  John Fitzgerald Kennedy Page®  1255004404723462146   \n",
       "26     juanjeremy100          Cornerman Juan Jeremy  1255006251676831744   \n",
       "239    officialdanek                          Danèk  1255067181924134913   \n",
       "\n",
       "              timestamp                                               text  \\\n",
       "5   2020-04-28 04:50:10  Happy Birthday Mom!  You wouldn’t believe what...   \n",
       "13  2020-04-28 05:03:12  Isolation dinners continue with Isabel’s roast...   \n",
       "23  2020-04-28 05:22:21  COVID-19 update \\nThis MTA BUS didn't pick me ...   \n",
       "26  2020-04-28 05:29:41  When the #Cornerman confronts #COVID19 #Pneumo...   \n",
       "239 2020-04-28 09:31:48  Just chilling by the fire!  breeeee.x \\n.\\n.\\n...   \n",
       "\n",
       "                                              hashtags  likes  retweets  \\\n",
       "5    [bestmom, bestfriend, happybirthday, 1son, cov...      0         0   \n",
       "13   [Dinner, Chicken, Isolation, IsolationDinner, ...      0         0   \n",
       "23                                                  []      0         0   \n",
       "26   [Cornerman, COVID19, Pneumonia, coronavirus, c...      3         1   \n",
       "239  [model, instagram, tiktok, picoftheday, ootd, ...      0         0   \n",
       "\n",
       "     replies  sentiment_score         city state  \n",
       "5          0         0.313973  Sands Point    NY  \n",
       "13         0        -0.600000       Queens    NY  \n",
       "23         0         0.000000       Queens    NY  \n",
       "26         0         0.000000     Brooklyn    NY  \n",
       "239        0        -0.262500    Manhattan    NY  "
      ]
     },
     "execution_count": 8,
     "metadata": {},
     "output_type": "execute_result"
    }
   ],
   "source": [
    "tweets_ny_tx = get_states(tweets, states=['NY', 'TX'])\n",
    "tweets_ny_tx.head()"
   ]
  },
  {
   "cell_type": "code",
   "execution_count": 11,
   "metadata": {},
   "outputs": [
    {
     "data": {
      "text/plain": [
       "(1731, 12)"
      ]
     },
     "execution_count": 11,
     "metadata": {},
     "output_type": "execute_result"
    }
   ],
   "source": [
    "tweets_ny_tx.shape"
   ]
  },
  {
   "cell_type": "markdown",
   "metadata": {},
   "source": [
    "#### Saving this Data in a .CSV File "
   ]
  },
  {
   "cell_type": "code",
   "execution_count": null,
   "metadata": {},
   "outputs": [],
   "source": [
    "#tweets_ny_tx.to_csv(\"../data/tweets_ny_tx.csv\", index = False)"
   ]
  },
  {
   "cell_type": "markdown",
   "metadata": {},
   "source": [
    "## Gatherting Covid-19 Occurences Data "
   ]
  },
  {
   "cell_type": "markdown",
   "metadata": {},
   "source": [
    "We will use a publically available dataset created by The New York Times and available [here](https://github.com/nytimes/covid-19-data). The New York Times provides information about the number of Covid-19 cases and deaths at the country, state, and county level. More specifically we used the `us-states.csv` and `us-counties.csv` files downloaded on 5/7/2020 and providing information up to 5/6/2020."
   ]
  },
  {
   "cell_type": "code",
   "execution_count": 14,
   "metadata": {},
   "outputs": [
    {
     "data": {
      "text/html": [
       "<div>\n",
       "<style scoped>\n",
       "    .dataframe tbody tr th:only-of-type {\n",
       "        vertical-align: middle;\n",
       "    }\n",
       "\n",
       "    .dataframe tbody tr th {\n",
       "        vertical-align: top;\n",
       "    }\n",
       "\n",
       "    .dataframe thead th {\n",
       "        text-align: right;\n",
       "    }\n",
       "</style>\n",
       "<table border=\"1\" class=\"dataframe\">\n",
       "  <thead>\n",
       "    <tr style=\"text-align: right;\">\n",
       "      <th></th>\n",
       "      <th>date</th>\n",
       "      <th>state</th>\n",
       "      <th>fips</th>\n",
       "      <th>cases</th>\n",
       "      <th>deaths</th>\n",
       "    </tr>\n",
       "  </thead>\n",
       "  <tbody>\n",
       "    <tr>\n",
       "      <th>0</th>\n",
       "      <td>2020-01-21</td>\n",
       "      <td>Washington</td>\n",
       "      <td>53</td>\n",
       "      <td>1</td>\n",
       "      <td>0</td>\n",
       "    </tr>\n",
       "    <tr>\n",
       "      <th>1</th>\n",
       "      <td>2020-01-22</td>\n",
       "      <td>Washington</td>\n",
       "      <td>53</td>\n",
       "      <td>1</td>\n",
       "      <td>0</td>\n",
       "    </tr>\n",
       "    <tr>\n",
       "      <th>2</th>\n",
       "      <td>2020-01-23</td>\n",
       "      <td>Washington</td>\n",
       "      <td>53</td>\n",
       "      <td>1</td>\n",
       "      <td>0</td>\n",
       "    </tr>\n",
       "    <tr>\n",
       "      <th>3</th>\n",
       "      <td>2020-01-24</td>\n",
       "      <td>Illinois</td>\n",
       "      <td>17</td>\n",
       "      <td>1</td>\n",
       "      <td>0</td>\n",
       "    </tr>\n",
       "    <tr>\n",
       "      <th>4</th>\n",
       "      <td>2020-01-24</td>\n",
       "      <td>Washington</td>\n",
       "      <td>53</td>\n",
       "      <td>1</td>\n",
       "      <td>0</td>\n",
       "    </tr>\n",
       "  </tbody>\n",
       "</table>\n",
       "</div>"
      ],
      "text/plain": [
       "         date       state  fips  cases  deaths\n",
       "0  2020-01-21  Washington    53      1       0\n",
       "1  2020-01-22  Washington    53      1       0\n",
       "2  2020-01-23  Washington    53      1       0\n",
       "3  2020-01-24    Illinois    17      1       0\n",
       "4  2020-01-24  Washington    53      1       0"
      ]
     },
     "execution_count": 14,
     "metadata": {},
     "output_type": "execute_result"
    }
   ],
   "source": [
    "covid_states = pd.read_csv(\"./us-states.csv\")\n",
    "covid_states.head()"
   ]
  },
  {
   "cell_type": "code",
   "execution_count": 17,
   "metadata": {
    "scrolled": true
   },
   "outputs": [
    {
     "data": {
      "text/html": [
       "<div>\n",
       "<style scoped>\n",
       "    .dataframe tbody tr th:only-of-type {\n",
       "        vertical-align: middle;\n",
       "    }\n",
       "\n",
       "    .dataframe tbody tr th {\n",
       "        vertical-align: top;\n",
       "    }\n",
       "\n",
       "    .dataframe thead th {\n",
       "        text-align: right;\n",
       "    }\n",
       "</style>\n",
       "<table border=\"1\" class=\"dataframe\">\n",
       "  <thead>\n",
       "    <tr style=\"text-align: right;\">\n",
       "      <th></th>\n",
       "      <th>date</th>\n",
       "      <th>county</th>\n",
       "      <th>state</th>\n",
       "      <th>fips</th>\n",
       "      <th>cases</th>\n",
       "      <th>deaths</th>\n",
       "    </tr>\n",
       "  </thead>\n",
       "  <tbody>\n",
       "    <tr>\n",
       "      <th>0</th>\n",
       "      <td>2020-01-21</td>\n",
       "      <td>Snohomish</td>\n",
       "      <td>Washington</td>\n",
       "      <td>53061.0</td>\n",
       "      <td>1</td>\n",
       "      <td>0</td>\n",
       "    </tr>\n",
       "    <tr>\n",
       "      <th>1</th>\n",
       "      <td>2020-01-22</td>\n",
       "      <td>Snohomish</td>\n",
       "      <td>Washington</td>\n",
       "      <td>53061.0</td>\n",
       "      <td>1</td>\n",
       "      <td>0</td>\n",
       "    </tr>\n",
       "    <tr>\n",
       "      <th>2</th>\n",
       "      <td>2020-01-23</td>\n",
       "      <td>Snohomish</td>\n",
       "      <td>Washington</td>\n",
       "      <td>53061.0</td>\n",
       "      <td>1</td>\n",
       "      <td>0</td>\n",
       "    </tr>\n",
       "    <tr>\n",
       "      <th>3</th>\n",
       "      <td>2020-01-24</td>\n",
       "      <td>Cook</td>\n",
       "      <td>Illinois</td>\n",
       "      <td>17031.0</td>\n",
       "      <td>1</td>\n",
       "      <td>0</td>\n",
       "    </tr>\n",
       "    <tr>\n",
       "      <th>4</th>\n",
       "      <td>2020-01-24</td>\n",
       "      <td>Snohomish</td>\n",
       "      <td>Washington</td>\n",
       "      <td>53061.0</td>\n",
       "      <td>1</td>\n",
       "      <td>0</td>\n",
       "    </tr>\n",
       "  </tbody>\n",
       "</table>\n",
       "</div>"
      ],
      "text/plain": [
       "         date     county       state     fips  cases  deaths\n",
       "0  2020-01-21  Snohomish  Washington  53061.0      1       0\n",
       "1  2020-01-22  Snohomish  Washington  53061.0      1       0\n",
       "2  2020-01-23  Snohomish  Washington  53061.0      1       0\n",
       "3  2020-01-24       Cook    Illinois  17031.0      1       0\n",
       "4  2020-01-24  Snohomish  Washington  53061.0      1       0"
      ]
     },
     "execution_count": 17,
     "metadata": {},
     "output_type": "execute_result"
    }
   ],
   "source": [
    "covid_counties = pd.read_csv(\"./us-counties.csv\")\n",
    "covid_counties.head()"
   ]
  },
  {
   "cell_type": "markdown",
   "metadata": {},
   "source": [
    "### Selecting Covid-19 Data for New York and Texas"
   ]
  },
  {
   "cell_type": "code",
   "execution_count": 19,
   "metadata": {},
   "outputs": [],
   "source": [
    "covid_states_ny_tx_all_dates = get_states(covid_states, states=['New York', 'Texas']) "
   ]
  },
  {
   "cell_type": "code",
   "execution_count": 20,
   "metadata": {},
   "outputs": [],
   "source": [
    "covid_counties_ny_tx_all_dates = get_states(covid_counties, states=['New York', 'Texas'])"
   ]
  },
  {
   "cell_type": "markdown",
   "metadata": {},
   "source": [
    "### Selecting Information from April 28th to May 6th 2020"
   ]
  },
  {
   "cell_type": "code",
   "execution_count": 22,
   "metadata": {},
   "outputs": [],
   "source": [
    "def get_dates(data):\n",
    "    data_date = data[data['date']>='2020-04-28']\n",
    "    return data_date"
   ]
  },
  {
   "cell_type": "code",
   "execution_count": 50,
   "metadata": {
    "scrolled": true
   },
   "outputs": [
    {
     "data": {
      "text/html": [
       "<div>\n",
       "<style scoped>\n",
       "    .dataframe tbody tr th:only-of-type {\n",
       "        vertical-align: middle;\n",
       "    }\n",
       "\n",
       "    .dataframe tbody tr th {\n",
       "        vertical-align: top;\n",
       "    }\n",
       "\n",
       "    .dataframe thead th {\n",
       "        text-align: right;\n",
       "    }\n",
       "</style>\n",
       "<table border=\"1\" class=\"dataframe\">\n",
       "  <thead>\n",
       "    <tr style=\"text-align: right;\">\n",
       "      <th></th>\n",
       "      <th>date</th>\n",
       "      <th>state</th>\n",
       "      <th>fips</th>\n",
       "      <th>cases</th>\n",
       "      <th>deaths</th>\n",
       "    </tr>\n",
       "  </thead>\n",
       "  <tbody>\n",
       "    <tr>\n",
       "      <th>3127</th>\n",
       "      <td>2020-04-28</td>\n",
       "      <td>New York</td>\n",
       "      <td>36</td>\n",
       "      <td>295137</td>\n",
       "      <td>17638</td>\n",
       "    </tr>\n",
       "    <tr>\n",
       "      <th>3182</th>\n",
       "      <td>2020-04-29</td>\n",
       "      <td>New York</td>\n",
       "      <td>36</td>\n",
       "      <td>299722</td>\n",
       "      <td>18015</td>\n",
       "    </tr>\n",
       "    <tr>\n",
       "      <th>3237</th>\n",
       "      <td>2020-04-30</td>\n",
       "      <td>New York</td>\n",
       "      <td>36</td>\n",
       "      <td>304401</td>\n",
       "      <td>18321</td>\n",
       "    </tr>\n",
       "    <tr>\n",
       "      <th>3292</th>\n",
       "      <td>2020-05-01</td>\n",
       "      <td>New York</td>\n",
       "      <td>36</td>\n",
       "      <td>308345</td>\n",
       "      <td>18610</td>\n",
       "    </tr>\n",
       "    <tr>\n",
       "      <th>3347</th>\n",
       "      <td>2020-05-02</td>\n",
       "      <td>New York</td>\n",
       "      <td>36</td>\n",
       "      <td>313008</td>\n",
       "      <td>18909</td>\n",
       "    </tr>\n",
       "  </tbody>\n",
       "</table>\n",
       "</div>"
      ],
      "text/plain": [
       "            date     state  fips   cases  deaths\n",
       "3127  2020-04-28  New York    36  295137   17638\n",
       "3182  2020-04-29  New York    36  299722   18015\n",
       "3237  2020-04-30  New York    36  304401   18321\n",
       "3292  2020-05-01  New York    36  308345   18610\n",
       "3347  2020-05-02  New York    36  313008   18909"
      ]
     },
     "execution_count": 50,
     "metadata": {},
     "output_type": "execute_result"
    }
   ],
   "source": [
    "covid_states_ny_tx = get_dates(covid_states_ny_tx_all_dates)\n",
    "covid_states_ny_tx.head()"
   ]
  },
  {
   "cell_type": "code",
   "execution_count": 51,
   "metadata": {},
   "outputs": [
    {
     "data": {
      "text/plain": [
       "(18, 5)"
      ]
     },
     "execution_count": 51,
     "metadata": {},
     "output_type": "execute_result"
    }
   ],
   "source": [
    "covid_states_ny_tx.shape"
   ]
  },
  {
   "cell_type": "code",
   "execution_count": 52,
   "metadata": {
    "scrolled": true
   },
   "outputs": [
    {
     "data": {
      "text/html": [
       "<div>\n",
       "<style scoped>\n",
       "    .dataframe tbody tr th:only-of-type {\n",
       "        vertical-align: middle;\n",
       "    }\n",
       "\n",
       "    .dataframe tbody tr th {\n",
       "        vertical-align: top;\n",
       "    }\n",
       "\n",
       "    .dataframe thead th {\n",
       "        text-align: right;\n",
       "    }\n",
       "</style>\n",
       "<table border=\"1\" class=\"dataframe\">\n",
       "  <thead>\n",
       "    <tr style=\"text-align: right;\">\n",
       "      <th></th>\n",
       "      <th>date</th>\n",
       "      <th>county</th>\n",
       "      <th>state</th>\n",
       "      <th>fips</th>\n",
       "      <th>cases</th>\n",
       "      <th>deaths</th>\n",
       "    </tr>\n",
       "  </thead>\n",
       "  <tbody>\n",
       "    <tr>\n",
       "      <th>96890</th>\n",
       "      <td>2020-04-28</td>\n",
       "      <td>Albany</td>\n",
       "      <td>New York</td>\n",
       "      <td>36001.0</td>\n",
       "      <td>1009</td>\n",
       "      <td>45</td>\n",
       "    </tr>\n",
       "    <tr>\n",
       "      <th>96891</th>\n",
       "      <td>2020-04-28</td>\n",
       "      <td>Allegany</td>\n",
       "      <td>New York</td>\n",
       "      <td>36003.0</td>\n",
       "      <td>35</td>\n",
       "      <td>0</td>\n",
       "    </tr>\n",
       "    <tr>\n",
       "      <th>96892</th>\n",
       "      <td>2020-04-28</td>\n",
       "      <td>Broome</td>\n",
       "      <td>New York</td>\n",
       "      <td>36007.0</td>\n",
       "      <td>266</td>\n",
       "      <td>15</td>\n",
       "    </tr>\n",
       "    <tr>\n",
       "      <th>96893</th>\n",
       "      <td>2020-04-28</td>\n",
       "      <td>Cattaraugus</td>\n",
       "      <td>New York</td>\n",
       "      <td>36009.0</td>\n",
       "      <td>45</td>\n",
       "      <td>1</td>\n",
       "    </tr>\n",
       "    <tr>\n",
       "      <th>96894</th>\n",
       "      <td>2020-04-28</td>\n",
       "      <td>Cayuga</td>\n",
       "      <td>New York</td>\n",
       "      <td>36011.0</td>\n",
       "      <td>48</td>\n",
       "      <td>1</td>\n",
       "    </tr>\n",
       "  </tbody>\n",
       "</table>\n",
       "</div>"
      ],
      "text/plain": [
       "             date       county     state     fips  cases  deaths\n",
       "96890  2020-04-28       Albany  New York  36001.0   1009      45\n",
       "96891  2020-04-28     Allegany  New York  36003.0     35       0\n",
       "96892  2020-04-28       Broome  New York  36007.0    266      15\n",
       "96893  2020-04-28  Cattaraugus  New York  36009.0     45       1\n",
       "96894  2020-04-28       Cayuga  New York  36011.0     48       1"
      ]
     },
     "execution_count": 52,
     "metadata": {},
     "output_type": "execute_result"
    }
   ],
   "source": [
    "covid_counties_ny_tx = get_dates(covid_counties_ny_tx_all_dates)\n",
    "covid_counties_ny_tx.head()"
   ]
  },
  {
   "cell_type": "code",
   "execution_count": 53,
   "metadata": {},
   "outputs": [
    {
     "data": {
      "text/plain": [
       "(2425, 6)"
      ]
     },
     "execution_count": 53,
     "metadata": {},
     "output_type": "execute_result"
    }
   ],
   "source": [
    "covid_counties_ny_tx.shape"
   ]
  },
  {
   "cell_type": "markdown",
   "metadata": {},
   "source": [
    "### Combining State and County Data "
   ]
  },
  {
   "cell_type": "code",
   "execution_count": 77,
   "metadata": {},
   "outputs": [],
   "source": [
    "def combine_state_county(state_df, county_df):\n",
    "    df_list = []\n",
    "    # loop through the provided list of states and add the dataframe containing each state to the dataframe list\n",
    "    for state in ['New York', 'Texas']:\n",
    "        state_data = state_df[state_df['state'] == state]\n",
    "        county_data = county_df[county_df['state'] == state]\n",
    "        df = pd.merge(left=county_data, right=state_data, on='date')\n",
    "        df_list.append(df)\n",
    "    # create new dataframe by concatenating each dataframe in the datafame list\n",
    "    new_df = pd.concat(objs = df_list)\n",
    "    new_df.drop(columns=['state_y'], inplace=True)\n",
    "    new_df.rename(columns={'state_x':'state','fips_x':'county_fips', 'cases_x':'county_cases',\n",
    "                           'deaths_x':'county_deaths', 'fips_y':'state_fips',\n",
    "                           'cases_y':'state_cases', 'deaths_y':'state_deaths'}, inplace=True)\n",
    "    #return the dataframe of specified states\n",
    "    return new_df"
   ]
  },
  {
   "cell_type": "code",
   "execution_count": 78,
   "metadata": {
    "scrolled": true
   },
   "outputs": [
    {
     "data": {
      "text/html": [
       "<div>\n",
       "<style scoped>\n",
       "    .dataframe tbody tr th:only-of-type {\n",
       "        vertical-align: middle;\n",
       "    }\n",
       "\n",
       "    .dataframe tbody tr th {\n",
       "        vertical-align: top;\n",
       "    }\n",
       "\n",
       "    .dataframe thead th {\n",
       "        text-align: right;\n",
       "    }\n",
       "</style>\n",
       "<table border=\"1\" class=\"dataframe\">\n",
       "  <thead>\n",
       "    <tr style=\"text-align: right;\">\n",
       "      <th></th>\n",
       "      <th>date</th>\n",
       "      <th>county</th>\n",
       "      <th>state</th>\n",
       "      <th>county_fips</th>\n",
       "      <th>county_cases</th>\n",
       "      <th>county_deaths</th>\n",
       "      <th>state_fips</th>\n",
       "      <th>state_cases</th>\n",
       "      <th>state_deaths</th>\n",
       "    </tr>\n",
       "  </thead>\n",
       "  <tbody>\n",
       "    <tr>\n",
       "      <th>0</th>\n",
       "      <td>2020-04-28</td>\n",
       "      <td>Albany</td>\n",
       "      <td>New York</td>\n",
       "      <td>36001.0</td>\n",
       "      <td>1009</td>\n",
       "      <td>45</td>\n",
       "      <td>36</td>\n",
       "      <td>295137</td>\n",
       "      <td>17638</td>\n",
       "    </tr>\n",
       "    <tr>\n",
       "      <th>1</th>\n",
       "      <td>2020-04-28</td>\n",
       "      <td>Allegany</td>\n",
       "      <td>New York</td>\n",
       "      <td>36003.0</td>\n",
       "      <td>35</td>\n",
       "      <td>0</td>\n",
       "      <td>36</td>\n",
       "      <td>295137</td>\n",
       "      <td>17638</td>\n",
       "    </tr>\n",
       "  </tbody>\n",
       "</table>\n",
       "</div>"
      ],
      "text/plain": [
       "         date    county     state  county_fips  county_cases  county_deaths  \\\n",
       "0  2020-04-28    Albany  New York      36001.0          1009             45   \n",
       "1  2020-04-28  Allegany  New York      36003.0            35              0   \n",
       "\n",
       "   state_fips  state_cases  state_deaths  \n",
       "0          36       295137         17638  \n",
       "1          36       295137         17638  "
      ]
     },
     "execution_count": 78,
     "metadata": {},
     "output_type": "execute_result"
    }
   ],
   "source": [
    "covid_ny_tx = combine_state_county(covid_states_ny_tx, covid_counties_ny_tx)\n",
    "covid_ny_tx.head(2)"
   ]
  },
  {
   "cell_type": "code",
   "execution_count": 71,
   "metadata": {},
   "outputs": [
    {
     "data": {
      "text/plain": [
       "(2425, 9)"
      ]
     },
     "execution_count": 71,
     "metadata": {},
     "output_type": "execute_result"
    }
   ],
   "source": [
    "covid_ny_tx.shape"
   ]
  },
  {
   "cell_type": "markdown",
   "metadata": {},
   "source": [
    "According to information from The New York Times, all cases for the five boroughs of New York City (New York, Kings, Queens, Bronx and Richmond counties) were assigned to a single area called `New York City`. Since this area is not officially recognized, it does not have a fip and `county_fips` is set to `NaN` for those rows.  \n",
    "In order to be able to merge covid data with population data later on, we need to assign a fip to this New York City area. We will assign fip `36000` (this fip does not actually exist) to the New York City area. "
   ]
  },
  {
   "cell_type": "code",
   "execution_count": 137,
   "metadata": {},
   "outputs": [],
   "source": [
    "covid_ny_tx['county_fips'].fillna(36000, inplace=True)"
   ]
  },
  {
   "cell_type": "code",
   "execution_count": 231,
   "metadata": {},
   "outputs": [],
   "source": [
    "covid_ny_tx['county_fips'] = covid_ny_tx['county_fips'].astype(int)"
   ]
  },
  {
   "cell_type": "markdown",
   "metadata": {},
   "source": [
    "## Gathering Population Data "
   ]
  },
  {
   "cell_type": "markdown",
   "metadata": {},
   "source": [
    "Note: includes data for all state as a row where county is name of state. \n",
    "Need to delete that row and include information in a new column instead. "
   ]
  },
  {
   "cell_type": "code",
   "execution_count": 324,
   "metadata": {
    "scrolled": true
   },
   "outputs": [
    {
     "data": {
      "text/html": [
       "<div>\n",
       "<style scoped>\n",
       "    .dataframe tbody tr th:only-of-type {\n",
       "        vertical-align: middle;\n",
       "    }\n",
       "\n",
       "    .dataframe tbody tr th {\n",
       "        vertical-align: top;\n",
       "    }\n",
       "\n",
       "    .dataframe thead th {\n",
       "        text-align: right;\n",
       "    }\n",
       "</style>\n",
       "<table border=\"1\" class=\"dataframe\">\n",
       "  <thead>\n",
       "    <tr style=\"text-align: right;\">\n",
       "      <th></th>\n",
       "      <th>STATE</th>\n",
       "      <th>COUNTY</th>\n",
       "      <th>STNAME</th>\n",
       "      <th>CTYNAME</th>\n",
       "      <th>POPESTIMATE2019</th>\n",
       "    </tr>\n",
       "  </thead>\n",
       "  <tbody>\n",
       "    <tr>\n",
       "      <th>0</th>\n",
       "      <td>1</td>\n",
       "      <td>0</td>\n",
       "      <td>Alabama</td>\n",
       "      <td>Alabama</td>\n",
       "      <td>4903185</td>\n",
       "    </tr>\n",
       "    <tr>\n",
       "      <th>1</th>\n",
       "      <td>1</td>\n",
       "      <td>1</td>\n",
       "      <td>Alabama</td>\n",
       "      <td>Autauga County</td>\n",
       "      <td>55869</td>\n",
       "    </tr>\n",
       "    <tr>\n",
       "      <th>2</th>\n",
       "      <td>1</td>\n",
       "      <td>3</td>\n",
       "      <td>Alabama</td>\n",
       "      <td>Baldwin County</td>\n",
       "      <td>223234</td>\n",
       "    </tr>\n",
       "    <tr>\n",
       "      <th>3</th>\n",
       "      <td>1</td>\n",
       "      <td>5</td>\n",
       "      <td>Alabama</td>\n",
       "      <td>Barbour County</td>\n",
       "      <td>24686</td>\n",
       "    </tr>\n",
       "    <tr>\n",
       "      <th>4</th>\n",
       "      <td>1</td>\n",
       "      <td>7</td>\n",
       "      <td>Alabama</td>\n",
       "      <td>Bibb County</td>\n",
       "      <td>22394</td>\n",
       "    </tr>\n",
       "  </tbody>\n",
       "</table>\n",
       "</div>"
      ],
      "text/plain": [
       "   STATE  COUNTY   STNAME         CTYNAME  POPESTIMATE2019\n",
       "0      1       0  Alabama         Alabama          4903185\n",
       "1      1       1  Alabama  Autauga County            55869\n",
       "2      1       3  Alabama  Baldwin County           223234\n",
       "3      1       5  Alabama  Barbour County            24686\n",
       "4      1       7  Alabama     Bibb County            22394"
      ]
     },
     "execution_count": 324,
     "metadata": {},
     "output_type": "execute_result"
    }
   ],
   "source": [
    "population = pd.read_csv('./co-est2019-alldata.csv', usecols=['STATE', 'COUNTY', 'STNAME', 'CTYNAME', 'POPESTIMATE2019'], encoding = \"ISO-8859-1\", engine='python')\n",
    "population.head()"
   ]
  },
  {
   "cell_type": "markdown",
   "metadata": {},
   "source": [
    "### Selection Population Data for New York and Texas"
   ]
  },
  {
   "cell_type": "code",
   "execution_count": 323,
   "metadata": {},
   "outputs": [],
   "source": [
    "def format_population(df):\n",
    "    #renaming columns to match our formating \n",
    "    df.rename(columns={'STATE':'state_fips', 'COUNTY':'county_fips', 'STNAME':'state', 'CTYNAME':'county', 'POPESTIMATE2019':'county_population'}, inplace=True)\n",
    "    #selecting information for NY and TX\n",
    "    df = get_states(df, states=['New York', 'Texas'])\n",
    "    #reformating county fips to match covid dataframe format\n",
    "    for i,fip in enumerate(df['county_fips']):\n",
    "        if len(str(fip)) == 1:\n",
    "            df.iloc[i,1] = int(str(df.iloc[i,0])+\"00\"+str(fip))\n",
    "        if len(str(fip)) == 2:\n",
    "            df.iloc[i,1] = int(str(df.iloc[i,0])+\"0\"+str(fip))\n",
    "        if len(str(fip)) == 3:\n",
    "            df.iloc[i,1] = int(str(df.iloc[i,0])+str(fip))\n",
    "    #creating a state_population column\n",
    "    df['state_population'] = [df[df['county']=='Texas']['county_population'].values[0] if x == 'Texas' else df[df['county']=='New York']['county_population'].values[0] for x in df['state']]\n",
    "        # code adapted from https://stackoverflow.com/questions/50375985/pandas-add-column-with-value-based-on-condition-based-on-other-columns\n",
    "    #deleting rows giving state population data instead of county data\n",
    "    for state in ['New York', 'Texas']:\n",
    "        df = df.drop(df[\"county\"].loc[df[\"county\"]==state].index)\n",
    "        # code adapted from https://stackoverflow.com/questions/53182464/pandas-delete-a-row-in-a-dataframe-based-on-a-value\n",
    "    #adding `New York City` county row compiling the information from NYC 5 boroughs to match the covid dataset format\n",
    "    d = {'state_fips':36, 'county_fips':36000, 'state':'New York', 'county':'New York City', \n",
    "     'county_population':[df[df['county']=='New York County']['county_population'].values[0] + \n",
    "                         df[df['county']=='Kings County']['county_population'].values[0] + \n",
    "                         df[df['county']=='Bronx County']['county_population'].values[0] + \n",
    "                         df[df['county']=='Richmond County']['county_population'].values[0] +\n",
    "                         df[df['county']=='Queens County']['county_population'].values[0]], \n",
    "     'state_population':19453561}\n",
    "    population_nyc = pd.DataFrame(data=d)\n",
    "    df = pd.concat(objs=[df, population_nyc])\n",
    "    return df "
   ]
  },
  {
   "cell_type": "code",
   "execution_count": 326,
   "metadata": {
    "scrolled": false
   },
   "outputs": [],
   "source": [
    "population_ny_tx = format_population(population)"
   ]
  },
  {
   "cell_type": "code",
   "execution_count": 330,
   "metadata": {
    "scrolled": true
   },
   "outputs": [
    {
     "data": {
      "text/html": [
       "<div>\n",
       "<style scoped>\n",
       "    .dataframe tbody tr th:only-of-type {\n",
       "        vertical-align: middle;\n",
       "    }\n",
       "\n",
       "    .dataframe tbody tr th {\n",
       "        vertical-align: top;\n",
       "    }\n",
       "\n",
       "    .dataframe thead th {\n",
       "        text-align: right;\n",
       "    }\n",
       "</style>\n",
       "<table border=\"1\" class=\"dataframe\">\n",
       "  <thead>\n",
       "    <tr style=\"text-align: right;\">\n",
       "      <th></th>\n",
       "      <th>state_fips</th>\n",
       "      <th>county_fips</th>\n",
       "      <th>state</th>\n",
       "      <th>county</th>\n",
       "      <th>county_population</th>\n",
       "      <th>state_population</th>\n",
       "    </tr>\n",
       "  </thead>\n",
       "  <tbody>\n",
       "    <tr>\n",
       "      <th>1861</th>\n",
       "      <td>36</td>\n",
       "      <td>36001</td>\n",
       "      <td>New York</td>\n",
       "      <td>Albany County</td>\n",
       "      <td>305506</td>\n",
       "      <td>19453561</td>\n",
       "    </tr>\n",
       "    <tr>\n",
       "      <th>1862</th>\n",
       "      <td>36</td>\n",
       "      <td>36003</td>\n",
       "      <td>New York</td>\n",
       "      <td>Allegany County</td>\n",
       "      <td>46091</td>\n",
       "      <td>19453561</td>\n",
       "    </tr>\n",
       "    <tr>\n",
       "      <th>1863</th>\n",
       "      <td>36</td>\n",
       "      <td>36005</td>\n",
       "      <td>New York</td>\n",
       "      <td>Bronx County</td>\n",
       "      <td>1418207</td>\n",
       "      <td>19453561</td>\n",
       "    </tr>\n",
       "    <tr>\n",
       "      <th>1864</th>\n",
       "      <td>36</td>\n",
       "      <td>36007</td>\n",
       "      <td>New York</td>\n",
       "      <td>Broome County</td>\n",
       "      <td>190488</td>\n",
       "      <td>19453561</td>\n",
       "    </tr>\n",
       "    <tr>\n",
       "      <th>1865</th>\n",
       "      <td>36</td>\n",
       "      <td>36009</td>\n",
       "      <td>New York</td>\n",
       "      <td>Cattaraugus County</td>\n",
       "      <td>76117</td>\n",
       "      <td>19453561</td>\n",
       "    </tr>\n",
       "  </tbody>\n",
       "</table>\n",
       "</div>"
      ],
      "text/plain": [
       "      state_fips  county_fips     state              county  \\\n",
       "1861          36        36001  New York       Albany County   \n",
       "1862          36        36003  New York     Allegany County   \n",
       "1863          36        36005  New York        Bronx County   \n",
       "1864          36        36007  New York       Broome County   \n",
       "1865          36        36009  New York  Cattaraugus County   \n",
       "\n",
       "      county_population  state_population  \n",
       "1861             305506          19453561  \n",
       "1862              46091          19453561  \n",
       "1863            1418207          19453561  \n",
       "1864             190488          19453561  \n",
       "1865              76117          19453561  "
      ]
     },
     "execution_count": 330,
     "metadata": {},
     "output_type": "execute_result"
    }
   ],
   "source": [
    "population_ny_tx.head()"
   ]
  },
  {
   "cell_type": "code",
   "execution_count": 328,
   "metadata": {},
   "outputs": [
    {
     "data": {
      "text/plain": [
       "(317, 6)"
      ]
     },
     "execution_count": 328,
     "metadata": {},
     "output_type": "execute_result"
    }
   ],
   "source": [
    "population_ny_tx.shape"
   ]
  },
  {
   "cell_type": "markdown",
   "metadata": {},
   "source": [
    "### Combining Covid-19 and Population Data "
   ]
  },
  {
   "cell_type": "code",
   "execution_count": 339,
   "metadata": {},
   "outputs": [
    {
     "data": {
      "text/html": [
       "<div>\n",
       "<style scoped>\n",
       "    .dataframe tbody tr th:only-of-type {\n",
       "        vertical-align: middle;\n",
       "    }\n",
       "\n",
       "    .dataframe tbody tr th {\n",
       "        vertical-align: top;\n",
       "    }\n",
       "\n",
       "    .dataframe thead th {\n",
       "        text-align: right;\n",
       "    }\n",
       "</style>\n",
       "<table border=\"1\" class=\"dataframe\">\n",
       "  <thead>\n",
       "    <tr style=\"text-align: right;\">\n",
       "      <th></th>\n",
       "      <th>date</th>\n",
       "      <th>county_x</th>\n",
       "      <th>state_x</th>\n",
       "      <th>county_fips</th>\n",
       "      <th>county_cases</th>\n",
       "      <th>county_deaths</th>\n",
       "      <th>state_fips_x</th>\n",
       "      <th>state_cases</th>\n",
       "      <th>state_deaths</th>\n",
       "      <th>state_fips_y</th>\n",
       "      <th>state_y</th>\n",
       "      <th>county_y</th>\n",
       "      <th>county_population</th>\n",
       "      <th>state_population</th>\n",
       "    </tr>\n",
       "  </thead>\n",
       "  <tbody>\n",
       "    <tr>\n",
       "      <th>0</th>\n",
       "      <td>2020-04-28</td>\n",
       "      <td>Albany</td>\n",
       "      <td>New York</td>\n",
       "      <td>36001</td>\n",
       "      <td>1009</td>\n",
       "      <td>45</td>\n",
       "      <td>36</td>\n",
       "      <td>295137</td>\n",
       "      <td>17638</td>\n",
       "      <td>36</td>\n",
       "      <td>New York</td>\n",
       "      <td>Albany County</td>\n",
       "      <td>305506</td>\n",
       "      <td>19453561</td>\n",
       "    </tr>\n",
       "    <tr>\n",
       "      <th>1</th>\n",
       "      <td>2020-04-29</td>\n",
       "      <td>Albany</td>\n",
       "      <td>New York</td>\n",
       "      <td>36001</td>\n",
       "      <td>1067</td>\n",
       "      <td>47</td>\n",
       "      <td>36</td>\n",
       "      <td>299722</td>\n",
       "      <td>18015</td>\n",
       "      <td>36</td>\n",
       "      <td>New York</td>\n",
       "      <td>Albany County</td>\n",
       "      <td>305506</td>\n",
       "      <td>19453561</td>\n",
       "    </tr>\n",
       "    <tr>\n",
       "      <th>2</th>\n",
       "      <td>2020-04-30</td>\n",
       "      <td>Albany</td>\n",
       "      <td>New York</td>\n",
       "      <td>36001</td>\n",
       "      <td>1165</td>\n",
       "      <td>53</td>\n",
       "      <td>36</td>\n",
       "      <td>304401</td>\n",
       "      <td>18321</td>\n",
       "      <td>36</td>\n",
       "      <td>New York</td>\n",
       "      <td>Albany County</td>\n",
       "      <td>305506</td>\n",
       "      <td>19453561</td>\n",
       "    </tr>\n",
       "    <tr>\n",
       "      <th>3</th>\n",
       "      <td>2020-05-01</td>\n",
       "      <td>Albany</td>\n",
       "      <td>New York</td>\n",
       "      <td>36001</td>\n",
       "      <td>1204</td>\n",
       "      <td>55</td>\n",
       "      <td>36</td>\n",
       "      <td>308345</td>\n",
       "      <td>18610</td>\n",
       "      <td>36</td>\n",
       "      <td>New York</td>\n",
       "      <td>Albany County</td>\n",
       "      <td>305506</td>\n",
       "      <td>19453561</td>\n",
       "    </tr>\n",
       "    <tr>\n",
       "      <th>4</th>\n",
       "      <td>2020-05-02</td>\n",
       "      <td>Albany</td>\n",
       "      <td>New York</td>\n",
       "      <td>36001</td>\n",
       "      <td>1238</td>\n",
       "      <td>60</td>\n",
       "      <td>36</td>\n",
       "      <td>313008</td>\n",
       "      <td>18909</td>\n",
       "      <td>36</td>\n",
       "      <td>New York</td>\n",
       "      <td>Albany County</td>\n",
       "      <td>305506</td>\n",
       "      <td>19453561</td>\n",
       "    </tr>\n",
       "  </tbody>\n",
       "</table>\n",
       "</div>"
      ],
      "text/plain": [
       "         date county_x   state_x  county_fips  county_cases  county_deaths  \\\n",
       "0  2020-04-28   Albany  New York        36001          1009             45   \n",
       "1  2020-04-29   Albany  New York        36001          1067             47   \n",
       "2  2020-04-30   Albany  New York        36001          1165             53   \n",
       "3  2020-05-01   Albany  New York        36001          1204             55   \n",
       "4  2020-05-02   Albany  New York        36001          1238             60   \n",
       "\n",
       "   state_fips_x  state_cases  state_deaths  state_fips_y   state_y  \\\n",
       "0            36       295137         17638            36  New York   \n",
       "1            36       299722         18015            36  New York   \n",
       "2            36       304401         18321            36  New York   \n",
       "3            36       308345         18610            36  New York   \n",
       "4            36       313008         18909            36  New York   \n",
       "\n",
       "        county_y  county_population  state_population  \n",
       "0  Albany County             305506          19453561  \n",
       "1  Albany County             305506          19453561  \n",
       "2  Albany County             305506          19453561  \n",
       "3  Albany County             305506          19453561  \n",
       "4  Albany County             305506          19453561  "
      ]
     },
     "execution_count": 339,
     "metadata": {},
     "output_type": "execute_result"
    }
   ],
   "source": [
    "covid_and_pop_ny_tx = pd.merge(left=covid_ny_tx, right=population_ny_tx, on='county_fips')\n",
    "covid_and_pop_ny_tx.head()"
   ]
  },
  {
   "cell_type": "code",
   "execution_count": 340,
   "metadata": {},
   "outputs": [
    {
     "data": {
      "text/html": [
       "<div>\n",
       "<style scoped>\n",
       "    .dataframe tbody tr th:only-of-type {\n",
       "        vertical-align: middle;\n",
       "    }\n",
       "\n",
       "    .dataframe tbody tr th {\n",
       "        vertical-align: top;\n",
       "    }\n",
       "\n",
       "    .dataframe thead th {\n",
       "        text-align: right;\n",
       "    }\n",
       "</style>\n",
       "<table border=\"1\" class=\"dataframe\">\n",
       "  <thead>\n",
       "    <tr style=\"text-align: right;\">\n",
       "      <th></th>\n",
       "      <th>date</th>\n",
       "      <th>county</th>\n",
       "      <th>state</th>\n",
       "      <th>county_fips</th>\n",
       "      <th>county_cases</th>\n",
       "      <th>county_deaths</th>\n",
       "      <th>state_fips</th>\n",
       "      <th>state_cases</th>\n",
       "      <th>state_deaths</th>\n",
       "      <th>county_population</th>\n",
       "      <th>state_population</th>\n",
       "    </tr>\n",
       "  </thead>\n",
       "  <tbody>\n",
       "    <tr>\n",
       "      <th>0</th>\n",
       "      <td>2020-04-28</td>\n",
       "      <td>Albany</td>\n",
       "      <td>New York</td>\n",
       "      <td>36001</td>\n",
       "      <td>1009</td>\n",
       "      <td>45</td>\n",
       "      <td>36</td>\n",
       "      <td>295137</td>\n",
       "      <td>17638</td>\n",
       "      <td>305506</td>\n",
       "      <td>19453561</td>\n",
       "    </tr>\n",
       "    <tr>\n",
       "      <th>1</th>\n",
       "      <td>2020-04-29</td>\n",
       "      <td>Albany</td>\n",
       "      <td>New York</td>\n",
       "      <td>36001</td>\n",
       "      <td>1067</td>\n",
       "      <td>47</td>\n",
       "      <td>36</td>\n",
       "      <td>299722</td>\n",
       "      <td>18015</td>\n",
       "      <td>305506</td>\n",
       "      <td>19453561</td>\n",
       "    </tr>\n",
       "    <tr>\n",
       "      <th>2</th>\n",
       "      <td>2020-04-30</td>\n",
       "      <td>Albany</td>\n",
       "      <td>New York</td>\n",
       "      <td>36001</td>\n",
       "      <td>1165</td>\n",
       "      <td>53</td>\n",
       "      <td>36</td>\n",
       "      <td>304401</td>\n",
       "      <td>18321</td>\n",
       "      <td>305506</td>\n",
       "      <td>19453561</td>\n",
       "    </tr>\n",
       "    <tr>\n",
       "      <th>3</th>\n",
       "      <td>2020-05-01</td>\n",
       "      <td>Albany</td>\n",
       "      <td>New York</td>\n",
       "      <td>36001</td>\n",
       "      <td>1204</td>\n",
       "      <td>55</td>\n",
       "      <td>36</td>\n",
       "      <td>308345</td>\n",
       "      <td>18610</td>\n",
       "      <td>305506</td>\n",
       "      <td>19453561</td>\n",
       "    </tr>\n",
       "    <tr>\n",
       "      <th>4</th>\n",
       "      <td>2020-05-02</td>\n",
       "      <td>Albany</td>\n",
       "      <td>New York</td>\n",
       "      <td>36001</td>\n",
       "      <td>1238</td>\n",
       "      <td>60</td>\n",
       "      <td>36</td>\n",
       "      <td>313008</td>\n",
       "      <td>18909</td>\n",
       "      <td>305506</td>\n",
       "      <td>19453561</td>\n",
       "    </tr>\n",
       "  </tbody>\n",
       "</table>\n",
       "</div>"
      ],
      "text/plain": [
       "         date  county     state  county_fips  county_cases  county_deaths  \\\n",
       "0  2020-04-28  Albany  New York        36001          1009             45   \n",
       "1  2020-04-29  Albany  New York        36001          1067             47   \n",
       "2  2020-04-30  Albany  New York        36001          1165             53   \n",
       "3  2020-05-01  Albany  New York        36001          1204             55   \n",
       "4  2020-05-02  Albany  New York        36001          1238             60   \n",
       "\n",
       "   state_fips  state_cases  state_deaths  county_population  state_population  \n",
       "0          36       295137         17638             305506          19453561  \n",
       "1          36       299722         18015             305506          19453561  \n",
       "2          36       304401         18321             305506          19453561  \n",
       "3          36       308345         18610             305506          19453561  \n",
       "4          36       313008         18909             305506          19453561  "
      ]
     },
     "execution_count": 340,
     "metadata": {},
     "output_type": "execute_result"
    }
   ],
   "source": [
    "#removing duplicate columns: \n",
    "covid_and_pop_ny_tx.drop(columns=['state_fips_y', 'state_y', 'county_y'],inplace=True)\n",
    "#renaming columns:\n",
    "covid_and_pop_ny_tx.rename(columns={'county_x':'county', 'state_x':'state', 'state_fips_x':'state_fips'},inplace=True)\n",
    "covid_and_pop_ny_tx.head()"
   ]
  },
  {
   "cell_type": "code",
   "execution_count": 341,
   "metadata": {},
   "outputs": [
    {
     "data": {
      "text/plain": [
       "(2425, 11)"
      ]
     },
     "execution_count": 341,
     "metadata": {},
     "output_type": "execute_result"
    }
   ],
   "source": [
    "covid_and_pop_ny_tx.shape"
   ]
  },
  {
   "cell_type": "markdown",
   "metadata": {},
   "source": [
    "## Gathering State Policy Data "
   ]
  },
  {
   "cell_type": "markdown",
   "metadata": {},
   "source": [
    "## References\n",
    "\n",
    "[Original Tweets IDs and Sentiment Scores Dataset](https://ieee-dataport.org/open-access/corona-virus-covid-19-geolocation-based-sentiment-data)  \n",
    "[Covid-19 Cases and Deaths Dataset](https://github.com/nytimes/covid-19-data)"
   ]
  },
  {
   "cell_type": "code",
   "execution_count": null,
   "metadata": {},
   "outputs": [],
   "source": []
  }
 ],
 "metadata": {
  "kernelspec": {
   "display_name": "Python 3",
   "language": "python",
   "name": "python3"
  },
  "language_info": {
   "codemirror_mode": {
    "name": "ipython",
    "version": 3
   },
   "file_extension": ".py",
   "mimetype": "text/x-python",
   "name": "python",
   "nbconvert_exporter": "python",
   "pygments_lexer": "ipython3",
   "version": "3.7.6"
  }
 },
 "nbformat": 4,
 "nbformat_minor": 4
}
