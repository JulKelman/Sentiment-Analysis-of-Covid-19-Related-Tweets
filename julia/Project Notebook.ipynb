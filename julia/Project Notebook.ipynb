{
 "cells": [
  {
   "cell_type": "markdown",
   "metadata": {},
   "source": [
    "# Sentiment Analysis of Covid-19 Related Tweets based on Geographic Location and State Policies\n",
    "\n",
    "#### Authors: Steve Diamond [(GitHub)](ttps://github.com/ssdiam2000), Markell Jones-Francis [(GitHub)](https://git.generalassemb.ly/markelljones-francis), and Julia Kelman [(GitHub)](https://git.generalassemb.ly/julia-kelman/)"
   ]
  },
  {
   "cell_type": "markdown",
   "metadata": {},
   "source": [
    "## Problem Statement\n",
    "\n",
    "The COVID-19 response has been largely regional and state-based in nature. Some states have enacted strictly enforced stay-at-home policies, while others have provided guidelines. Now, some states are rapidly moving to reopen while others are following scientific guidelines and moving towards reopening very deliberately.   \n",
    "While data concerning the number of Covid-19 cases and deaths has been reported for each state and analyzed based on the states' policies on social distancing, little information is known about the relationship between those features and individuals' sentiments about the pandemic.  \n",
    "To get a full picture of the U.S.'s response to the coronavirus,  there is a need to look at the sentiment analysis of social media posts across geographic regions and compare them to both the local policies on social distancing and the occurrences of the pandemic in those areas.  \n",
    "In order to fill this information gap, we will map the sentiment score based on tweets related to Covid-19 posted between April 28th and May 6th, 2020 accross U.S states.     \n",
    "In order to gain a deeper understanding of the relationship between sentiment and location, we will compare the sentiment of residents in New York and Texas, two large states on opposite ends of the political spectrum which have acted very differently in terms of the crises.  \n",
    "More specifically, we will build and interpret a Linear Regression model using Covid-19 occurences and state policy information to predict the sentiment score of NY and Texas residents. "
   ]
  },
  {
   "cell_type": "markdown",
   "metadata": {},
   "source": [
    "## Executive Summary"
   ]
  },
  {
   "cell_type": "markdown",
   "metadata": {},
   "source": [
    "## Table of Contents\n",
    "\n",
    "- [Loading Data](#Loading-Data)\n",
    "    - [Library Imports](#Library-Imports)  \n",
    "    - [Data Imports](#Data-Imports)\n",
    "    - [Data Dictionary](#Data-Dictionary)\n",
    "- [Data Cleaning](#Data-Cleaning) \n",
    "- [Exploratory Data Analysis](#EDA)\n",
    "- [Mapping](#Mapping)\n",
    "- [Model Preparation](#Model-Preparation)\n",
    "- [Modeling](#Modeling)  \n",
    "    - [Baseline Model](#Baseline-Model)  \n",
    "    - [Linear Regression](#Linear-Regression)\n",
    "    - [OLS](#OLS)\n",
    "- [Model Selection](#Model-Selection)\n",
    "- [Model Evaluation](#Model-Evaluation)\n",
    "    - [Coefficients Interpretation](#Coefficients-Interpretation)\n",
    "- [Conclusion](#Conclusion)\n",
    "- [References](#References)"
   ]
  },
  {
   "cell_type": "markdown",
   "metadata": {},
   "source": [
    "## Loading Data "
   ]
  },
  {
   "cell_type": "markdown",
   "metadata": {},
   "source": [
    "### Library Imports"
   ]
  },
  {
   "cell_type": "markdown",
   "metadata": {},
   "source": [
    "### Data Imports"
   ]
  },
  {
   "cell_type": "markdown",
   "metadata": {},
   "source": [
    "### Data Dictionary \n",
    "\n",
    "|**Feature Name**|**Description**|\n",
    "|:---|:---|\n",
    "|all_gatherings_prohibited|Indicator variable - 1 if all gatherings prohibited in county|\n",
    "|businesses_reopening|Indicator variable - 1 if state has reopened business|\n",
    "|cases|Number of Covid 19 cases in user's county|\n",
    "|city|Twtter user's city name|\n",
    "|county_fips|Standard ID number for user county location|\n",
    "|county_name|Twtter user county name|\n",
    "|date||\n",
    "|deaths|Number of Covid 19 deaths in user's county|\n",
    "|density|Population density of city|\n",
    "|hashtags|Hashtags|\n",
    "|lat|Latitude location of city|\n",
    "|likes|Number of likes|\n",
    "|lng|Longitude location of city|\n",
    "|population|Population of city|\n",
    "|ranking|?|\n",
    "|replies|Number of replies|\n",
    "|retweets|Number of retweets|\n",
    "|screen_name|Twitter user screen name|\n",
    "|sentiment_score|Sentiment score from TextBlob|\n",
    "|shelter_in_place|Indicator variable - 1 if shelter_in_place order in effect for county|\n",
    "|state_id|Two-digit state ID for user location|\n",
    "|state_name|Twtter user state location|\n",
    "|state|Twtter user's state name|\n",
    "|state_stay_at_home|Indicator variable - 1 if statewide stay-at-home order in place|\n",
    "|temporary_hospitals|Indicator variable - 1 if state has created temporary hospitals|\n",
    "|tests_per_thousand|Number of tests per thousand in state conducted by 4/28|\n",
    "|test_positives_rate|Percent of the tests in state conducted by 4/28 that were positive|\n",
    "|text|Tweet text|\n",
    "|traveler_quarantines|Indicator variable - 1 if state has had traveler quarantines|\n",
    "|tweet_id|Tweet ID number - used to identify tweet information|\n",
    "|tweet_timestamp|Timestamp of Tweet|\n",
    "|username|Twitter user username|"
   ]
  },
  {
   "cell_type": "markdown",
   "metadata": {},
   "source": [
    "## Data Cleaning"
   ]
  },
  {
   "cell_type": "markdown",
   "metadata": {},
   "source": [
    "## EDA"
   ]
  },
  {
   "cell_type": "markdown",
   "metadata": {},
   "source": [
    "## Mapping"
   ]
  },
  {
   "cell_type": "markdown",
   "metadata": {},
   "source": [
    "## Model Preparation"
   ]
  },
  {
   "cell_type": "markdown",
   "metadata": {},
   "source": [
    "## Modeling"
   ]
  },
  {
   "cell_type": "markdown",
   "metadata": {},
   "source": [
    "### Baseline Model"
   ]
  },
  {
   "cell_type": "markdown",
   "metadata": {},
   "source": [
    "### Linear Regression"
   ]
  },
  {
   "cell_type": "markdown",
   "metadata": {},
   "source": [
    "### OLS"
   ]
  },
  {
   "cell_type": "markdown",
   "metadata": {},
   "source": [
    "## Model Selection"
   ]
  },
  {
   "cell_type": "markdown",
   "metadata": {},
   "source": [
    "## Model Evaluation"
   ]
  },
  {
   "cell_type": "markdown",
   "metadata": {},
   "source": [
    "### Coefficients Interpretation"
   ]
  },
  {
   "cell_type": "markdown",
   "metadata": {},
   "source": [
    "## Conclusion"
   ]
  },
  {
   "cell_type": "markdown",
   "metadata": {},
   "source": [
    "## References"
   ]
  },
  {
   "cell_type": "code",
   "execution_count": null,
   "metadata": {},
   "outputs": [],
   "source": []
  }
 ],
 "metadata": {
  "kernelspec": {
   "display_name": "Python 3",
   "language": "python",
   "name": "python3"
  },
  "language_info": {
   "codemirror_mode": {
    "name": "ipython",
    "version": 3
   },
   "file_extension": ".py",
   "mimetype": "text/x-python",
   "name": "python",
   "nbconvert_exporter": "python",
   "pygments_lexer": "ipython3",
   "version": "3.7.6"
  }
 },
 "nbformat": 4,
 "nbformat_minor": 4
}
