{
 "cells": [
  {
   "cell_type": "markdown",
   "metadata": {},
   "source": [
    "# Sentiment Analysis of Covid-19 Related Tweets based on Geographic Location and State Policies\n",
    "\n",
    "#### Authors: Steve Diamond [(GitHub)](ttps://github.com/ssdiam2000), Markell Jones-Francis [(GitHub)](https://git.generalassemb.ly/markelljones-francis), and Julia Kelman [(GitHub)](https://git.generalassemb.ly/julia-kelman/)"
   ]
  },
  {
   "cell_type": "markdown",
   "metadata": {},
   "source": [
    "## Problem Statement\n",
    "\n",
    "The COVID-19 response has been largely regional and state-based in nature. Some states have enacted strictly enforced stay-at-home policies, while others have provided guidelines. Now, some states are rapidly moving to reopen while others are following scientific guidelines and moving towards reopening very deliberately.   \n",
    "While data concerning the number of Covid-19 cases and deaths has been reported for each state and analyzed based on the states' policies on social distancing, little information is known about the relationship between those features and individuals' sentiments about the pandemic.  \n",
    "To get a full picture of the U.S.'s response to the coronavirus,  there is a need to look at the sentiment analysis of social media posts across geographic regions and compare them to both the local policies on social distancing and the occurrences of the pandemic in those areas.  \n",
    "In order to fill this information gap, we will map the sentiment score based on tweets related to Covid-19 posted between April 28th and May 6th, 2020 accross U.S states.     \n",
    "In order to gain a deeper understanding of the relationship between sentiment and location, we will compare the sentiment of residents in New York and Texas, two large states on opposite ends of the political spectrum which have acted very differently in terms of the crises.  \n",
    "More specifically, we will build and interpret a Linear Regression model using Covid-19 occurences and state policy information to predict the sentiment score of NY and Texas residents. "
   ]
  },
  {
   "cell_type": "markdown",
   "metadata": {},
   "source": [
    "## Executive Summary"
   ]
  },
  {
   "cell_type": "markdown",
   "metadata": {},
   "source": [
    "Our goal is to provide a sentiment analysis of Covid-19 related tweets accross New York and Texas, investigating their relationship with a user's location. "
   ]
  },
  {
   "cell_type": "markdown",
   "metadata": {},
   "source": [
    "## Table of Contents\n",
    "\n",
    "- [Loading Data](#Loading-Data)\n",
    "    - [Library Imports](#Library-Imports)  \n",
    "    - [Data Imports](#Data-Imports)\n",
    "    - [Data Dictionary](#Data-Dictionary)\n",
    "- [Data Cleaning](#Data-Cleaning) \n",
    "    - [Missing Values](#Cleaning-Null-Values)\n",
    "    - [Datatypes](#Cleaning-Datatypes)\n",
    "- [Exploratory Data Analysis](#EDA)\n",
    "    - [Feature Engineering](#Feature-Engineering)\n",
    "    - [User Engagement](#User-Engagement)\n",
    "- [Mapping](#Mapping)\n",
    "- [Model Preparation](#Model-Preparation)\n",
    "- [Modeling](#Modeling)  \n",
    "    - [Baseline Model](#Baseline-Model)  \n",
    "    - [Linear Regression](#Linear-Regression)\n",
    "    - [OLS](#OLS)\n",
    "- [Model Selection](#Model-Selection)\n",
    "- [Model Evaluation](#Model-Evaluation)\n",
    "    - [Coefficients Interpretation](#Coefficients-Interpretation)\n",
    "- [Conclusion](#Conclusion)\n",
    "- [References](#References)"
   ]
  },
  {
   "cell_type": "markdown",
   "metadata": {},
   "source": [
    "## Loading Data "
   ]
  },
  {
   "cell_type": "markdown",
   "metadata": {},
   "source": [
    "### Library Imports"
   ]
  },
  {
   "cell_type": "code",
   "execution_count": 1,
   "metadata": {},
   "outputs": [],
   "source": [
    "import pandas as pd\n",
    "import numpy as np\n",
    "import matplotlib.pyplot as plt\n",
    "import seaborn as sns \n",
    "\n",
    "from sklearn.linear_model import LinearRegression, Ridge, RidgeCV, Lasso, LassoCV \n",
    "from sklearn.model_selection import train_test_split, cross_val_score\n",
    "from sklearn.dummy import DummyRegressor\n",
    "import statsmodels.api as sm\n",
    "from sklearn.metrics import r2_score\n",
    "\n",
    "\n",
    "RANDOM_STATE = 5"
   ]
  },
  {
   "cell_type": "code",
   "execution_count": 2,
   "metadata": {},
   "outputs": [],
   "source": [
    "pd.set_option('display.max_columns', None)"
   ]
  },
  {
   "cell_type": "markdown",
   "metadata": {},
   "source": [
    "### Data Imports"
   ]
  },
  {
   "cell_type": "code",
   "execution_count": 3,
   "metadata": {},
   "outputs": [
    {
     "data": {
      "text/html": [
       "<div>\n",
       "<style scoped>\n",
       "    .dataframe tbody tr th:only-of-type {\n",
       "        vertical-align: middle;\n",
       "    }\n",
       "\n",
       "    .dataframe tbody tr th {\n",
       "        vertical-align: top;\n",
       "    }\n",
       "\n",
       "    .dataframe thead th {\n",
       "        text-align: right;\n",
       "    }\n",
       "</style>\n",
       "<table border=\"1\" class=\"dataframe\">\n",
       "  <thead>\n",
       "    <tr style=\"text-align: right;\">\n",
       "      <th></th>\n",
       "      <th>screen_name</th>\n",
       "      <th>username</th>\n",
       "      <th>tweet_id</th>\n",
       "      <th>timestamp</th>\n",
       "      <th>text</th>\n",
       "      <th>hashtags</th>\n",
       "      <th>likes</th>\n",
       "      <th>retweets</th>\n",
       "      <th>replies</th>\n",
       "      <th>sentiment_score</th>\n",
       "      <th>city</th>\n",
       "      <th>county_fips</th>\n",
       "      <th>density</th>\n",
       "      <th>date</th>\n",
       "      <th>county</th>\n",
       "      <th>state</th>\n",
       "      <th>county_cases</th>\n",
       "      <th>county_deaths</th>\n",
       "      <th>state_fips</th>\n",
       "      <th>state_cases</th>\n",
       "      <th>state_deaths</th>\n",
       "      <th>county_population</th>\n",
       "      <th>state_population</th>\n",
       "      <th>all_gatherings_prohibited</th>\n",
       "      <th>temporary_hospitals</th>\n",
       "      <th>state_stay_at_home</th>\n",
       "      <th>traveler_quarantines</th>\n",
       "      <th>businesses_reopening</th>\n",
       "      <th>tests_per_thousand</th>\n",
       "      <th>test_positives_rate</th>\n",
       "      <th>shelter_in_place</th>\n",
       "      <th>percent_average_mobility_decrease</th>\n",
       "    </tr>\n",
       "  </thead>\n",
       "  <tbody>\n",
       "    <tr>\n",
       "      <th>0</th>\n",
       "      <td>BillBodouva</td>\n",
       "      <td>Real Estate BuyerRep</td>\n",
       "      <td>1254996305082036224</td>\n",
       "      <td>2020-04-28 04:50:10</td>\n",
       "      <td>Happy Birthday Mom!  You wouldn’t believe what...</td>\n",
       "      <td>['bestmom', 'bestfriend', 'happybirthday', '1s...</td>\n",
       "      <td>0</td>\n",
       "      <td>0</td>\n",
       "      <td>0</td>\n",
       "      <td>0.313973</td>\n",
       "      <td>Sands Point</td>\n",
       "      <td>36059</td>\n",
       "      <td>265.0</td>\n",
       "      <td>2020-04-28 00:00:00</td>\n",
       "      <td>Nassau</td>\n",
       "      <td>New York</td>\n",
       "      <td>35085.0</td>\n",
       "      <td>2039.0</td>\n",
       "      <td>36.0</td>\n",
       "      <td>295137.0</td>\n",
       "      <td>17638.0</td>\n",
       "      <td>1356924.0</td>\n",
       "      <td>19453561.0</td>\n",
       "      <td>1.0</td>\n",
       "      <td>1.0</td>\n",
       "      <td>1.0</td>\n",
       "      <td>0.0</td>\n",
       "      <td>0.0</td>\n",
       "      <td>61.9</td>\n",
       "      <td>0.28</td>\n",
       "      <td>1.0</td>\n",
       "      <td>36.4</td>\n",
       "    </tr>\n",
       "    <tr>\n",
       "      <th>1</th>\n",
       "      <td>zagnut99</td>\n",
       "      <td>Frank Zagottis</td>\n",
       "      <td>1254999586302820353</td>\n",
       "      <td>2020-04-28 05:03:12</td>\n",
       "      <td>Isolation dinners continue with Isabel’s roast...</td>\n",
       "      <td>['Dinner', 'Chicken', 'Isolation', 'IsolationD...</td>\n",
       "      <td>0</td>\n",
       "      <td>0</td>\n",
       "      <td>0</td>\n",
       "      <td>-0.600000</td>\n",
       "      <td>Queens</td>\n",
       "      <td>36000</td>\n",
       "      <td>8247.0</td>\n",
       "      <td>2020-04-28 00:00:00</td>\n",
       "      <td>New York City</td>\n",
       "      <td>New York</td>\n",
       "      <td>162348.0</td>\n",
       "      <td>12067.0</td>\n",
       "      <td>36.0</td>\n",
       "      <td>295137.0</td>\n",
       "      <td>17638.0</td>\n",
       "      <td>8336817.0</td>\n",
       "      <td>19453561.0</td>\n",
       "      <td>1.0</td>\n",
       "      <td>1.0</td>\n",
       "      <td>1.0</td>\n",
       "      <td>0.0</td>\n",
       "      <td>0.0</td>\n",
       "      <td>61.9</td>\n",
       "      <td>0.28</td>\n",
       "      <td>1.0</td>\n",
       "      <td>36.4</td>\n",
       "    </tr>\n",
       "    <tr>\n",
       "      <th>2</th>\n",
       "      <td>johnnybebad666_</td>\n",
       "      <td>John Fitzgerald Kennedy Page®</td>\n",
       "      <td>1255004404723462146</td>\n",
       "      <td>2020-04-28 05:22:21</td>\n",
       "      <td>COVID-19 update \\nThis MTA BUS didn't pick me ...</td>\n",
       "      <td>[]</td>\n",
       "      <td>0</td>\n",
       "      <td>0</td>\n",
       "      <td>0</td>\n",
       "      <td>0.000000</td>\n",
       "      <td>Queens</td>\n",
       "      <td>36000</td>\n",
       "      <td>8247.0</td>\n",
       "      <td>2020-04-28 00:00:00</td>\n",
       "      <td>New York City</td>\n",
       "      <td>New York</td>\n",
       "      <td>162348.0</td>\n",
       "      <td>12067.0</td>\n",
       "      <td>36.0</td>\n",
       "      <td>295137.0</td>\n",
       "      <td>17638.0</td>\n",
       "      <td>8336817.0</td>\n",
       "      <td>19453561.0</td>\n",
       "      <td>1.0</td>\n",
       "      <td>1.0</td>\n",
       "      <td>1.0</td>\n",
       "      <td>0.0</td>\n",
       "      <td>0.0</td>\n",
       "      <td>61.9</td>\n",
       "      <td>0.28</td>\n",
       "      <td>1.0</td>\n",
       "      <td>36.4</td>\n",
       "    </tr>\n",
       "    <tr>\n",
       "      <th>3</th>\n",
       "      <td>_offclemmanuelp</td>\n",
       "      <td>Emmanuel Paguntalan</td>\n",
       "      <td>1255105729008226304</td>\n",
       "      <td>2020-04-28 12:04:59</td>\n",
       "      <td>Let's help our Frontliner in fighting COVID-19...</td>\n",
       "      <td>[]</td>\n",
       "      <td>0</td>\n",
       "      <td>0</td>\n",
       "      <td>0</td>\n",
       "      <td>0.041667</td>\n",
       "      <td>Queens</td>\n",
       "      <td>36000</td>\n",
       "      <td>8247.0</td>\n",
       "      <td>2020-04-28 00:00:00</td>\n",
       "      <td>New York City</td>\n",
       "      <td>New York</td>\n",
       "      <td>162348.0</td>\n",
       "      <td>12067.0</td>\n",
       "      <td>36.0</td>\n",
       "      <td>295137.0</td>\n",
       "      <td>17638.0</td>\n",
       "      <td>8336817.0</td>\n",
       "      <td>19453561.0</td>\n",
       "      <td>1.0</td>\n",
       "      <td>1.0</td>\n",
       "      <td>1.0</td>\n",
       "      <td>0.0</td>\n",
       "      <td>0.0</td>\n",
       "      <td>61.9</td>\n",
       "      <td>0.28</td>\n",
       "      <td>1.0</td>\n",
       "      <td>36.4</td>\n",
       "    </tr>\n",
       "    <tr>\n",
       "      <th>4</th>\n",
       "      <td>HelenAsimegbe</td>\n",
       "      <td>Helen Asimegbe</td>\n",
       "      <td>1255110017453359104</td>\n",
       "      <td>2020-04-28 12:22:01</td>\n",
       "      <td>Reposted from patiencesilias You are an amazin...</td>\n",
       "      <td>['my']</td>\n",
       "      <td>0</td>\n",
       "      <td>0</td>\n",
       "      <td>0</td>\n",
       "      <td>0.358333</td>\n",
       "      <td>Queens</td>\n",
       "      <td>36000</td>\n",
       "      <td>8247.0</td>\n",
       "      <td>2020-04-28 00:00:00</td>\n",
       "      <td>New York City</td>\n",
       "      <td>New York</td>\n",
       "      <td>162348.0</td>\n",
       "      <td>12067.0</td>\n",
       "      <td>36.0</td>\n",
       "      <td>295137.0</td>\n",
       "      <td>17638.0</td>\n",
       "      <td>8336817.0</td>\n",
       "      <td>19453561.0</td>\n",
       "      <td>1.0</td>\n",
       "      <td>1.0</td>\n",
       "      <td>1.0</td>\n",
       "      <td>0.0</td>\n",
       "      <td>0.0</td>\n",
       "      <td>61.9</td>\n",
       "      <td>0.28</td>\n",
       "      <td>1.0</td>\n",
       "      <td>36.4</td>\n",
       "    </tr>\n",
       "  </tbody>\n",
       "</table>\n",
       "</div>"
      ],
      "text/plain": [
       "       screen_name                       username             tweet_id  \\\n",
       "0      BillBodouva           Real Estate BuyerRep  1254996305082036224   \n",
       "1         zagnut99                 Frank Zagottis  1254999586302820353   \n",
       "2  johnnybebad666_  John Fitzgerald Kennedy Page®  1255004404723462146   \n",
       "3  _offclemmanuelp            Emmanuel Paguntalan  1255105729008226304   \n",
       "4    HelenAsimegbe                 Helen Asimegbe  1255110017453359104   \n",
       "\n",
       "             timestamp                                               text  \\\n",
       "0  2020-04-28 04:50:10  Happy Birthday Mom!  You wouldn’t believe what...   \n",
       "1  2020-04-28 05:03:12  Isolation dinners continue with Isabel’s roast...   \n",
       "2  2020-04-28 05:22:21  COVID-19 update \\nThis MTA BUS didn't pick me ...   \n",
       "3  2020-04-28 12:04:59  Let's help our Frontliner in fighting COVID-19...   \n",
       "4  2020-04-28 12:22:01  Reposted from patiencesilias You are an amazin...   \n",
       "\n",
       "                                            hashtags  likes  retweets  \\\n",
       "0  ['bestmom', 'bestfriend', 'happybirthday', '1s...      0         0   \n",
       "1  ['Dinner', 'Chicken', 'Isolation', 'IsolationD...      0         0   \n",
       "2                                                 []      0         0   \n",
       "3                                                 []      0         0   \n",
       "4                                             ['my']      0         0   \n",
       "\n",
       "   replies  sentiment_score         city  county_fips  density  \\\n",
       "0        0         0.313973  Sands Point        36059    265.0   \n",
       "1        0        -0.600000       Queens        36000   8247.0   \n",
       "2        0         0.000000       Queens        36000   8247.0   \n",
       "3        0         0.041667       Queens        36000   8247.0   \n",
       "4        0         0.358333       Queens        36000   8247.0   \n",
       "\n",
       "                  date         county     state  county_cases  county_deaths  \\\n",
       "0  2020-04-28 00:00:00         Nassau  New York       35085.0         2039.0   \n",
       "1  2020-04-28 00:00:00  New York City  New York      162348.0        12067.0   \n",
       "2  2020-04-28 00:00:00  New York City  New York      162348.0        12067.0   \n",
       "3  2020-04-28 00:00:00  New York City  New York      162348.0        12067.0   \n",
       "4  2020-04-28 00:00:00  New York City  New York      162348.0        12067.0   \n",
       "\n",
       "   state_fips  state_cases  state_deaths  county_population  state_population  \\\n",
       "0        36.0     295137.0       17638.0          1356924.0        19453561.0   \n",
       "1        36.0     295137.0       17638.0          8336817.0        19453561.0   \n",
       "2        36.0     295137.0       17638.0          8336817.0        19453561.0   \n",
       "3        36.0     295137.0       17638.0          8336817.0        19453561.0   \n",
       "4        36.0     295137.0       17638.0          8336817.0        19453561.0   \n",
       "\n",
       "   all_gatherings_prohibited  temporary_hospitals  state_stay_at_home  \\\n",
       "0                        1.0                  1.0                 1.0   \n",
       "1                        1.0                  1.0                 1.0   \n",
       "2                        1.0                  1.0                 1.0   \n",
       "3                        1.0                  1.0                 1.0   \n",
       "4                        1.0                  1.0                 1.0   \n",
       "\n",
       "   traveler_quarantines  businesses_reopening  tests_per_thousand  \\\n",
       "0                   0.0                   0.0                61.9   \n",
       "1                   0.0                   0.0                61.9   \n",
       "2                   0.0                   0.0                61.9   \n",
       "3                   0.0                   0.0                61.9   \n",
       "4                   0.0                   0.0                61.9   \n",
       "\n",
       "   test_positives_rate  shelter_in_place  percent_average_mobility_decrease  \n",
       "0                 0.28               1.0                               36.4  \n",
       "1                 0.28               1.0                               36.4  \n",
       "2                 0.28               1.0                               36.4  \n",
       "3                 0.28               1.0                               36.4  \n",
       "4                 0.28               1.0                               36.4  "
      ]
     },
     "execution_count": 3,
     "metadata": {},
     "output_type": "execute_result"
    }
   ],
   "source": [
    "df = pd.read_csv('./tweets_covid_and_policy.csv')\n",
    "df.head()"
   ]
  },
  {
   "cell_type": "markdown",
   "metadata": {},
   "source": [
    "### Data Dictionary \n",
    "\n",
    "|**Feature Name**|**Description**|\n",
    "|:---|:---|\n",
    "|all_gatherings_prohibited|Indicator variable - 1 if all gatherings prohibited in county|\n",
    "|businesses_reopening|Indicator variable - 1 if state has reopened business|\n",
    "|cases|Number of Covid 19 cases in user's county|\n",
    "|city|Twtter user's city name|\n",
    "|county_fips|Standard ID number for user county location|\n",
    "|county_name|Twtter user county name|\n",
    "|date||\n",
    "|deaths|Number of Covid 19 deaths in user's county|\n",
    "|density|Population density of city|\n",
    "|hashtags|Hashtags|\n",
    "|lat|Latitude location of city|\n",
    "|likes|Number of likes|\n",
    "|lng|Longitude location of city|\n",
    "|population|Population of city|\n",
    "|ranking|?|\n",
    "|replies|Number of replies|\n",
    "|retweets|Number of retweets|\n",
    "|screen_name|Twitter user screen name|\n",
    "|sentiment_score|Sentiment score from TextBlob|\n",
    "|shelter_in_place|Indicator variable - 1 if shelter_in_place order in effect for county|\n",
    "|state_id|Two-digit state ID for user location|\n",
    "|state_name|Twtter user state location|\n",
    "|state|Twtter user's state name|\n",
    "|state_stay_at_home|Indicator variable - 1 if statewide stay-at-home order in place|\n",
    "|temporary_hospitals|Indicator variable - 1 if state has created temporary hospitals|\n",
    "|tests_per_thousand|Number of tests per thousand in state conducted by 4/28|\n",
    "|test_positives_rate|Percent of the tests in state conducted by 4/28 that were positive|\n",
    "|text|Tweet text|\n",
    "|traveler_quarantines|Indicator variable - 1 if state has had traveler quarantines|\n",
    "|tweet_id|Tweet ID number - used to identify tweet information|\n",
    "|tweet_timestamp|Timestamp of Tweet|\n",
    "|username|Twitter user username|"
   ]
  },
  {
   "cell_type": "markdown",
   "metadata": {},
   "source": [
    "## Data Cleaning"
   ]
  },
  {
   "cell_type": "markdown",
   "metadata": {},
   "source": [
    "Since the tweets' hastags are already included in the `text` feature, we can delete this column. "
   ]
  },
  {
   "cell_type": "code",
   "execution_count": 4,
   "metadata": {},
   "outputs": [],
   "source": [
    "df.drop(columns=['hashtags'], inplace=True)"
   ]
  },
  {
   "cell_type": "code",
   "execution_count": 5,
   "metadata": {
    "scrolled": false
   },
   "outputs": [
    {
     "data": {
      "text/plain": [
       "(1727, 31)"
      ]
     },
     "execution_count": 5,
     "metadata": {},
     "output_type": "execute_result"
    }
   ],
   "source": [
    "df.shape"
   ]
  },
  {
   "cell_type": "markdown",
   "metadata": {},
   "source": [
    "### Cleaning Null Values"
   ]
  },
  {
   "cell_type": "code",
   "execution_count": 6,
   "metadata": {
    "scrolled": false
   },
   "outputs": [
    {
     "data": {
      "text/plain": [
       "screen_name                          0\n",
       "username                             0\n",
       "tweet_id                             0\n",
       "timestamp                            0\n",
       "text                                 0\n",
       "likes                                0\n",
       "retweets                             0\n",
       "replies                              0\n",
       "sentiment_score                      0\n",
       "city                                 0\n",
       "county_fips                          0\n",
       "density                              0\n",
       "date                                 0\n",
       "county                               1\n",
       "state                                1\n",
       "county_cases                         1\n",
       "county_deaths                        1\n",
       "state_fips                           1\n",
       "state_cases                          1\n",
       "state_deaths                         1\n",
       "county_population                    1\n",
       "state_population                     1\n",
       "all_gatherings_prohibited            1\n",
       "temporary_hospitals                  1\n",
       "state_stay_at_home                   1\n",
       "traveler_quarantines                 1\n",
       "businesses_reopening                 1\n",
       "tests_per_thousand                   1\n",
       "test_positives_rate                  1\n",
       "shelter_in_place                     1\n",
       "percent_average_mobility_decrease    1\n",
       "dtype: int64"
      ]
     },
     "execution_count": 6,
     "metadata": {},
     "output_type": "execute_result"
    }
   ],
   "source": [
    "df.isnull().sum()"
   ]
  },
  {
   "cell_type": "code",
   "execution_count": 7,
   "metadata": {
    "scrolled": true
   },
   "outputs": [
    {
     "data": {
      "text/html": [
       "<div>\n",
       "<style scoped>\n",
       "    .dataframe tbody tr th:only-of-type {\n",
       "        vertical-align: middle;\n",
       "    }\n",
       "\n",
       "    .dataframe tbody tr th {\n",
       "        vertical-align: top;\n",
       "    }\n",
       "\n",
       "    .dataframe thead th {\n",
       "        text-align: right;\n",
       "    }\n",
       "</style>\n",
       "<table border=\"1\" class=\"dataframe\">\n",
       "  <thead>\n",
       "    <tr style=\"text-align: right;\">\n",
       "      <th></th>\n",
       "      <th>screen_name</th>\n",
       "      <th>username</th>\n",
       "      <th>tweet_id</th>\n",
       "      <th>timestamp</th>\n",
       "      <th>text</th>\n",
       "      <th>likes</th>\n",
       "      <th>retweets</th>\n",
       "      <th>replies</th>\n",
       "      <th>sentiment_score</th>\n",
       "      <th>city</th>\n",
       "      <th>county_fips</th>\n",
       "      <th>density</th>\n",
       "      <th>date</th>\n",
       "      <th>county</th>\n",
       "      <th>state</th>\n",
       "      <th>county_cases</th>\n",
       "      <th>county_deaths</th>\n",
       "      <th>state_fips</th>\n",
       "      <th>state_cases</th>\n",
       "      <th>state_deaths</th>\n",
       "      <th>county_population</th>\n",
       "      <th>state_population</th>\n",
       "      <th>all_gatherings_prohibited</th>\n",
       "      <th>temporary_hospitals</th>\n",
       "      <th>state_stay_at_home</th>\n",
       "      <th>traveler_quarantines</th>\n",
       "      <th>businesses_reopening</th>\n",
       "      <th>tests_per_thousand</th>\n",
       "      <th>test_positives_rate</th>\n",
       "      <th>shelter_in_place</th>\n",
       "      <th>percent_average_mobility_decrease</th>\n",
       "    </tr>\n",
       "  </thead>\n",
       "  <tbody>\n",
       "    <tr>\n",
       "      <th>1675</th>\n",
       "      <td>sandibachom</td>\n",
       "      <td>Sandi Bachom</td>\n",
       "      <td>1256006392349175812</td>\n",
       "      <td>2020-04-30 23:43:54</td>\n",
       "      <td>So good to see my pal @steffikeith I miss my p...</td>\n",
       "      <td>15</td>\n",
       "      <td>0</td>\n",
       "      <td>0</td>\n",
       "      <td>0.62</td>\n",
       "      <td>Muleshoe</td>\n",
       "      <td>48017</td>\n",
       "      <td>571.0</td>\n",
       "      <td>2020-04-30 00:00:00</td>\n",
       "      <td>NaN</td>\n",
       "      <td>NaN</td>\n",
       "      <td>NaN</td>\n",
       "      <td>NaN</td>\n",
       "      <td>NaN</td>\n",
       "      <td>NaN</td>\n",
       "      <td>NaN</td>\n",
       "      <td>NaN</td>\n",
       "      <td>NaN</td>\n",
       "      <td>NaN</td>\n",
       "      <td>NaN</td>\n",
       "      <td>NaN</td>\n",
       "      <td>NaN</td>\n",
       "      <td>NaN</td>\n",
       "      <td>NaN</td>\n",
       "      <td>NaN</td>\n",
       "      <td>NaN</td>\n",
       "      <td>NaN</td>\n",
       "    </tr>\n",
       "  </tbody>\n",
       "</table>\n",
       "</div>"
      ],
      "text/plain": [
       "      screen_name      username             tweet_id            timestamp  \\\n",
       "1675  sandibachom  Sandi Bachom  1256006392349175812  2020-04-30 23:43:54   \n",
       "\n",
       "                                                   text  likes  retweets  \\\n",
       "1675  So good to see my pal @steffikeith I miss my p...     15         0   \n",
       "\n",
       "      replies  sentiment_score      city  county_fips  density  \\\n",
       "1675        0             0.62  Muleshoe        48017    571.0   \n",
       "\n",
       "                     date county state  county_cases  county_deaths  \\\n",
       "1675  2020-04-30 00:00:00    NaN   NaN           NaN            NaN   \n",
       "\n",
       "      state_fips  state_cases  state_deaths  county_population  \\\n",
       "1675         NaN          NaN           NaN                NaN   \n",
       "\n",
       "      state_population  all_gatherings_prohibited  temporary_hospitals  \\\n",
       "1675               NaN                        NaN                  NaN   \n",
       "\n",
       "      state_stay_at_home  traveler_quarantines  businesses_reopening  \\\n",
       "1675                 NaN                   NaN                   NaN   \n",
       "\n",
       "      tests_per_thousand  test_positives_rate  shelter_in_place  \\\n",
       "1675                 NaN                  NaN               NaN   \n",
       "\n",
       "      percent_average_mobility_decrease  \n",
       "1675                                NaN  "
      ]
     },
     "execution_count": 7,
     "metadata": {},
     "output_type": "execute_result"
    }
   ],
   "source": [
    "df[df['county'].isnull()]"
   ]
  },
  {
   "cell_type": "markdown",
   "metadata": {},
   "source": [
    "All missing values belong to the same observation. Upon inspection it was discovered that those missing values are due to a conflict when the `tweets_and_county_ny_tx` and `covid_pop_and_policy_tx_ny` dataframes were merged during data gathering (see data gathering notebook). The conflict was due to the fact that Muleshoe is part of Bailey County which did not have any cases of Covid-19 when the tweet was posted on April 30th 2020.   \n",
    "Since the data concerning Bailey County is available, we will manually enter it at this time based on information from the `covid_pop_and_policy_tx_ny` dataframe for 4/30/20 in TX. "
   ]
  },
  {
   "cell_type": "code",
   "execution_count": 8,
   "metadata": {},
   "outputs": [],
   "source": [
    "df.loc[1675,'county'] = 'Bailey'\n",
    "df.loc[1675,'state'] = 'Texas'\n",
    "df.loc[1675,'county_cases'] = 0 \n",
    "df.loc[1675,'county_deaths'] = 0 \n",
    "df.loc[1675,'state_fips'] = 48\n",
    "df.loc[1675,'state_cases'] = 29072\n",
    "df.loc[1675,'state_deaths'] = 828\n",
    "df.loc[1675,'county_population'] = 7000\n",
    "df.loc[1675,'state_population'] = 28995881\n",
    "df.loc[1675,'all_gatherings_prohibited'] = 0\n",
    "df.loc[1675,'temporary_hospitals'] = 0\n",
    "df.loc[1675,'state_stay_at_home'] = 0\n",
    "df.loc[1675,'traveler_quarantines'] = 1\n",
    "df.loc[1675,'businesses_reopening'] = 1\n",
    "df.loc[1675,'tests_per_thousand'] = 18.1\n",
    "df.loc[1675,'test_positives_rate'] = 0.08\n",
    "df.loc[1675,'shelter_in_place'] = 0\n",
    "df.loc[1675,'percent_average_mobility_decrease'] = 18.5"
   ]
  },
  {
   "cell_type": "code",
   "execution_count": 9,
   "metadata": {},
   "outputs": [
    {
     "data": {
      "text/plain": [
       "0"
      ]
     },
     "execution_count": 9,
     "metadata": {},
     "output_type": "execute_result"
    }
   ],
   "source": [
    "df.isnull().sum().sum()"
   ]
  },
  {
   "cell_type": "markdown",
   "metadata": {},
   "source": [
    "There are no more missing values in our dataset. "
   ]
  },
  {
   "cell_type": "markdown",
   "metadata": {},
   "source": [
    "### Cleaning Datatypes"
   ]
  },
  {
   "cell_type": "code",
   "execution_count": 10,
   "metadata": {
    "scrolled": false
   },
   "outputs": [
    {
     "data": {
      "text/plain": [
       "screen_name                           object\n",
       "username                              object\n",
       "tweet_id                               int64\n",
       "timestamp                             object\n",
       "text                                  object\n",
       "likes                                  int64\n",
       "retweets                               int64\n",
       "replies                                int64\n",
       "sentiment_score                      float64\n",
       "city                                  object\n",
       "county_fips                            int64\n",
       "density                              float64\n",
       "date                                  object\n",
       "county                                object\n",
       "state                                 object\n",
       "county_cases                         float64\n",
       "county_deaths                        float64\n",
       "state_fips                           float64\n",
       "state_cases                          float64\n",
       "state_deaths                         float64\n",
       "county_population                    float64\n",
       "state_population                     float64\n",
       "all_gatherings_prohibited            float64\n",
       "temporary_hospitals                  float64\n",
       "state_stay_at_home                   float64\n",
       "traveler_quarantines                 float64\n",
       "businesses_reopening                 float64\n",
       "tests_per_thousand                   float64\n",
       "test_positives_rate                  float64\n",
       "shelter_in_place                     float64\n",
       "percent_average_mobility_decrease    float64\n",
       "dtype: object"
      ]
     },
     "execution_count": 10,
     "metadata": {},
     "output_type": "execute_result"
    }
   ],
   "source": [
    "df.dtypes"
   ]
  },
  {
   "cell_type": "markdown",
   "metadata": {},
   "source": [
    "Some of the features' data types are not what they should be. For instance, `date` and `timestamp` should have a type of datetime instead of objects.  \n",
    "We will therefore write a function to correct the erroneous data types."
   ]
  },
  {
   "cell_type": "code",
   "execution_count": 11,
   "metadata": {},
   "outputs": [],
   "source": [
    "def datatype_cleaning(df):\n",
    "    # Changing timestamp and date to datetime types \n",
    "    for col in ['timestamp', 'date']:\n",
    "        df[col] = pd.to_datetime(df[col])\n",
    "    # Changing columns to be integer type\n",
    "    for col in ['county_cases', 'county_deaths', 'state_cases', 'state_deaths',\n",
    "                'county_population', 'state_population', 'all_gatherings_prohibited', 'temporary_hospitals',\n",
    "                'state_stay_at_home', 'traveler_quarantines', 'businesses_reopening', 'shelter_in_place']:\n",
    "        df[col] = df[col].astype(int)\n",
    "    # Changing columns to be objects \n",
    "    for col in ['county_fips', 'state_fips', 'tweet_id']:\n",
    "        df[col] = df[col].astype(str)\n",
    "    return df "
   ]
  },
  {
   "cell_type": "code",
   "execution_count": 12,
   "metadata": {},
   "outputs": [],
   "source": [
    "df = datatype_cleaning(df)"
   ]
  },
  {
   "cell_type": "code",
   "execution_count": 13,
   "metadata": {
    "scrolled": false
   },
   "outputs": [
    {
     "data": {
      "text/plain": [
       "screen_name                                  object\n",
       "username                                     object\n",
       "tweet_id                                     object\n",
       "timestamp                            datetime64[ns]\n",
       "text                                         object\n",
       "likes                                         int64\n",
       "retweets                                      int64\n",
       "replies                                       int64\n",
       "sentiment_score                             float64\n",
       "city                                         object\n",
       "county_fips                                  object\n",
       "density                                     float64\n",
       "date                                 datetime64[ns]\n",
       "county                                       object\n",
       "state                                        object\n",
       "county_cases                                  int64\n",
       "county_deaths                                 int64\n",
       "state_fips                                   object\n",
       "state_cases                                   int64\n",
       "state_deaths                                  int64\n",
       "county_population                             int64\n",
       "state_population                              int64\n",
       "all_gatherings_prohibited                     int64\n",
       "temporary_hospitals                           int64\n",
       "state_stay_at_home                            int64\n",
       "traveler_quarantines                          int64\n",
       "businesses_reopening                          int64\n",
       "tests_per_thousand                          float64\n",
       "test_positives_rate                         float64\n",
       "shelter_in_place                              int64\n",
       "percent_average_mobility_decrease           float64\n",
       "dtype: object"
      ]
     },
     "execution_count": 13,
     "metadata": {},
     "output_type": "execute_result"
    }
   ],
   "source": [
    "df.dtypes"
   ]
  },
  {
   "cell_type": "markdown",
   "metadata": {},
   "source": [
    "In order for a feature to be included in a model, it must contain numeric data.  \n",
    "As a result, we need to modify our `state` feature into an `is_nys` feature where a value of `1` signifies that the tweet was posted by someone in NY State and `0` meaning that the tweet was posted by someone in Texas.   "
   ]
  },
  {
   "cell_type": "code",
   "execution_count": 14,
   "metadata": {
    "scrolled": false
   },
   "outputs": [
    {
     "data": {
      "text/html": [
       "<div>\n",
       "<style scoped>\n",
       "    .dataframe tbody tr th:only-of-type {\n",
       "        vertical-align: middle;\n",
       "    }\n",
       "\n",
       "    .dataframe tbody tr th {\n",
       "        vertical-align: top;\n",
       "    }\n",
       "\n",
       "    .dataframe thead th {\n",
       "        text-align: right;\n",
       "    }\n",
       "</style>\n",
       "<table border=\"1\" class=\"dataframe\">\n",
       "  <thead>\n",
       "    <tr style=\"text-align: right;\">\n",
       "      <th></th>\n",
       "      <th>screen_name</th>\n",
       "      <th>username</th>\n",
       "      <th>tweet_id</th>\n",
       "      <th>timestamp</th>\n",
       "      <th>text</th>\n",
       "      <th>likes</th>\n",
       "      <th>retweets</th>\n",
       "      <th>replies</th>\n",
       "      <th>sentiment_score</th>\n",
       "      <th>city</th>\n",
       "      <th>county_fips</th>\n",
       "      <th>density</th>\n",
       "      <th>date</th>\n",
       "      <th>county</th>\n",
       "      <th>is_nys</th>\n",
       "      <th>county_cases</th>\n",
       "      <th>county_deaths</th>\n",
       "      <th>state_fips</th>\n",
       "      <th>state_cases</th>\n",
       "      <th>state_deaths</th>\n",
       "      <th>county_population</th>\n",
       "      <th>state_population</th>\n",
       "      <th>all_gatherings_prohibited</th>\n",
       "      <th>temporary_hospitals</th>\n",
       "      <th>state_stay_at_home</th>\n",
       "      <th>traveler_quarantines</th>\n",
       "      <th>businesses_reopening</th>\n",
       "      <th>tests_per_thousand</th>\n",
       "      <th>test_positives_rate</th>\n",
       "      <th>shelter_in_place</th>\n",
       "      <th>percent_average_mobility_decrease</th>\n",
       "    </tr>\n",
       "  </thead>\n",
       "  <tbody>\n",
       "    <tr>\n",
       "      <th>0</th>\n",
       "      <td>BillBodouva</td>\n",
       "      <td>Real Estate BuyerRep</td>\n",
       "      <td>1254996305082036224</td>\n",
       "      <td>2020-04-28 04:50:10</td>\n",
       "      <td>Happy Birthday Mom!  You wouldn’t believe what...</td>\n",
       "      <td>0</td>\n",
       "      <td>0</td>\n",
       "      <td>0</td>\n",
       "      <td>0.313973</td>\n",
       "      <td>Sands Point</td>\n",
       "      <td>36059</td>\n",
       "      <td>265.0</td>\n",
       "      <td>2020-04-28</td>\n",
       "      <td>Nassau</td>\n",
       "      <td>1</td>\n",
       "      <td>35085</td>\n",
       "      <td>2039</td>\n",
       "      <td>36.0</td>\n",
       "      <td>295137</td>\n",
       "      <td>17638</td>\n",
       "      <td>1356924</td>\n",
       "      <td>19453561</td>\n",
       "      <td>1</td>\n",
       "      <td>1</td>\n",
       "      <td>1</td>\n",
       "      <td>0</td>\n",
       "      <td>0</td>\n",
       "      <td>61.9</td>\n",
       "      <td>0.28</td>\n",
       "      <td>1</td>\n",
       "      <td>36.4</td>\n",
       "    </tr>\n",
       "    <tr>\n",
       "      <th>1</th>\n",
       "      <td>zagnut99</td>\n",
       "      <td>Frank Zagottis</td>\n",
       "      <td>1254999586302820353</td>\n",
       "      <td>2020-04-28 05:03:12</td>\n",
       "      <td>Isolation dinners continue with Isabel’s roast...</td>\n",
       "      <td>0</td>\n",
       "      <td>0</td>\n",
       "      <td>0</td>\n",
       "      <td>-0.600000</td>\n",
       "      <td>Queens</td>\n",
       "      <td>36000</td>\n",
       "      <td>8247.0</td>\n",
       "      <td>2020-04-28</td>\n",
       "      <td>New York City</td>\n",
       "      <td>1</td>\n",
       "      <td>162348</td>\n",
       "      <td>12067</td>\n",
       "      <td>36.0</td>\n",
       "      <td>295137</td>\n",
       "      <td>17638</td>\n",
       "      <td>8336817</td>\n",
       "      <td>19453561</td>\n",
       "      <td>1</td>\n",
       "      <td>1</td>\n",
       "      <td>1</td>\n",
       "      <td>0</td>\n",
       "      <td>0</td>\n",
       "      <td>61.9</td>\n",
       "      <td>0.28</td>\n",
       "      <td>1</td>\n",
       "      <td>36.4</td>\n",
       "    </tr>\n",
       "    <tr>\n",
       "      <th>2</th>\n",
       "      <td>johnnybebad666_</td>\n",
       "      <td>John Fitzgerald Kennedy Page®</td>\n",
       "      <td>1255004404723462146</td>\n",
       "      <td>2020-04-28 05:22:21</td>\n",
       "      <td>COVID-19 update \\nThis MTA BUS didn't pick me ...</td>\n",
       "      <td>0</td>\n",
       "      <td>0</td>\n",
       "      <td>0</td>\n",
       "      <td>0.000000</td>\n",
       "      <td>Queens</td>\n",
       "      <td>36000</td>\n",
       "      <td>8247.0</td>\n",
       "      <td>2020-04-28</td>\n",
       "      <td>New York City</td>\n",
       "      <td>1</td>\n",
       "      <td>162348</td>\n",
       "      <td>12067</td>\n",
       "      <td>36.0</td>\n",
       "      <td>295137</td>\n",
       "      <td>17638</td>\n",
       "      <td>8336817</td>\n",
       "      <td>19453561</td>\n",
       "      <td>1</td>\n",
       "      <td>1</td>\n",
       "      <td>1</td>\n",
       "      <td>0</td>\n",
       "      <td>0</td>\n",
       "      <td>61.9</td>\n",
       "      <td>0.28</td>\n",
       "      <td>1</td>\n",
       "      <td>36.4</td>\n",
       "    </tr>\n",
       "    <tr>\n",
       "      <th>3</th>\n",
       "      <td>_offclemmanuelp</td>\n",
       "      <td>Emmanuel Paguntalan</td>\n",
       "      <td>1255105729008226304</td>\n",
       "      <td>2020-04-28 12:04:59</td>\n",
       "      <td>Let's help our Frontliner in fighting COVID-19...</td>\n",
       "      <td>0</td>\n",
       "      <td>0</td>\n",
       "      <td>0</td>\n",
       "      <td>0.041667</td>\n",
       "      <td>Queens</td>\n",
       "      <td>36000</td>\n",
       "      <td>8247.0</td>\n",
       "      <td>2020-04-28</td>\n",
       "      <td>New York City</td>\n",
       "      <td>1</td>\n",
       "      <td>162348</td>\n",
       "      <td>12067</td>\n",
       "      <td>36.0</td>\n",
       "      <td>295137</td>\n",
       "      <td>17638</td>\n",
       "      <td>8336817</td>\n",
       "      <td>19453561</td>\n",
       "      <td>1</td>\n",
       "      <td>1</td>\n",
       "      <td>1</td>\n",
       "      <td>0</td>\n",
       "      <td>0</td>\n",
       "      <td>61.9</td>\n",
       "      <td>0.28</td>\n",
       "      <td>1</td>\n",
       "      <td>36.4</td>\n",
       "    </tr>\n",
       "    <tr>\n",
       "      <th>4</th>\n",
       "      <td>HelenAsimegbe</td>\n",
       "      <td>Helen Asimegbe</td>\n",
       "      <td>1255110017453359104</td>\n",
       "      <td>2020-04-28 12:22:01</td>\n",
       "      <td>Reposted from patiencesilias You are an amazin...</td>\n",
       "      <td>0</td>\n",
       "      <td>0</td>\n",
       "      <td>0</td>\n",
       "      <td>0.358333</td>\n",
       "      <td>Queens</td>\n",
       "      <td>36000</td>\n",
       "      <td>8247.0</td>\n",
       "      <td>2020-04-28</td>\n",
       "      <td>New York City</td>\n",
       "      <td>1</td>\n",
       "      <td>162348</td>\n",
       "      <td>12067</td>\n",
       "      <td>36.0</td>\n",
       "      <td>295137</td>\n",
       "      <td>17638</td>\n",
       "      <td>8336817</td>\n",
       "      <td>19453561</td>\n",
       "      <td>1</td>\n",
       "      <td>1</td>\n",
       "      <td>1</td>\n",
       "      <td>0</td>\n",
       "      <td>0</td>\n",
       "      <td>61.9</td>\n",
       "      <td>0.28</td>\n",
       "      <td>1</td>\n",
       "      <td>36.4</td>\n",
       "    </tr>\n",
       "  </tbody>\n",
       "</table>\n",
       "</div>"
      ],
      "text/plain": [
       "       screen_name                       username             tweet_id  \\\n",
       "0      BillBodouva           Real Estate BuyerRep  1254996305082036224   \n",
       "1         zagnut99                 Frank Zagottis  1254999586302820353   \n",
       "2  johnnybebad666_  John Fitzgerald Kennedy Page®  1255004404723462146   \n",
       "3  _offclemmanuelp            Emmanuel Paguntalan  1255105729008226304   \n",
       "4    HelenAsimegbe                 Helen Asimegbe  1255110017453359104   \n",
       "\n",
       "            timestamp                                               text  \\\n",
       "0 2020-04-28 04:50:10  Happy Birthday Mom!  You wouldn’t believe what...   \n",
       "1 2020-04-28 05:03:12  Isolation dinners continue with Isabel’s roast...   \n",
       "2 2020-04-28 05:22:21  COVID-19 update \\nThis MTA BUS didn't pick me ...   \n",
       "3 2020-04-28 12:04:59  Let's help our Frontliner in fighting COVID-19...   \n",
       "4 2020-04-28 12:22:01  Reposted from patiencesilias You are an amazin...   \n",
       "\n",
       "   likes  retweets  replies  sentiment_score         city county_fips  \\\n",
       "0      0         0        0         0.313973  Sands Point       36059   \n",
       "1      0         0        0        -0.600000       Queens       36000   \n",
       "2      0         0        0         0.000000       Queens       36000   \n",
       "3      0         0        0         0.041667       Queens       36000   \n",
       "4      0         0        0         0.358333       Queens       36000   \n",
       "\n",
       "   density       date         county  is_nys  county_cases  county_deaths  \\\n",
       "0    265.0 2020-04-28         Nassau       1         35085           2039   \n",
       "1   8247.0 2020-04-28  New York City       1        162348          12067   \n",
       "2   8247.0 2020-04-28  New York City       1        162348          12067   \n",
       "3   8247.0 2020-04-28  New York City       1        162348          12067   \n",
       "4   8247.0 2020-04-28  New York City       1        162348          12067   \n",
       "\n",
       "  state_fips  state_cases  state_deaths  county_population  state_population  \\\n",
       "0       36.0       295137         17638            1356924          19453561   \n",
       "1       36.0       295137         17638            8336817          19453561   \n",
       "2       36.0       295137         17638            8336817          19453561   \n",
       "3       36.0       295137         17638            8336817          19453561   \n",
       "4       36.0       295137         17638            8336817          19453561   \n",
       "\n",
       "   all_gatherings_prohibited  temporary_hospitals  state_stay_at_home  \\\n",
       "0                          1                    1                   1   \n",
       "1                          1                    1                   1   \n",
       "2                          1                    1                   1   \n",
       "3                          1                    1                   1   \n",
       "4                          1                    1                   1   \n",
       "\n",
       "   traveler_quarantines  businesses_reopening  tests_per_thousand  \\\n",
       "0                     0                     0                61.9   \n",
       "1                     0                     0                61.9   \n",
       "2                     0                     0                61.9   \n",
       "3                     0                     0                61.9   \n",
       "4                     0                     0                61.9   \n",
       "\n",
       "   test_positives_rate  shelter_in_place  percent_average_mobility_decrease  \n",
       "0                 0.28                 1                               36.4  \n",
       "1                 0.28                 1                               36.4  \n",
       "2                 0.28                 1                               36.4  \n",
       "3                 0.28                 1                               36.4  \n",
       "4                 0.28                 1                               36.4  "
      ]
     },
     "execution_count": 14,
     "metadata": {},
     "output_type": "execute_result"
    }
   ],
   "source": [
    "df.rename(columns={'state':'is_nys'}, inplace=True)\n",
    "df['is_nys'] = df['is_nys'].map({'New York':1, 'Texas':0})\n",
    "df.head()"
   ]
  },
  {
   "cell_type": "markdown",
   "metadata": {},
   "source": [
    "## EDA"
   ]
  },
  {
   "cell_type": "markdown",
   "metadata": {},
   "source": [
    "### Feature Engineering"
   ]
  },
  {
   "cell_type": "code",
   "execution_count": 15,
   "metadata": {},
   "outputs": [],
   "source": [
    "df['tweet_length'] = [len(tweet) for tweet in df['text']]"
   ]
  },
  {
   "cell_type": "code",
   "execution_count": 16,
   "metadata": {
    "scrolled": true
   },
   "outputs": [
    {
     "data": {
      "text/html": [
       "<div>\n",
       "<style scoped>\n",
       "    .dataframe tbody tr th:only-of-type {\n",
       "        vertical-align: middle;\n",
       "    }\n",
       "\n",
       "    .dataframe tbody tr th {\n",
       "        vertical-align: top;\n",
       "    }\n",
       "\n",
       "    .dataframe thead th {\n",
       "        text-align: right;\n",
       "    }\n",
       "</style>\n",
       "<table border=\"1\" class=\"dataframe\">\n",
       "  <thead>\n",
       "    <tr style=\"text-align: right;\">\n",
       "      <th></th>\n",
       "      <th>likes</th>\n",
       "      <th>retweets</th>\n",
       "      <th>replies</th>\n",
       "      <th>sentiment_score</th>\n",
       "      <th>density</th>\n",
       "      <th>is_nys</th>\n",
       "      <th>county_cases</th>\n",
       "      <th>county_deaths</th>\n",
       "      <th>state_cases</th>\n",
       "      <th>state_deaths</th>\n",
       "      <th>county_population</th>\n",
       "      <th>state_population</th>\n",
       "      <th>all_gatherings_prohibited</th>\n",
       "      <th>temporary_hospitals</th>\n",
       "      <th>state_stay_at_home</th>\n",
       "      <th>traveler_quarantines</th>\n",
       "      <th>businesses_reopening</th>\n",
       "      <th>tests_per_thousand</th>\n",
       "      <th>test_positives_rate</th>\n",
       "      <th>shelter_in_place</th>\n",
       "      <th>percent_average_mobility_decrease</th>\n",
       "      <th>tweet_length</th>\n",
       "    </tr>\n",
       "  </thead>\n",
       "  <tbody>\n",
       "    <tr>\n",
       "      <th>count</th>\n",
       "      <td>1727.000000</td>\n",
       "      <td>1727.000000</td>\n",
       "      <td>1727.000000</td>\n",
       "      <td>1727.000000</td>\n",
       "      <td>1727.000000</td>\n",
       "      <td>1727.000000</td>\n",
       "      <td>1727.000000</td>\n",
       "      <td>1727.000000</td>\n",
       "      <td>1727.000000</td>\n",
       "      <td>1727.000000</td>\n",
       "      <td>1.727000e+03</td>\n",
       "      <td>1.727000e+03</td>\n",
       "      <td>1727.000000</td>\n",
       "      <td>1727.000000</td>\n",
       "      <td>1727.000000</td>\n",
       "      <td>1727.000000</td>\n",
       "      <td>1727.000000</td>\n",
       "      <td>1727.000000</td>\n",
       "      <td>1727.000000</td>\n",
       "      <td>1727.000000</td>\n",
       "      <td>1727.000000</td>\n",
       "      <td>1727.000000</td>\n",
       "    </tr>\n",
       "    <tr>\n",
       "      <th>mean</th>\n",
       "      <td>0.834395</td>\n",
       "      <td>0.205559</td>\n",
       "      <td>0.108280</td>\n",
       "      <td>0.113676</td>\n",
       "      <td>15809.987261</td>\n",
       "      <td>0.753909</td>\n",
       "      <td>115395.475970</td>\n",
       "      <td>8608.506659</td>\n",
       "      <td>241970.345686</td>\n",
       "      <td>14464.993052</td>\n",
       "      <td>6.155987e+06</td>\n",
       "      <td>2.180184e+07</td>\n",
       "      <td>0.753909</td>\n",
       "      <td>0.753909</td>\n",
       "      <td>0.753909</td>\n",
       "      <td>0.246091</td>\n",
       "      <td>0.246091</td>\n",
       "      <td>51.121193</td>\n",
       "      <td>0.230782</td>\n",
       "      <td>0.753909</td>\n",
       "      <td>31.994962</td>\n",
       "      <td>236.475391</td>\n",
       "    </tr>\n",
       "    <tr>\n",
       "      <th>std</th>\n",
       "      <td>6.967839</td>\n",
       "      <td>1.195304</td>\n",
       "      <td>1.117322</td>\n",
       "      <td>0.256718</td>\n",
       "      <td>12092.553797</td>\n",
       "      <td>0.430857</td>\n",
       "      <td>77783.310522</td>\n",
       "      <td>6022.123817</td>\n",
       "      <td>120872.964117</td>\n",
       "      <td>7835.023535</td>\n",
       "      <td>3.146004e+06</td>\n",
       "      <td>4.111378e+06</td>\n",
       "      <td>0.430857</td>\n",
       "      <td>0.430857</td>\n",
       "      <td>0.430857</td>\n",
       "      <td>0.430857</td>\n",
       "      <td>0.430857</td>\n",
       "      <td>18.871547</td>\n",
       "      <td>0.086171</td>\n",
       "      <td>0.430857</td>\n",
       "      <td>7.712345</td>\n",
       "      <td>54.714633</td>\n",
       "    </tr>\n",
       "    <tr>\n",
       "      <th>min</th>\n",
       "      <td>0.000000</td>\n",
       "      <td>0.000000</td>\n",
       "      <td>0.000000</td>\n",
       "      <td>-1.000000</td>\n",
       "      <td>77.000000</td>\n",
       "      <td>0.000000</td>\n",
       "      <td>0.000000</td>\n",
       "      <td>0.000000</td>\n",
       "      <td>26865.000000</td>\n",
       "      <td>738.000000</td>\n",
       "      <td>7.000000e+03</td>\n",
       "      <td>1.945356e+07</td>\n",
       "      <td>0.000000</td>\n",
       "      <td>0.000000</td>\n",
       "      <td>0.000000</td>\n",
       "      <td>0.000000</td>\n",
       "      <td>0.000000</td>\n",
       "      <td>18.100000</td>\n",
       "      <td>0.080000</td>\n",
       "      <td>0.000000</td>\n",
       "      <td>18.500000</td>\n",
       "      <td>38.000000</td>\n",
       "    </tr>\n",
       "    <tr>\n",
       "      <th>25%</th>\n",
       "      <td>0.000000</td>\n",
       "      <td>0.000000</td>\n",
       "      <td>0.000000</td>\n",
       "      <td>0.000000</td>\n",
       "      <td>1524.000000</td>\n",
       "      <td>1.000000</td>\n",
       "      <td>6708.000000</td>\n",
       "      <td>129.000000</td>\n",
       "      <td>295137.000000</td>\n",
       "      <td>17638.000000</td>\n",
       "      <td>2.635516e+06</td>\n",
       "      <td>1.945356e+07</td>\n",
       "      <td>1.000000</td>\n",
       "      <td>1.000000</td>\n",
       "      <td>1.000000</td>\n",
       "      <td>0.000000</td>\n",
       "      <td>0.000000</td>\n",
       "      <td>61.900000</td>\n",
       "      <td>0.280000</td>\n",
       "      <td>1.000000</td>\n",
       "      <td>36.400000</td>\n",
       "      <td>202.500000</td>\n",
       "    </tr>\n",
       "    <tr>\n",
       "      <th>50%</th>\n",
       "      <td>0.000000</td>\n",
       "      <td>0.000000</td>\n",
       "      <td>0.000000</td>\n",
       "      <td>0.000000</td>\n",
       "      <td>14606.000000</td>\n",
       "      <td>1.000000</td>\n",
       "      <td>167489.000000</td>\n",
       "      <td>12514.000000</td>\n",
       "      <td>308345.000000</td>\n",
       "      <td>18610.000000</td>\n",
       "      <td>8.336817e+06</td>\n",
       "      <td>1.945356e+07</td>\n",
       "      <td>1.000000</td>\n",
       "      <td>1.000000</td>\n",
       "      <td>1.000000</td>\n",
       "      <td>0.000000</td>\n",
       "      <td>0.000000</td>\n",
       "      <td>61.900000</td>\n",
       "      <td>0.280000</td>\n",
       "      <td>1.000000</td>\n",
       "      <td>36.400000</td>\n",
       "      <td>265.000000</td>\n",
       "    </tr>\n",
       "    <tr>\n",
       "      <th>75%</th>\n",
       "      <td>0.000000</td>\n",
       "      <td>0.000000</td>\n",
       "      <td>0.000000</td>\n",
       "      <td>0.246834</td>\n",
       "      <td>27799.000000</td>\n",
       "      <td>1.000000</td>\n",
       "      <td>174341.000000</td>\n",
       "      <td>13064.000000</td>\n",
       "      <td>316446.000000</td>\n",
       "      <td>19189.000000</td>\n",
       "      <td>8.336817e+06</td>\n",
       "      <td>1.945356e+07</td>\n",
       "      <td>1.000000</td>\n",
       "      <td>1.000000</td>\n",
       "      <td>1.000000</td>\n",
       "      <td>0.000000</td>\n",
       "      <td>0.000000</td>\n",
       "      <td>61.900000</td>\n",
       "      <td>0.280000</td>\n",
       "      <td>1.000000</td>\n",
       "      <td>36.400000</td>\n",
       "      <td>276.000000</td>\n",
       "    </tr>\n",
       "    <tr>\n",
       "      <th>max</th>\n",
       "      <td>244.000000</td>\n",
       "      <td>30.000000</td>\n",
       "      <td>39.000000</td>\n",
       "      <td>1.000000</td>\n",
       "      <td>27799.000000</td>\n",
       "      <td>1.000000</td>\n",
       "      <td>183770.000000</td>\n",
       "      <td>18993.000000</td>\n",
       "      <td>329405.000000</td>\n",
       "      <td>25956.000000</td>\n",
       "      <td>8.336817e+06</td>\n",
       "      <td>2.899588e+07</td>\n",
       "      <td>1.000000</td>\n",
       "      <td>1.000000</td>\n",
       "      <td>1.000000</td>\n",
       "      <td>1.000000</td>\n",
       "      <td>1.000000</td>\n",
       "      <td>61.900000</td>\n",
       "      <td>0.280000</td>\n",
       "      <td>1.000000</td>\n",
       "      <td>36.400000</td>\n",
       "      <td>433.000000</td>\n",
       "    </tr>\n",
       "  </tbody>\n",
       "</table>\n",
       "</div>"
      ],
      "text/plain": [
       "             likes     retweets      replies  sentiment_score       density  \\\n",
       "count  1727.000000  1727.000000  1727.000000      1727.000000   1727.000000   \n",
       "mean      0.834395     0.205559     0.108280         0.113676  15809.987261   \n",
       "std       6.967839     1.195304     1.117322         0.256718  12092.553797   \n",
       "min       0.000000     0.000000     0.000000        -1.000000     77.000000   \n",
       "25%       0.000000     0.000000     0.000000         0.000000   1524.000000   \n",
       "50%       0.000000     0.000000     0.000000         0.000000  14606.000000   \n",
       "75%       0.000000     0.000000     0.000000         0.246834  27799.000000   \n",
       "max     244.000000    30.000000    39.000000         1.000000  27799.000000   \n",
       "\n",
       "            is_nys   county_cases  county_deaths    state_cases  state_deaths  \\\n",
       "count  1727.000000    1727.000000    1727.000000    1727.000000   1727.000000   \n",
       "mean      0.753909  115395.475970    8608.506659  241970.345686  14464.993052   \n",
       "std       0.430857   77783.310522    6022.123817  120872.964117   7835.023535   \n",
       "min       0.000000       0.000000       0.000000   26865.000000    738.000000   \n",
       "25%       1.000000    6708.000000     129.000000  295137.000000  17638.000000   \n",
       "50%       1.000000  167489.000000   12514.000000  308345.000000  18610.000000   \n",
       "75%       1.000000  174341.000000   13064.000000  316446.000000  19189.000000   \n",
       "max       1.000000  183770.000000   18993.000000  329405.000000  25956.000000   \n",
       "\n",
       "       county_population  state_population  all_gatherings_prohibited  \\\n",
       "count       1.727000e+03      1.727000e+03                1727.000000   \n",
       "mean        6.155987e+06      2.180184e+07                   0.753909   \n",
       "std         3.146004e+06      4.111378e+06                   0.430857   \n",
       "min         7.000000e+03      1.945356e+07                   0.000000   \n",
       "25%         2.635516e+06      1.945356e+07                   1.000000   \n",
       "50%         8.336817e+06      1.945356e+07                   1.000000   \n",
       "75%         8.336817e+06      1.945356e+07                   1.000000   \n",
       "max         8.336817e+06      2.899588e+07                   1.000000   \n",
       "\n",
       "       temporary_hospitals  state_stay_at_home  traveler_quarantines  \\\n",
       "count          1727.000000         1727.000000           1727.000000   \n",
       "mean              0.753909            0.753909              0.246091   \n",
       "std               0.430857            0.430857              0.430857   \n",
       "min               0.000000            0.000000              0.000000   \n",
       "25%               1.000000            1.000000              0.000000   \n",
       "50%               1.000000            1.000000              0.000000   \n",
       "75%               1.000000            1.000000              0.000000   \n",
       "max               1.000000            1.000000              1.000000   \n",
       "\n",
       "       businesses_reopening  tests_per_thousand  test_positives_rate  \\\n",
       "count           1727.000000         1727.000000          1727.000000   \n",
       "mean               0.246091           51.121193             0.230782   \n",
       "std                0.430857           18.871547             0.086171   \n",
       "min                0.000000           18.100000             0.080000   \n",
       "25%                0.000000           61.900000             0.280000   \n",
       "50%                0.000000           61.900000             0.280000   \n",
       "75%                0.000000           61.900000             0.280000   \n",
       "max                1.000000           61.900000             0.280000   \n",
       "\n",
       "       shelter_in_place  percent_average_mobility_decrease  tweet_length  \n",
       "count       1727.000000                        1727.000000   1727.000000  \n",
       "mean           0.753909                          31.994962    236.475391  \n",
       "std            0.430857                           7.712345     54.714633  \n",
       "min            0.000000                          18.500000     38.000000  \n",
       "25%            1.000000                          36.400000    202.500000  \n",
       "50%            1.000000                          36.400000    265.000000  \n",
       "75%            1.000000                          36.400000    276.000000  \n",
       "max            1.000000                          36.400000    433.000000  "
      ]
     },
     "execution_count": 16,
     "metadata": {},
     "output_type": "execute_result"
    }
   ],
   "source": [
    "df.describe()"
   ]
  },
  {
   "cell_type": "markdown",
   "metadata": {},
   "source": [
    "### User Engagement"
   ]
  },
  {
   "cell_type": "code",
   "execution_count": 17,
   "metadata": {
    "scrolled": true
   },
   "outputs": [
    {
     "data": {
      "image/png": "[encoded data removed]",
      "text/plain": [
       "<Figure size 576x360 with 1 Axes>"
      ]
     },
     "metadata": {
      "needs_background": "light"
     },
     "output_type": "display_data"
    }
   ],
   "source": [
    "# Visualizing the number of tweets from each state \n",
    "plt.figure(figsize=(8,5))\n",
    "plt.title(\"Number of Tweets From Each State\", fontsize = 20, pad = 10)\n",
    "sns.countplot(x = df['is_nys'])\n",
    "plt.xlabel(\"State\", fontsize = 12, labelpad = 5)\n",
    "plt.ylabel(\"Number of Tweets\", fontsize = 12, labelpad = 5)\n",
    "plt.xticks(ticks=[0, 1], labels=['Texas', 'New York']);"
   ]
  },
  {
   "cell_type": "markdown",
   "metadata": {},
   "source": [
    "**Interpretation:** There are 1302 tweets from New York State compared to 425 tweets from Texas. New York residents seem to have posted a lot more tweets related to Covid-19 between April 28th and May 6th compared to Texas residents.   \n",
    "The fact that Texas residents seem to tweet less is coherent with the demographic of Twitter users. Indeed, Twitter users are more likely to identify as Democrats than Republican [(source)](https://www.pewresearch.org/internet/2019/04/24/sizing-up-twitter-users/pdl_04-24-19_twitter_users-00-03/) and Texas is predominantly a Republican state. In addition, Twitter users tend to be younger, more highly educated, and wealthier than the general public [(source)](https://www.pewresearch.org/internet/2019/04/24/sizing-up-twitter-users/pdl_04-24-19_twitter_users-00-04/) which describes the New York population more than the texas population.    "
   ]
  },
  {
   "cell_type": "code",
   "execution_count": 18,
   "metadata": {
    "scrolled": false
   },
   "outputs": [
    {
     "data": {
      "image/png": "[encoded data removed]",
      "text/plain": [
       "<Figure size 576x360 with 1 Axes>"
      ]
     },
     "metadata": {
      "needs_background": "light"
     },
     "output_type": "display_data"
    }
   ],
   "source": [
    "# Visualizing the average of number of likes for each state \n",
    "plt.figure(figsize=(8,5))\n",
    "plt.title(\"Average of the Number of Likes per State\", fontsize = 20, pad = 10)\n",
    "sns.barplot(x = df['is_nys'], y = df['likes'])\n",
    "plt.xlabel(\"State\", fontsize = 12, labelpad = 5)\n",
    "plt.ylabel(\"Average of Number of Likes\", fontsize = 12, labelpad = 5)\n",
    "plt.xticks(ticks=[0, 1], labels=['Texas', 'New York']);"
   ]
  },
  {
   "cell_type": "markdown",
   "metadata": {},
   "source": [
    "**Interpretation:** While users from Texas tend to receive more likes on their tweets, there does not seem to be a real difference in user engaging with one another (measured by likes on a tweet) between TX and NY. Indeed, users from both states only receive around 1 like on their tweets on average. "
   ]
  },
  {
   "cell_type": "code",
   "execution_count": 19,
   "metadata": {},
   "outputs": [
    {
     "data": {
      "image/png": "[encoded data removed]",
      "text/plain": [
       "<Figure size 576x360 with 1 Axes>"
      ]
     },
     "metadata": {
      "needs_background": "light"
     },
     "output_type": "display_data"
    }
   ],
   "source": [
    "# Visualizing the average of number of retweets for each state \n",
    "plt.figure(figsize=(8,5))\n",
    "plt.title(\"Average Number of Retweets per State\", fontsize = 20, pad = 10)\n",
    "sns.barplot(x = df['is_nys'], y = df['retweets'])\n",
    "plt.xlabel(\"State\", fontsize = 12, labelpad = 5)\n",
    "plt.ylabel(\"Average of Number of Retweets\", fontsize = 12, labelpad = 5)\n",
    "plt.xticks(ticks=[0, 1], labels=['Texas', 'New York']);"
   ]
  },
  {
   "cell_type": "markdown",
   "metadata": {},
   "source": [
    "**Interpretation:** While users from Texas tend to have their tweets retweeted slightly more on average, there does not seem to be a real difference in user engagement with one another (measured by number of retweets) between TX and NY. Indeed, users from both states have low levels of engagement with less than 1 retweet on average."
   ]
  },
  {
   "cell_type": "code",
   "execution_count": 20,
   "metadata": {},
   "outputs": [
    {
     "data": {
      "image/png": "[encoded data removed]",
      "text/plain": [
       "<Figure size 576x360 with 1 Axes>"
      ]
     },
     "metadata": {
      "needs_background": "light"
     },
     "output_type": "display_data"
    }
   ],
   "source": [
    "# Visualizing the average of number of replies for each state \n",
    "plt.figure(figsize=(8,5))\n",
    "plt.title(\"Average of the Number of Replies per State\", fontsize = 20, pad = 10)\n",
    "sns.barplot(x = df['is_nys'], y = df['replies'])\n",
    "plt.xlabel(\"State\", fontsize = 12, labelpad = 5)\n",
    "plt.ylabel(\"Average of Number of Replies\", fontsize = 12, labelpad = 5)\n",
    "plt.xticks(ticks=[0, 1], labels=['Texas', 'New York']);"
   ]
  },
  {
   "cell_type": "markdown",
   "metadata": {},
   "source": [
    "**Interpretation:** While users from Texas tend to receive on average more replies on their tweets, there does not seem to be a real difference in user engagement (measured by replies on a tweet) between TX and NY. Indeed, users from both states minimally engage with one another with less than 1 reply on average.  "
   ]
  },
  {
   "cell_type": "markdown",
   "metadata": {},
   "source": [
    "### Sentiment Score "
   ]
  },
  {
   "cell_type": "code",
   "execution_count": 21,
   "metadata": {
    "scrolled": false
   },
   "outputs": [
    {
     "data": {
      "image/png": "[encoded data removed]",
      "text/plain": [
       "<Figure size 576x360 with 1 Axes>"
      ]
     },
     "metadata": {
      "needs_background": "light"
     },
     "output_type": "display_data"
    }
   ],
   "source": [
    "# Visualizing the average sentiment score for each state \n",
    "plt.figure(figsize=(8,5))\n",
    "plt.title(\"Average Sentiment Score per State\", fontsize = 20, pad = 10)\n",
    "sns.barplot(x = df['is_nys'], y = df['sentiment_score'])\n",
    "plt.xlabel(\"State\", fontsize = 12, labelpad = 5)\n",
    "plt.ylabel(\"Average Sentiment Score\", fontsize = 12, labelpad = 5)\n",
    "plt.xticks(ticks=[0, 1], labels=['Texas', 'New York']);"
   ]
  },
  {
   "cell_type": "markdown",
   "metadata": {},
   "source": [
    "**Interpretation:** Texas seems to have a slightly higher average sentiment score compared to NY State. Both states have a small positive average sentiment score. "
   ]
  },
  {
   "cell_type": "code",
   "execution_count": 22,
   "metadata": {
    "scrolled": true
   },
   "outputs": [
    {
     "data": {
      "image/png": "[encoded data removed]",
      "text/plain": [
       "<Figure size 576x360 with 1 Axes>"
      ]
     },
     "metadata": {
      "needs_background": "light"
     },
     "output_type": "display_data"
    }
   ],
   "source": [
    "#Visualizing distribution of sentiment scores \n",
    "plt.figure(figsize=(8,5))\n",
    "plt.title(\"Distribution of Sentiment Scores\", fontsize = 20, pad = 10)\n",
    "plt.hist(df['sentiment_score'])\n",
    "plt.xlabel(\"Sentiment Score\", fontsize = 12, labelpad = 5)\n",
    "plt.ylabel(\"Frequency\", fontsize = 12, labelpad = 5);"
   ]
  },
  {
   "cell_type": "markdown",
   "metadata": {},
   "source": [
    "**Interpretation:** The sentiment scores seem to follow a normal distribution.  "
   ]
  },
  {
   "cell_type": "code",
   "execution_count": 23,
   "metadata": {
    "scrolled": false
   },
   "outputs": [
    {
     "data": {
      "image/png": "[encoded data removed]",
      "text/plain": [
       "<Figure size 576x720 with 2 Axes>"
      ]
     },
     "metadata": {
      "needs_background": "light"
     },
     "output_type": "display_data"
    }
   ],
   "source": [
    "fig = plt.figure(figsize=(8,10))\n",
    "name = df.columns.str.replace(\"_\",\" \").str.capitalize()\n",
    "ax = sns.heatmap(df.corr()[['sentiment_score']].sort_values('sentiment_score', ascending=False), annot = True, annot_kws = {\"size\":12}, cmap='Blues')\n",
    "ax.set_title('Correlation Coefficient Between Each Numeric Feature and Sentiment Score', fontsize=18)\n",
    "ax.set_xlabel('Features', fontsize = 16)\n",
    "ax.set_ylabel('Features', fontsize = 16)\n",
    "ax.tick_params(axis = \"both\", labelsize = 12);\n",
    "y_min, y_max = ax.get_ylim()\n",
    "ax.set_ylim(top=y_max+1);"
   ]
  },
  {
   "cell_type": "markdown",
   "metadata": {},
   "source": [
    "**Interpretation:** A tweet's length is the feature with the strongest correlation to sentiment score.  \n",
    "The state's Covid-19 number of cases and deaths are the next two features with the strongest correlation to sentiment score. "
   ]
  },
  {
   "cell_type": "markdown",
   "metadata": {},
   "source": [
    "## Mapping"
   ]
  },
  {
   "cell_type": "markdown",
   "metadata": {},
   "source": [
    "## Model Preparation"
   ]
  },
  {
   "cell_type": "code",
   "execution_count": 52,
   "metadata": {},
   "outputs": [],
   "source": [
    "# Setting up our variables and train/test split \n",
    "X = df.drop(columns=['sentiment_score', 'screen_name', 'username', 'tweet_id', 'text', \n",
    "                     'county_fips','county', 'state_fips', 'city', 'timestamp', 'date'])\n",
    "y = df['sentiment_score']\n",
    "\n",
    "X_train, X_test, y_train, y_test = train_test_split(X, y, random_state = RANDOM_STATE)"
   ]
  },
  {
   "cell_type": "markdown",
   "metadata": {},
   "source": [
    "## Modeling"
   ]
  },
  {
   "cell_type": "markdown",
   "metadata": {},
   "source": [
    "### Baseline Model"
   ]
  },
  {
   "cell_type": "code",
   "execution_count": 53,
   "metadata": {},
   "outputs": [
    {
     "name": "stdout",
     "output_type": "stream",
     "text": [
      " Training Score: 0.0\n",
      " Testing Score: -1.747791964490375e-07\n"
     ]
    }
   ],
   "source": [
    "# Instantiating our baseline model: \n",
    "dummy_mean = DummyRegressor(strategy='mean')\n",
    "\n",
    "# Fitting our baseline model: \n",
    "dummy_mean.fit(X_train, y_train)\n",
    "\n",
    "# Calculating training and testing scores: \n",
    "print(f' Training Score: {dummy_mean.score(X_train, y_train)}')\n",
    "print(f' Testing Score: {dummy_mean.score(X_test, y_test)}')"
   ]
  },
  {
   "cell_type": "markdown",
   "metadata": {},
   "source": [
    "### Linear Regression"
   ]
  },
  {
   "cell_type": "code",
   "execution_count": 54,
   "metadata": {},
   "outputs": [
    {
     "name": "stdout",
     "output_type": "stream",
     "text": [
      " Training Score: 0.023625366577387896\n",
      " Testing Score: 0.024972615826839076\n",
      "Cross-val-score: -0.07531368952146963\n"
     ]
    }
   ],
   "source": [
    "lr = LinearRegression()\n",
    "lr.fit(X_train, y_train)\n",
    "print(f' Training Score: {lr.score(X_train, y_train)}')\n",
    "print(f' Testing Score: {lr.score(X_test, y_test)}')\n",
    "print(f'Cross-val-score: {cross_val_score(lr, X, y).mean()}')"
   ]
  },
  {
   "cell_type": "code",
   "execution_count": 55,
   "metadata": {},
   "outputs": [
    {
     "data": {
      "text/plain": [
       "Index(['likes', 'retweets', 'replies', 'density', 'is_nys', 'county_cases',\n",
       "       'county_deaths', 'state_cases', 'state_deaths', 'county_population',\n",
       "       'state_population', 'all_gatherings_prohibited', 'temporary_hospitals',\n",
       "       'state_stay_at_home', 'traveler_quarantines', 'businesses_reopening',\n",
       "       'tests_per_thousand', 'test_positives_rate', 'shelter_in_place',\n",
       "       'percent_average_mobility_decrease', 'tweet_length'],\n",
       "      dtype='object')"
      ]
     },
     "execution_count": 55,
     "metadata": {},
     "output_type": "execute_result"
    }
   ],
   "source": [
    "X_test.columns"
   ]
  },
  {
   "cell_type": "code",
   "execution_count": 56,
   "metadata": {
    "scrolled": true
   },
   "outputs": [
    {
     "data": {
      "text/plain": [
       "array([ 4.65237507e-03, -4.01653773e-02,  1.50472863e-02, -1.02259510e-06,\n",
       "        4.65769272e-14,  7.44489103e-07, -1.20238231e-05, -1.45960425e-06,\n",
       "        6.17952633e-06,  6.53728371e-09, -2.93565111e-08,  2.99954544e-15,\n",
       "        3.00328813e-15,  3.00328813e-15, -3.01085556e-15, -3.01085556e-15,\n",
       "        1.33340958e-13,  6.10353543e-16,  3.00651679e-15,  5.42942372e-14,\n",
       "        5.79402546e-04])"
      ]
     },
     "execution_count": 56,
     "metadata": {},
     "output_type": "execute_result"
    }
   ],
   "source": [
    "lr.coef_"
   ]
  },
  {
   "cell_type": "markdown",
   "metadata": {},
   "source": [
    "### OLS"
   ]
  },
  {
   "cell_type": "code",
   "execution_count": 27,
   "metadata": {
    "scrolled": false
   },
   "outputs": [
    {
     "name": "stdout",
     "output_type": "stream",
     "text": [
      " Training Score: 0.023625366577387896\n",
      " Testing Score: 0.024972615834468193\n"
     ]
    },
    {
     "data": {
      "text/html": [
       "<table class=\"simpletable\">\n",
       "<caption>OLS Regression Results</caption>\n",
       "<tr>\n",
       "  <th>Dep. Variable:</th>     <td>sentiment_score</td> <th>  R-squared:         </th> <td>   0.024</td>\n",
       "</tr>\n",
       "<tr>\n",
       "  <th>Model:</th>                   <td>OLS</td>       <th>  Adj. R-squared:    </th> <td>   0.015</td>\n",
       "</tr>\n",
       "<tr>\n",
       "  <th>Method:</th>             <td>Least Squares</td>  <th>  F-statistic:       </th> <td>   2.822</td>\n",
       "</tr>\n",
       "<tr>\n",
       "  <th>Date:</th>             <td>Wed, 13 May 2020</td> <th>  Prob (F-statistic):</th>  <td>0.00119</td>\n",
       "</tr>\n",
       "<tr>\n",
       "  <th>Time:</th>                 <td>22:21:25</td>     <th>  Log-Likelihood:    </th> <td> -102.16</td>\n",
       "</tr>\n",
       "<tr>\n",
       "  <th>No. Observations:</th>      <td>  1295</td>      <th>  AIC:               </th> <td>   228.3</td>\n",
       "</tr>\n",
       "<tr>\n",
       "  <th>Df Residuals:</th>          <td>  1283</td>      <th>  BIC:               </th> <td>   290.3</td>\n",
       "</tr>\n",
       "<tr>\n",
       "  <th>Df Model:</th>              <td>    11</td>      <th>                     </th>     <td> </td>   \n",
       "</tr>\n",
       "<tr>\n",
       "  <th>Covariance Type:</th>      <td>nonrobust</td>    <th>                     </th>     <td> </td>   \n",
       "</tr>\n",
       "</table>\n",
       "<table class=\"simpletable\">\n",
       "<tr>\n",
       "                  <td></td>                     <th>coef</th>     <th>std err</th>      <th>t</th>      <th>P>|t|</th>  <th>[0.025</th>    <th>0.975]</th>  \n",
       "</tr>\n",
       "<tr>\n",
       "  <th>const</th>                             <td> 3.107e-05</td> <td> 3.25e-05</td> <td>    0.957</td> <td> 0.339</td> <td>-3.26e-05</td> <td> 9.48e-05</td>\n",
       "</tr>\n",
       "<tr>\n",
       "  <th>likes</th>                             <td>    0.0047</td> <td>    0.002</td> <td>    2.186</td> <td> 0.029</td> <td>    0.000</td> <td>    0.009</td>\n",
       "</tr>\n",
       "<tr>\n",
       "  <th>retweets</th>                          <td>   -0.0402</td> <td>    0.015</td> <td>   -2.728</td> <td> 0.006</td> <td>   -0.069</td> <td>   -0.011</td>\n",
       "</tr>\n",
       "<tr>\n",
       "  <th>replies</th>                           <td>    0.0150</td> <td>    0.013</td> <td>    1.126</td> <td> 0.260</td> <td>   -0.011</td> <td>    0.041</td>\n",
       "</tr>\n",
       "<tr>\n",
       "  <th>density</th>                           <td>-1.023e-06</td> <td> 1.19e-06</td> <td>   -0.858</td> <td> 0.391</td> <td>-3.36e-06</td> <td> 1.32e-06</td>\n",
       "</tr>\n",
       "<tr>\n",
       "  <th>is_nys</th>                            <td> 9.441e-05</td> <td> 9.86e-05</td> <td>    0.957</td> <td> 0.339</td> <td>-9.91e-05</td> <td>    0.000</td>\n",
       "</tr>\n",
       "<tr>\n",
       "  <th>county_cases</th>                      <td> 7.445e-07</td> <td> 2.13e-06</td> <td>    0.349</td> <td> 0.727</td> <td>-3.43e-06</td> <td> 4.92e-06</td>\n",
       "</tr>\n",
       "<tr>\n",
       "  <th>county_deaths</th>                     <td>-1.202e-05</td> <td>  2.5e-05</td> <td>   -0.480</td> <td> 0.631</td> <td>-6.11e-05</td> <td> 3.71e-05</td>\n",
       "</tr>\n",
       "<tr>\n",
       "  <th>state_cases</th>                       <td> -1.46e-06</td> <td> 1.96e-06</td> <td>   -0.743</td> <td> 0.457</td> <td>-5.31e-06</td> <td> 2.39e-06</td>\n",
       "</tr>\n",
       "<tr>\n",
       "  <th>state_deaths</th>                      <td>  6.18e-06</td> <td> 2.14e-05</td> <td>    0.288</td> <td> 0.773</td> <td>-3.59e-05</td> <td> 4.83e-05</td>\n",
       "</tr>\n",
       "<tr>\n",
       "  <th>county_population</th>                 <td> 6.537e-09</td> <td> 9.86e-09</td> <td>    0.663</td> <td> 0.508</td> <td>-1.28e-08</td> <td> 2.59e-08</td>\n",
       "</tr>\n",
       "<tr>\n",
       "  <th>state_population</th>                  <td>-3.484e-09</td> <td> 3.52e-09</td> <td>   -0.990</td> <td> 0.322</td> <td>-1.04e-08</td> <td> 3.42e-09</td>\n",
       "</tr>\n",
       "<tr>\n",
       "  <th>all_gatherings_prohibited</th>         <td> 9.441e-05</td> <td> 9.86e-05</td> <td>    0.957</td> <td> 0.339</td> <td>-9.91e-05</td> <td>    0.000</td>\n",
       "</tr>\n",
       "<tr>\n",
       "  <th>temporary_hospitals</th>               <td> 9.441e-05</td> <td> 9.86e-05</td> <td>    0.957</td> <td> 0.339</td> <td>-9.91e-05</td> <td>    0.000</td>\n",
       "</tr>\n",
       "<tr>\n",
       "  <th>state_stay_at_home</th>                <td> 9.441e-05</td> <td> 9.86e-05</td> <td>    0.957</td> <td> 0.339</td> <td>-9.91e-05</td> <td>    0.000</td>\n",
       "</tr>\n",
       "<tr>\n",
       "  <th>traveler_quarantines</th>              <td>-6.334e-05</td> <td> 6.62e-05</td> <td>   -0.957</td> <td> 0.339</td> <td>   -0.000</td> <td> 6.65e-05</td>\n",
       "</tr>\n",
       "<tr>\n",
       "  <th>businesses_reopening</th>              <td>-6.334e-05</td> <td> 6.62e-05</td> <td>   -0.957</td> <td> 0.339</td> <td>   -0.000</td> <td> 6.65e-05</td>\n",
       "</tr>\n",
       "<tr>\n",
       "  <th>tests_per_thousand</th>                <td>    0.0047</td> <td>    0.005</td> <td>    0.957</td> <td> 0.339</td> <td>   -0.005</td> <td>    0.014</td>\n",
       "</tr>\n",
       "<tr>\n",
       "  <th>test_positives_rate</th>               <td> 2.137e-05</td> <td> 2.23e-05</td> <td>    0.957</td> <td> 0.339</td> <td>-2.24e-05</td> <td> 6.52e-05</td>\n",
       "</tr>\n",
       "<tr>\n",
       "  <th>shelter_in_place</th>                  <td> 9.441e-05</td> <td> 9.86e-05</td> <td>    0.957</td> <td> 0.339</td> <td>-9.91e-05</td> <td>    0.000</td>\n",
       "</tr>\n",
       "<tr>\n",
       "  <th>percent_average_mobility_decrease</th> <td>    0.0023</td> <td>    0.002</td> <td>    0.957</td> <td> 0.339</td> <td>   -0.002</td> <td>    0.007</td>\n",
       "</tr>\n",
       "<tr>\n",
       "  <th>tweet_length</th>                      <td>    0.0006</td> <td>    0.000</td> <td>    4.320</td> <td> 0.000</td> <td>    0.000</td> <td>    0.001</td>\n",
       "</tr>\n",
       "</table>\n",
       "<table class=\"simpletable\">\n",
       "<tr>\n",
       "  <th>Omnibus:</th>       <td>141.672</td> <th>  Durbin-Watson:     </th> <td>   2.003</td>\n",
       "</tr>\n",
       "<tr>\n",
       "  <th>Prob(Omnibus):</th> <td> 0.000</td>  <th>  Jarque-Bera (JB):  </th> <td> 380.291</td>\n",
       "</tr>\n",
       "<tr>\n",
       "  <th>Skew:</th>          <td> 0.588</td>  <th>  Prob(JB):          </th> <td>2.64e-83</td>\n",
       "</tr>\n",
       "<tr>\n",
       "  <th>Kurtosis:</th>      <td> 5.381</td>  <th>  Cond. No.          </th> <td>4.68e+40</td>\n",
       "</tr>\n",
       "</table><br/><br/>Warnings:<br/>[1] Standard Errors assume that the covariance matrix of the errors is correctly specified.<br/>[2] The smallest eigenvalue is 3.09e-64. This might indicate that there are<br/>strong multicollinearity problems or that the design matrix is singular."
      ],
      "text/plain": [
       "<class 'statsmodels.iolib.summary.Summary'>\n",
       "\"\"\"\n",
       "                            OLS Regression Results                            \n",
       "==============================================================================\n",
       "Dep. Variable:        sentiment_score   R-squared:                       0.024\n",
       "Model:                            OLS   Adj. R-squared:                  0.015\n",
       "Method:                 Least Squares   F-statistic:                     2.822\n",
       "Date:                Wed, 13 May 2020   Prob (F-statistic):            0.00119\n",
       "Time:                        22:21:25   Log-Likelihood:                -102.16\n",
       "No. Observations:                1295   AIC:                             228.3\n",
       "Df Residuals:                    1283   BIC:                             290.3\n",
       "Df Model:                          11                                         \n",
       "Covariance Type:            nonrobust                                         \n",
       "=====================================================================================================\n",
       "                                        coef    std err          t      P>|t|      [0.025      0.975]\n",
       "-----------------------------------------------------------------------------------------------------\n",
       "const                              3.107e-05   3.25e-05      0.957      0.339   -3.26e-05    9.48e-05\n",
       "likes                                 0.0047      0.002      2.186      0.029       0.000       0.009\n",
       "retweets                             -0.0402      0.015     -2.728      0.006      -0.069      -0.011\n",
       "replies                               0.0150      0.013      1.126      0.260      -0.011       0.041\n",
       "density                           -1.023e-06   1.19e-06     -0.858      0.391   -3.36e-06    1.32e-06\n",
       "is_nys                             9.441e-05   9.86e-05      0.957      0.339   -9.91e-05       0.000\n",
       "county_cases                       7.445e-07   2.13e-06      0.349      0.727   -3.43e-06    4.92e-06\n",
       "county_deaths                     -1.202e-05    2.5e-05     -0.480      0.631   -6.11e-05    3.71e-05\n",
       "state_cases                        -1.46e-06   1.96e-06     -0.743      0.457   -5.31e-06    2.39e-06\n",
       "state_deaths                        6.18e-06   2.14e-05      0.288      0.773   -3.59e-05    4.83e-05\n",
       "county_population                  6.537e-09   9.86e-09      0.663      0.508   -1.28e-08    2.59e-08\n",
       "state_population                  -3.484e-09   3.52e-09     -0.990      0.322   -1.04e-08    3.42e-09\n",
       "all_gatherings_prohibited          9.441e-05   9.86e-05      0.957      0.339   -9.91e-05       0.000\n",
       "temporary_hospitals                9.441e-05   9.86e-05      0.957      0.339   -9.91e-05       0.000\n",
       "state_stay_at_home                 9.441e-05   9.86e-05      0.957      0.339   -9.91e-05       0.000\n",
       "traveler_quarantines              -6.334e-05   6.62e-05     -0.957      0.339      -0.000    6.65e-05\n",
       "businesses_reopening              -6.334e-05   6.62e-05     -0.957      0.339      -0.000    6.65e-05\n",
       "tests_per_thousand                    0.0047      0.005      0.957      0.339      -0.005       0.014\n",
       "test_positives_rate                2.137e-05   2.23e-05      0.957      0.339   -2.24e-05    6.52e-05\n",
       "shelter_in_place                   9.441e-05   9.86e-05      0.957      0.339   -9.91e-05       0.000\n",
       "percent_average_mobility_decrease     0.0023      0.002      0.957      0.339      -0.002       0.007\n",
       "tweet_length                          0.0006      0.000      4.320      0.000       0.000       0.001\n",
       "==============================================================================\n",
       "Omnibus:                      141.672   Durbin-Watson:                   2.003\n",
       "Prob(Omnibus):                  0.000   Jarque-Bera (JB):              380.291\n",
       "Skew:                           0.588   Prob(JB):                     2.64e-83\n",
       "Kurtosis:                       5.381   Cond. No.                     4.68e+40\n",
       "==============================================================================\n",
       "\n",
       "Warnings:\n",
       "[1] Standard Errors assume that the covariance matrix of the errors is correctly specified.\n",
       "[2] The smallest eigenvalue is 3.09e-64. This might indicate that there are\n",
       "strong multicollinearity problems or that the design matrix is singular.\n",
       "\"\"\""
      ]
     },
     "execution_count": 27,
     "metadata": {},
     "output_type": "execute_result"
    }
   ],
   "source": [
    "X_train = sm.add_constant(X_train)\n",
    "X_test = sm.add_constant(X_test)\n",
    "\n",
    "ols = sm.OLS(y_train, X_train)\n",
    "ols_results = ols.fit()\n",
    "\n",
    "print(f' Training Score: {r2_score(y_train, ols_results.predict(X_train))}')\n",
    "print(f' Testing Score: {r2_score(y_test, ols_results.predict(X_test))}')\n",
    "ols_results.summary()"
   ]
  },
  {
   "cell_type": "markdown",
   "metadata": {},
   "source": [
    "## Model Selection"
   ]
  },
  {
   "cell_type": "markdown",
   "metadata": {},
   "source": [
    "## Model Evaluation"
   ]
  },
  {
   "cell_type": "code",
   "execution_count": 57,
   "metadata": {
    "scrolled": true
   },
   "outputs": [
    {
     "data": {
      "image/png": "[encoded data removed]",
      "text/plain": [
       "<Figure size 432x288 with 1 Axes>"
      ]
     },
     "metadata": {
      "needs_background": "light"
     },
     "output_type": "display_data"
    }
   ],
   "source": [
    "# Visualizing predicted sentiment score vs actual sentiment score: \n",
    "sns.scatterplot(lr.predict(X_train), y_train, label = \"Training data\", color = \"steelblue\", alpha = .75)\n",
    "sns.scatterplot(lr.predict(X_test), y_test, label = \"Testing data\", color = \"gold\", alpha = .75)\n",
    "plt.title(\"Predictions vs. True Sentiment Score\", size=15)\n",
    "plt.xlabel(\"$\\hat{y}$ = Predicted Sentiment Score\")\n",
    "plt.ylabel(\"$y$ = Actual Sentiment Score\")\n",
    "plt.legend(loc = \"upper left\")\n",
    "all_vals = np.concatenate([lr.predict(X_train), lr.predict(X_test), y_train, y_test])\n",
    "the_max_val = np.max(all_vals)\n",
    "the_min_val = np.min(all_vals)\n",
    "plt.plot([the_min_val, the_max_val],[the_min_val, the_max_val], c='firebrick')\n",
    "plt.tight_layout()\n",
    "#Code adapted from Mahdi Shadkam-Farrokhi's code"
   ]
  },
  {
   "cell_type": "code",
   "execution_count": 58,
   "metadata": {},
   "outputs": [],
   "source": [
    "# Calculating residuals:\n",
    "residuals = y_test - lr.predict(X_test)"
   ]
  },
  {
   "cell_type": "code",
   "execution_count": 59,
   "metadata": {},
   "outputs": [
    {
     "data": {
      "image/png": "[encoded data removed]",
      "text/plain": [
       "<Figure size 432x288 with 1 Axes>"
      ]
     },
     "metadata": {
      "needs_background": "light"
     },
     "output_type": "display_data"
    }
   ],
   "source": [
    "# Visualizing residuals: \n",
    "plt.scatter(lr.predict(X_test), residuals)\n",
    "plt.axhline(0, color='red')\n",
    "plt.title('Residuals for each Sentiment Score', size=15)\n",
    "plt.xlabel('Predicted Sentiment Score')\n",
    "plt.ylabel('Residuals');"
   ]
  },
  {
   "cell_type": "code",
   "execution_count": 60,
   "metadata": {},
   "outputs": [
    {
     "data": {
      "image/png": "[encoded data removed]",
      "text/plain": [
       "<Figure size 432x288 with 1 Axes>"
      ]
     },
     "metadata": {
      "needs_background": "light"
     },
     "output_type": "display_data"
    }
   ],
   "source": [
    "# Visualizing distribution of residuals:\n",
    "plt.hist(residuals)\n",
    "plt.title('Distribution of Residuals')\n",
    "plt.xlabel('Residuals');"
   ]
  },
  {
   "cell_type": "markdown",
   "metadata": {},
   "source": [
    "### Coefficients Interpretation"
   ]
  },
  {
   "cell_type": "markdown",
   "metadata": {},
   "source": [
    "## Conclusion"
   ]
  },
  {
   "cell_type": "markdown",
   "metadata": {},
   "source": [
    "## References"
   ]
  },
  {
   "cell_type": "markdown",
   "metadata": {},
   "source": [
    "[Twitter Users Political Affiliation](https://www.pewresearch.org/internet/2019/04/24/sizing-up-twitter-users/pdl_04-24-19_twitter_users-00-03/)  \n",
    "[Twitter Users Age, Education, Wealth](https://www.pewresearch.org/internet/2019/04/24/sizing-up-twitter-users/pdl_04-24-19_twitter_users-00-04/)"
   ]
  },
  {
   "cell_type": "code",
   "execution_count": null,
   "metadata": {},
   "outputs": [],
   "source": []
  }
 ],
 "metadata": {
  "kernelspec": {
   "display_name": "Python 3",
   "language": "python",
   "name": "python3"
  },
  "language_info": {
   "codemirror_mode": {
    "name": "ipython",
    "version": 3
   },
   "file_extension": ".py",
   "mimetype": "text/x-python",
   "name": "python",
   "nbconvert_exporter": "python",
   "pygments_lexer": "ipython3",
   "version": "3.7.6"
  }
 },
 "nbformat": 4,
 "nbformat_minor": 4
}
