{
 "cells": [
  {
   "cell_type": "code",
   "execution_count": 8,
   "metadata": {},
   "outputs": [],
   "source": [
    "# 40.730494   -73.995721\n",
    "import urllib, json, requests\n",
    "\n"
   ]
  },
  {
   "cell_type": "code",
   "execution_count": null,
   "metadata": {},
   "outputs": [],
   "source": [
    "with urllib.request.urlopen(\"https://geo.fcc.gov/api/census/area?lat=42.3295&lon=-71.0826&format=json\") as url:\n",
    "    data = json.loads(url.read().decode())\n",
    "    print(data)\n",
    "\n",
    "print(json.dumps(data, indent=4, sort_keys=True))\n",
    "\n",
    "print(data['results'][0]['state_fips'])\n",
    "print(data['results'][0]['county_fips'])\n",
    "print(data['results'][0]['county_name'])"
   ]
  }
 ],
 "metadata": {
  "kernelspec": {
   "display_name": "Python 3",
   "language": "python",
   "name": "python3"
  },
  "language_info": {
   "codemirror_mode": {
    "name": "ipython",
    "version": 3
   },
   "file_extension": ".py",
   "mimetype": "text/x-python",
   "name": "python",
   "nbconvert_exporter": "python",
   "pygments_lexer": "ipython3",
   "version": "3.7.4"
  }
 },
 "nbformat": 4,
 "nbformat_minor": 4
}
