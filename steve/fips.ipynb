{
 "cells": [
  {
   "cell_type": "code",
   "execution_count": 10,
   "metadata": {},
   "outputs": [],
   "source": [
    "import pandas as pd\n",
    "import numpy as np\n",
    "import seaborn as sns\n",
    "import matplotlib.pyplot as plt\n",
    "from sklearn.linear_model import LinearRegression\n",
    "from sklearn.model_selection import cross_val_score, train_test_split\n",
    "from sklearn.metrics import r2_score, mean_absolute_error, mean_squared_error\n",
    "import requests\n",
    "%matplotlib inline"
   ]
  },
  {
   "cell_type": "code",
   "execution_count": 11,
   "metadata": {},
   "outputs": [],
   "source": [
    "sac_csv = pd.read_csv('./datasets/sacramento_real_estate_transactions.csv')"
   ]
  },
  {
   "cell_type": "code",
   "execution_count": 12,
   "metadata": {},
   "outputs": [
    {
     "data": {
      "text/html": [
       "<div>\n",
       "<style scoped>\n",
       "    .dataframe tbody tr th:only-of-type {\n",
       "        vertical-align: middle;\n",
       "    }\n",
       "\n",
       "    .dataframe tbody tr th {\n",
       "        vertical-align: top;\n",
       "    }\n",
       "\n",
       "    .dataframe thead th {\n",
       "        text-align: right;\n",
       "    }\n",
       "</style>\n",
       "<table border=\"1\" class=\"dataframe\">\n",
       "  <thead>\n",
       "    <tr style=\"text-align: right;\">\n",
       "      <th></th>\n",
       "      <th>street</th>\n",
       "      <th>city</th>\n",
       "      <th>zip</th>\n",
       "      <th>state</th>\n",
       "      <th>beds</th>\n",
       "      <th>baths</th>\n",
       "      <th>sq__ft</th>\n",
       "      <th>type</th>\n",
       "      <th>sale_date</th>\n",
       "      <th>price</th>\n",
       "      <th>latitude</th>\n",
       "      <th>longitude</th>\n",
       "    </tr>\n",
       "  </thead>\n",
       "  <tbody>\n",
       "    <tr>\n",
       "      <th>0</th>\n",
       "      <td>3526 HIGH ST</td>\n",
       "      <td>SACRAMENTO</td>\n",
       "      <td>95838</td>\n",
       "      <td>CA</td>\n",
       "      <td>2</td>\n",
       "      <td>1</td>\n",
       "      <td>836</td>\n",
       "      <td>Residential</td>\n",
       "      <td>Wed May 21 00:00:00 EDT 2008</td>\n",
       "      <td>59222</td>\n",
       "      <td>38.631913</td>\n",
       "      <td>-121.434879</td>\n",
       "    </tr>\n",
       "  </tbody>\n",
       "</table>\n",
       "</div>"
      ],
      "text/plain": [
       "         street        city    zip state  beds  baths  sq__ft         type  \\\n",
       "0  3526 HIGH ST  SACRAMENTO  95838    CA     2      1     836  Residential   \n",
       "\n",
       "                      sale_date  price   latitude   longitude  \n",
       "0  Wed May 21 00:00:00 EDT 2008  59222  38.631913 -121.434879  "
      ]
     },
     "execution_count": 12,
     "metadata": {},
     "output_type": "execute_result"
    }
   ],
   "source": [
    "sac_csv.head(1)"
   ]
  },
  {
   "cell_type": "code",
   "execution_count": 13,
   "metadata": {},
   "outputs": [],
   "source": [
    "df = sac_csv.loc[:,['latitude','longitude']]"
   ]
  },
  {
   "cell_type": "code",
   "execution_count": 14,
   "metadata": {},
   "outputs": [
    {
     "data": {
      "text/html": [
       "<div>\n",
       "<style scoped>\n",
       "    .dataframe tbody tr th:only-of-type {\n",
       "        vertical-align: middle;\n",
       "    }\n",
       "\n",
       "    .dataframe tbody tr th {\n",
       "        vertical-align: top;\n",
       "    }\n",
       "\n",
       "    .dataframe thead th {\n",
       "        text-align: right;\n",
       "    }\n",
       "</style>\n",
       "<table border=\"1\" class=\"dataframe\">\n",
       "  <thead>\n",
       "    <tr style=\"text-align: right;\">\n",
       "      <th></th>\n",
       "      <th>latitude</th>\n",
       "      <th>longitude</th>\n",
       "    </tr>\n",
       "  </thead>\n",
       "  <tbody>\n",
       "    <tr>\n",
       "      <th>0</th>\n",
       "      <td>38.631913</td>\n",
       "      <td>-121.434879</td>\n",
       "    </tr>\n",
       "    <tr>\n",
       "      <th>1</th>\n",
       "      <td>38.478902</td>\n",
       "      <td>-121.431028</td>\n",
       "    </tr>\n",
       "    <tr>\n",
       "      <th>2</th>\n",
       "      <td>38.618305</td>\n",
       "      <td>-121.443839</td>\n",
       "    </tr>\n",
       "    <tr>\n",
       "      <th>3</th>\n",
       "      <td>38.616835</td>\n",
       "      <td>-121.439146</td>\n",
       "    </tr>\n",
       "    <tr>\n",
       "      <th>4</th>\n",
       "      <td>38.519470</td>\n",
       "      <td>-121.435768</td>\n",
       "    </tr>\n",
       "    <tr>\n",
       "      <th>...</th>\n",
       "      <td>...</td>\n",
       "      <td>...</td>\n",
       "    </tr>\n",
       "    <tr>\n",
       "      <th>980</th>\n",
       "      <td>38.457679</td>\n",
       "      <td>-121.359620</td>\n",
       "    </tr>\n",
       "    <tr>\n",
       "      <th>981</th>\n",
       "      <td>38.499893</td>\n",
       "      <td>-121.458890</td>\n",
       "    </tr>\n",
       "    <tr>\n",
       "      <th>982</th>\n",
       "      <td>38.708824</td>\n",
       "      <td>-121.256803</td>\n",
       "    </tr>\n",
       "    <tr>\n",
       "      <th>983</th>\n",
       "      <td>38.417000</td>\n",
       "      <td>-121.397424</td>\n",
       "    </tr>\n",
       "    <tr>\n",
       "      <th>984</th>\n",
       "      <td>38.655245</td>\n",
       "      <td>-121.075915</td>\n",
       "    </tr>\n",
       "  </tbody>\n",
       "</table>\n",
       "<p>985 rows × 2 columns</p>\n",
       "</div>"
      ],
      "text/plain": [
       "      latitude   longitude\n",
       "0    38.631913 -121.434879\n",
       "1    38.478902 -121.431028\n",
       "2    38.618305 -121.443839\n",
       "3    38.616835 -121.439146\n",
       "4    38.519470 -121.435768\n",
       "..         ...         ...\n",
       "980  38.457679 -121.359620\n",
       "981  38.499893 -121.458890\n",
       "982  38.708824 -121.256803\n",
       "983  38.417000 -121.397424\n",
       "984  38.655245 -121.075915\n",
       "\n",
       "[985 rows x 2 columns]"
      ]
     },
     "execution_count": 14,
     "metadata": {},
     "output_type": "execute_result"
    }
   ],
   "source": [
    "df"
   ]
  },
  {
   "cell_type": "code",
   "execution_count": 15,
   "metadata": {},
   "outputs": [
    {
     "data": {
      "text/plain": [
       "latitude     float64\n",
       "longitude    float64\n",
       "dtype: object"
      ]
     },
     "execution_count": 15,
     "metadata": {},
     "output_type": "execute_result"
    }
   ],
   "source": [
    "df.dtypes"
   ]
  },
  {
   "cell_type": "code",
   "execution_count": 37,
   "metadata": {},
   "outputs": [],
   "source": [
    "res = requests.get(\"http://www.datasciencetoolkit.org/coordinates2politics/37.769456%2c-122.429128\")"
   ]
  },
  {
   "cell_type": "code",
   "execution_count": 38,
   "metadata": {},
   "outputs": [
    {
     "data": {
      "text/plain": [
       "'[\\n  {\\n    \"politics\": [\\n      {\\n        \"type\": \"admin2\",\\n        \"friendly_type\": \"country\",\\n        \"name\": \"United States\",\\n        \"code\": \"usa\"\\n      },\\n      {\\n        \"type\": \"admin4\",\\n        \"friendly_type\": \"state\",\\n        \"name\": \"California\",\\n        \"code\": \"us06\"\\n      },\\n      {\\n        \"type\": \"admin6\",\\n        \"friendly_type\": \"county\",\\n        \"name\": \"San Francisco\",\\n        \"code\": \"06_075\"\\n      },\\n      {\\n        \"type\": \"admin5\",\\n        \"friendly_type\": \"city\",\\n        \"name\": \"San Francisco\",\\n        \"code\": \"06_67000\"\\n      },\\n      {\\n        \"type\": \"constituency\",\\n        \"friendly_type\": \"constituency\",\\n        \"name\": \"Eighth district, CA\",\\n        \"code\": \"06_08\"\\n      },\\n      {\\n        \"type\": \"neighborhood\",\\n        \"friendly_type\": \"neighborhood\",\\n        \"name\": \"Castro-Upper Market\",\\n        \"code\": \"Castro-Upper Market|San Francisco|CA\"\\n      }\\n    ],\\n    \"location\": {\\n      \"latitude\": 37.769456,\\n      \"longitude\": -122.429128\\n    }\\n  }\\n]'"
      ]
     },
     "execution_count": 38,
     "metadata": {},
     "output_type": "execute_result"
    }
   ],
   "source": [
    "res.text"
   ]
  },
  {
   "cell_type": "code",
   "execution_count": 17,
   "metadata": {},
   "outputs": [],
   "source": [
    "base_url = \"http://www.datasciencetoolkit.org/coordinates2politics/\""
   ]
  },
  {
   "cell_type": "code",
   "execution_count": 59,
   "metadata": {},
   "outputs": [],
   "source": [
    "test_list = []\n",
    "for i in range(0,25):\n",
    "    res = requests.get(base_url + str(df['latitude'][i]) + '%2c' + str(df['longitude'][i]))\n",
    "    test_list.append(res.text)"
   ]
  },
  {
   "cell_type": "code",
   "execution_count": 60,
   "metadata": {},
   "outputs": [
    {
     "data": {
      "text/plain": [
       "'[\\n  {\\n    \"politics\": [\\n      {\\n        \"type\": \"admin2\",\\n        \"friendly_type\": \"country\",\\n        \"name\": \"United States\",\\n        \"code\": \"usa\"\\n      },\\n      {\\n        \"type\": \"admin6\",\\n        \"friendly_type\": \"county\",\\n        \"name\": \"Sacramento\",\\n        \"code\": \"06_067\"\\n      },\\n      {\\n        \"type\": \"admin4\",\\n        \"friendly_type\": \"state\",\\n        \"name\": \"California\",\\n        \"code\": \"us06\"\\n      },\\n      {\\n        \"type\": \"constituency\",\\n        \"friendly_type\": \"constituency\",\\n        \"name\": \"Fifth district, CA\",\\n        \"code\": \"06_05\"\\n      },\\n      {\\n        \"type\": \"admin5\",\\n        \"friendly_type\": \"city\",\\n        \"name\": \"Sacramento\",\\n        \"code\": \"06_64000\"\\n      },\\n      {\\n        \"type\": \"neighborhood\",\\n        \"friendly_type\": \"neighborhood\",\\n        \"name\": \"Hagginwood\",\\n        \"code\": \"Hagginwood|Sacramento|CA\"\\n      }\\n    ],\\n    \"location\": {\\n      \"latitude\": 38.631913,\\n      \"longitude\": -121.434879\\n    }\\n  }\\n]'"
      ]
     },
     "execution_count": 60,
     "metadata": {},
     "output_type": "execute_result"
    }
   ],
   "source": [
    "test_list[0]"
   ]
  },
  {
   "cell_type": "code",
   "execution_count": 70,
   "metadata": {},
   "outputs": [],
   "source": [
    "x = test_list[0].split('06_')[1][0:3]"
   ]
  },
  {
   "cell_type": "code",
   "execution_count": 72,
   "metadata": {},
   "outputs": [],
   "source": [
    "fips_list = [test_list[i].split('06_')[1][0:3] for i in range(0,len(test_list))]"
   ]
  },
  {
   "cell_type": "code",
   "execution_count": 73,
   "metadata": {},
   "outputs": [
    {
     "data": {
      "text/plain": [
       "['067',\n",
       " '067',\n",
       " '067',\n",
       " '067',\n",
       " '067',\n",
       " '067',\n",
       " '067',\n",
       " '067',\n",
       " '067',\n",
       " '067',\n",
       " '067',\n",
       " '067',\n",
       " '067',\n",
       " '067',\n",
       " '067',\n",
       " '067',\n",
       " '067',\n",
       " '067',\n",
       " '067',\n",
       " '067',\n",
       " '067',\n",
       " '067',\n",
       " '067',\n",
       " '067',\n",
       " '067']"
      ]
     },
     "execution_count": 73,
     "metadata": {},
     "output_type": "execute_result"
    }
   ],
   "source": [
    "fips_list"
   ]
  },
  {
   "cell_type": "code",
   "execution_count": null,
   "metadata": {},
   "outputs": [],
   "source": []
  }
 ],
 "metadata": {
  "kernelspec": {
   "display_name": "Python 3",
   "language": "python",
   "name": "python3"
  },
  "language_info": {
   "codemirror_mode": {
    "name": "ipython",
    "version": 3
   },
   "file_extension": ".py",
   "mimetype": "text/x-python",
   "name": "python",
   "nbconvert_exporter": "python",
   "pygments_lexer": "ipython3",
   "version": "3.7.4"
  }
 },
 "nbformat": 4,
 "nbformat_minor": 4
}
