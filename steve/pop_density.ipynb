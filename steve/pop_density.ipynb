{
 "cells": [
  {
   "cell_type": "code",
   "execution_count": 1,
   "metadata": {},
   "outputs": [],
   "source": [
    "import pandas as pd"
   ]
  },
  {
   "cell_type": "code",
   "execution_count": 2,
   "metadata": {},
   "outputs": [],
   "source": [
    "# Import file of US cities and matching counties\n",
    "city_cty = pd.read_csv('uscities.csv')"
   ]
  },
  {
   "cell_type": "code",
   "execution_count": 3,
   "metadata": {},
   "outputs": [],
   "source": [
    "# Import file of US cities and matching counties\n",
    "tx_sip_ctys = pd.read_csv('../data/sip_tx_ctys.csv')"
   ]
  },
  {
   "cell_type": "code",
   "execution_count": 4,
   "metadata": {},
   "outputs": [],
   "source": [
    "tx_sip_ctys['county'] = tx_sip_ctys['county_list']"
   ]
  },
  {
   "cell_type": "code",
   "execution_count": 5,
   "metadata": {},
   "outputs": [
    {
     "data": {
      "text/plain": [
       "(28889, 19)"
      ]
     },
     "execution_count": 5,
     "metadata": {},
     "output_type": "execute_result"
    }
   ],
   "source": [
    "city_cty.shape"
   ]
  },
  {
   "cell_type": "code",
   "execution_count": 6,
   "metadata": {},
   "outputs": [],
   "source": [
    "\n",
    "sip_list = []\n",
    "for num in range(0,28889):\n",
    "    if city_cty['state_id'][num] == 'NY':\n",
    "        sip_list.append(1)\n",
    "    elif city_cty['state_id'][num] == 'TX':\n",
    "        if city_cty['county_name'][num] in tx_sip_ctys:\n",
    "            sip_list.append(1)\n",
    "        else:\n",
    "            sip_list.append(0)\n",
    "    else:\n",
    "        sip_list.append(0)\n",
    "city_cty['shelter_in_place'] = sip_list\n",
    "    "
   ]
  },
  {
   "cell_type": "code",
   "execution_count": 7,
   "metadata": {},
   "outputs": [],
   "source": [
    "pd.set_option(\"display.max_rows\", None, \"display.max_columns\", None)"
   ]
  },
  {
   "cell_type": "code",
   "execution_count": null,
   "metadata": {},
   "outputs": [],
   "source": [
    "tx_df = city_cty.loc[4132:5849,:]\n",
    "ny_df = city_cty.loc[8820:9898,:]"
   ]
  },
  {
   "cell_type": "code",
   "execution_count": null,
   "metadata": {},
   "outputs": [],
   "source": [
    "df_client = pd.read_csv('../data/tweets_and_covid.csv')"
   ]
  },
  {
   "cell_type": "code",
   "execution_count": null,
   "metadata": {},
   "outputs": [],
   "source": [
    "df_client_ny = df_client[df_client['state'] == 'NY']\n",
    "df_client_tx = df_client[df_client['state'] == 'TX']"
   ]
  },
  {
   "cell_type": "code",
   "execution_count": null,
   "metadata": {},
   "outputs": [],
   "source": [
    "df_client_ny.shape"
   ]
  },
  {
   "cell_type": "code",
   "execution_count": null,
   "metadata": {},
   "outputs": [],
   "source": [
    "ny_city_fix = {'Cheektowaga':'Buffalo',\n",
    "               'Clarence':'Clarence Center',\n",
    "               'Amherst':'Buffalo',\n",
    "               'Henrietta':'Rochester',\n",
    "               'Clifton Park':'Round Lake',\n",
    "               'Delmar':'Albany',\n",
    "               'Greece':'Rochester',\n",
    "               'Halfmoon':'Mechanicville',\n",
    "               'Huntington':'Huntington Bay',\n",
    "               'Latham':'Colonie',\n",
    "               'Oyster Bay':'Oyster Bay Cove', \n",
    "               'Poestenkill':'Averill Park',\n",
    "               'Somers':\"Golden's Bridge\"}\n",
    "tx_city_fix = {'Desoto':'Cedar Hill','Jollyville':'Austin'}"
   ]
  },
  {
   "cell_type": "code",
   "execution_count": null,
   "metadata": {},
   "outputs": [],
   "source": [
    "df_client_ny = df_client_ny['city'].replace(ny_city_fix)\n",
    "df_client_tx = df_client_tx['city'].replace(tx_city_fix)"
   ]
  },
  {
   "cell_type": "code",
   "execution_count": null,
   "metadata": {},
   "outputs": [],
   "source": [
    "df_client_ny['city'].replace(ny_city_fix)\n",
    "df_client_tx['city'].replace({'Desoto':'Cedar Hill','Jollyville':'Austin'})"
   ]
  },
  {
   "cell_type": "code",
   "execution_count": null,
   "metadata": {},
   "outputs": [],
   "source": [
    "merge_ny = pd.merge(df_client_ny, ny_df, on='city')\n",
    "merge_tx = pd.merge(df_client_tx, tx_df, on='city')"
   ]
  },
  {
   "cell_type": "code",
   "execution_count": null,
   "metadata": {},
   "outputs": [],
   "source": [
    "df_client_tx['city'].value_counts()"
   ]
  },
  {
   "cell_type": "code",
   "execution_count": null,
   "metadata": {},
   "outputs": [],
   "source": [
    "tweets_covid_cty_info = pd.concat([merge_ny,merge_tx], axis=0)"
   ]
  },
  {
   "cell_type": "code",
   "execution_count": null,
   "metadata": {},
   "outputs": [],
   "source": [
    "tweets_covid_cty_info.to_csv(r'../data/tweets_covid_cty_info.csv')"
   ]
  },
  {
   "cell_type": "code",
   "execution_count": null,
   "metadata": {},
   "outputs": [],
   "source": []
  }
 ],
 "metadata": {
  "kernelspec": {
   "display_name": "Python 3",
   "language": "python",
   "name": "python3"
  },
  "language_info": {
   "codemirror_mode": {
    "name": "ipython",
    "version": 3
   },
   "file_extension": ".py",
   "mimetype": "text/x-python",
   "name": "python",
   "nbconvert_exporter": "python",
   "pygments_lexer": "ipython3",
   "version": "3.7.4"
  }
 },
 "nbformat": 4,
 "nbformat_minor": 4
}
