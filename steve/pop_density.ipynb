{
 "cells": [
  {
   "cell_type": "code",
   "execution_count": 1,
   "metadata": {},
   "outputs": [],
   "source": [
    "import pandas as pd"
   ]
  },
  {
   "cell_type": "code",
   "execution_count": 2,
   "metadata": {},
   "outputs": [],
   "source": [
    "population_data = pd.read_csv('county_population.csv', encoding='latin-1')"
   ]
  },
  {
   "cell_type": "code",
   "execution_count": 3,
   "metadata": {},
   "outputs": [],
   "source": [
    "delete_list = []\n",
    "for i, num in enumerate(population_data['county_fips']):\n",
    "    if num < 1001:\n",
    "        delete_list.append(i)\n",
    "        "
   ]
  },
  {
   "cell_type": "code",
   "execution_count": 4,
   "metadata": {},
   "outputs": [],
   "source": [
    "population_data.drop(index=delete_list,inplace=True)"
   ]
  },
  {
   "cell_type": "code",
   "execution_count": 5,
   "metadata": {},
   "outputs": [],
   "source": [
    "# Establish a function to reset index of a DataFrame if necessary\n",
    "def reset_index(df):\n",
    "# reset act data set index so Alabama row is now 0 in index\n",
    "    df.reset_index(inplace = True)\n",
    "\n",
    "# Drop 'index' row from the act data set - (created by last step)\n",
    "    df.drop(columns = ['index'],inplace=True)"
   ]
  },
  {
   "cell_type": "code",
   "execution_count": 6,
   "metadata": {},
   "outputs": [],
   "source": [
    "reset_index(population_data)"
   ]
  },
  {
   "cell_type": "code",
   "execution_count": 7,
   "metadata": {},
   "outputs": [
    {
     "data": {
      "text/html": [
       "<div>\n",
       "<style scoped>\n",
       "    .dataframe tbody tr th:only-of-type {\n",
       "        vertical-align: middle;\n",
       "    }\n",
       "\n",
       "    .dataframe tbody tr th {\n",
       "        vertical-align: top;\n",
       "    }\n",
       "\n",
       "    .dataframe thead th {\n",
       "        text-align: right;\n",
       "    }\n",
       "</style>\n",
       "<table border=\"1\" class=\"dataframe\">\n",
       "  <thead>\n",
       "    <tr style=\"text-align: right;\">\n",
       "      <th></th>\n",
       "      <th>fips</th>\n",
       "      <th>state_fips</th>\n",
       "      <th>county_fips</th>\n",
       "      <th>areaname</th>\n",
       "      <th>state_name</th>\n",
       "      <th>county_name</th>\n",
       "      <th>fipsst</th>\n",
       "      <th>fipsco</th>\n",
       "      <th>region</th>\n",
       "      <th>division</th>\n",
       "      <th>...</th>\n",
       "      <th>pop2008</th>\n",
       "      <th>pop2009</th>\n",
       "      <th>pop19904</th>\n",
       "      <th>pop20104</th>\n",
       "      <th>base20104</th>\n",
       "      <th>pop2010</th>\n",
       "      <th>pop2011</th>\n",
       "      <th>pop2012</th>\n",
       "      <th>pop2013</th>\n",
       "      <th>pop2014</th>\n",
       "    </tr>\n",
       "  </thead>\n",
       "  <tbody>\n",
       "    <tr>\n",
       "      <th>0</th>\n",
       "      <td>1001</td>\n",
       "      <td>1</td>\n",
       "      <td>1001</td>\n",
       "      <td>Autauga County, Alabama</td>\n",
       "      <td>Alabama</td>\n",
       "      <td>Autauga County</td>\n",
       "      <td>1</td>\n",
       "      <td>1001</td>\n",
       "      <td>NaN</td>\n",
       "      <td>NaN</td>\n",
       "      <td>...</td>\n",
       "      <td>NaN</td>\n",
       "      <td>NaN</td>\n",
       "      <td>NaN</td>\n",
       "      <td>54571.0</td>\n",
       "      <td>54571.0</td>\n",
       "      <td>54684.0</td>\n",
       "      <td>55275.0</td>\n",
       "      <td>55192.0</td>\n",
       "      <td>55136.0</td>\n",
       "      <td>55395.0</td>\n",
       "    </tr>\n",
       "  </tbody>\n",
       "</table>\n",
       "<p>1 rows × 58 columns</p>\n",
       "</div>"
      ],
      "text/plain": [
       "   fips  state_fips  county_fips                 areaname state_name  \\\n",
       "0  1001           1         1001  Autauga County, Alabama    Alabama   \n",
       "\n",
       "      county_name  fipsst  fipsco  region  division  ...  pop2008  pop2009  \\\n",
       "0  Autauga County       1    1001     NaN       NaN  ...      NaN      NaN   \n",
       "\n",
       "   pop19904  pop20104  base20104  pop2010  pop2011  pop2012  pop2013  pop2014  \n",
       "0       NaN   54571.0    54571.0  54684.0  55275.0  55192.0  55136.0  55395.0  \n",
       "\n",
       "[1 rows x 58 columns]"
      ]
     },
     "execution_count": 7,
     "metadata": {},
     "output_type": "execute_result"
    }
   ],
   "source": [
    "population_data.head(1)"
   ]
  },
  {
   "cell_type": "code",
   "execution_count": 8,
   "metadata": {},
   "outputs": [],
   "source": [
    "population_data.drop(columns=['region', \n",
    "                              'division',\n",
    "                              'pop2008',\n",
    "                              'pop2009',\n",
    "                              'pop19904',\n",
    "                              'pop20104',\n",
    "                              'pop1970',\n",
    "                              'pop2004',\n",
    "                              'pop1971',\n",
    "                              'pop2005',\n",
    "                              'pop2006',\n",
    "                              'pop1972',\n",
    "                              'pop1973',\n",
    "                              'pop2001',\n",
    "                              'pop2002',\n",
    "                              'pop2003',\n",
    "                              'pop2000',\n",
    "                              'pop1999',\n",
    "                              'pop1998',\n",
    "                              'pop1997',\n",
    "                              'pop1996',\n",
    "                              'pop1995',\n",
    "                              'pop1994',\n",
    "                              'pop1993',\n",
    "                              'pop1992',\n",
    "                              'pop1991',\n",
    "                              'pop1990',\n",
    "                              'pop1974',\n",
    "                              'pop1975',\n",
    "                              'pop1976',\n",
    "                              'pop1977',\n",
    "                              'pop1978',\n",
    "                              'pop1979',\n",
    "                              'pop1980',\n",
    "                              'pop1981',\n",
    "                              'pop1982',\n",
    "                              'pop1983',\n",
    "                              'pop1984',\n",
    "                              'pop1985',\n",
    "                              'pop1986',\n",
    "                              'pop1987',\n",
    "                              'pop1988',\n",
    "                              'pop1989',\n",
    "                              'pop2007',\n",
    "                              'pop2004',\n",
    "                              'pop2010',\n",
    "                              'pop2011',\n",
    "                              'pop2012',\n",
    "                              'pop2013',\n",
    "                              'fipsco',\n",
    "                              'fipsst'\n",
    "                             ],inplace=True)"
   ]
  },
  {
   "cell_type": "code",
   "execution_count": 9,
   "metadata": {},
   "outputs": [],
   "source": [
    "sq_mile_data = pd.read_csv('p5_data_Sq_Miles.csv', encoding='latin-1')\n",
    "\n"
   ]
  },
  {
   "cell_type": "code",
   "execution_count": 10,
   "metadata": {},
   "outputs": [],
   "source": [
    "sq_mile_data = sq_mile_data.loc[:,['Areaname','STCOU','LND010200D']]"
   ]
  },
  {
   "cell_type": "code",
   "execution_count": 11,
   "metadata": {},
   "outputs": [
    {
     "data": {
      "text/html": [
       "<div>\n",
       "<style scoped>\n",
       "    .dataframe tbody tr th:only-of-type {\n",
       "        vertical-align: middle;\n",
       "    }\n",
       "\n",
       "    .dataframe tbody tr th {\n",
       "        vertical-align: top;\n",
       "    }\n",
       "\n",
       "    .dataframe thead th {\n",
       "        text-align: right;\n",
       "    }\n",
       "</style>\n",
       "<table border=\"1\" class=\"dataframe\">\n",
       "  <thead>\n",
       "    <tr style=\"text-align: right;\">\n",
       "      <th></th>\n",
       "      <th>Areaname</th>\n",
       "      <th>STCOU</th>\n",
       "      <th>LND010200D</th>\n",
       "    </tr>\n",
       "  </thead>\n",
       "  <tbody>\n",
       "    <tr>\n",
       "      <th>0</th>\n",
       "      <td>UNITED STATES</td>\n",
       "      <td>0</td>\n",
       "      <td>3794083.06</td>\n",
       "    </tr>\n",
       "  </tbody>\n",
       "</table>\n",
       "</div>"
      ],
      "text/plain": [
       "        Areaname  STCOU  LND010200D\n",
       "0  UNITED STATES      0  3794083.06"
      ]
     },
     "execution_count": 11,
     "metadata": {},
     "output_type": "execute_result"
    }
   ],
   "source": [
    "sq_mile_data.head(1)"
   ]
  },
  {
   "cell_type": "code",
   "execution_count": 12,
   "metadata": {},
   "outputs": [],
   "source": [
    "cty_info = pd.merge(sq_mile_data,population_data,left_on='STCOU', right_on='county_fips')"
   ]
  },
  {
   "cell_type": "code",
   "execution_count": 15,
   "metadata": {},
   "outputs": [],
   "source": [
    "cty_info['pop_density'] = cty_info['pop2014'] / cty_info['LND010200D']"
   ]
  },
  {
   "cell_type": "code",
   "execution_count": 16,
   "metadata": {},
   "outputs": [
    {
     "data": {
      "text/html": [
       "<div>\n",
       "<style scoped>\n",
       "    .dataframe tbody tr th:only-of-type {\n",
       "        vertical-align: middle;\n",
       "    }\n",
       "\n",
       "    .dataframe tbody tr th {\n",
       "        vertical-align: top;\n",
       "    }\n",
       "\n",
       "    .dataframe thead th {\n",
       "        text-align: right;\n",
       "    }\n",
       "</style>\n",
       "<table border=\"1\" class=\"dataframe\">\n",
       "  <thead>\n",
       "    <tr style=\"text-align: right;\">\n",
       "      <th></th>\n",
       "      <th>Areaname</th>\n",
       "      <th>STCOU</th>\n",
       "      <th>LND010200D</th>\n",
       "      <th>fips</th>\n",
       "      <th>state_fips</th>\n",
       "      <th>county_fips</th>\n",
       "      <th>areaname</th>\n",
       "      <th>state_name</th>\n",
       "      <th>county_name</th>\n",
       "      <th>base20104</th>\n",
       "      <th>pop2014</th>\n",
       "      <th>pop_density</th>\n",
       "    </tr>\n",
       "  </thead>\n",
       "  <tbody>\n",
       "    <tr>\n",
       "      <th>0</th>\n",
       "      <td>Autauga, AL</td>\n",
       "      <td>1001</td>\n",
       "      <td>604.45</td>\n",
       "      <td>1001</td>\n",
       "      <td>1</td>\n",
       "      <td>1001</td>\n",
       "      <td>Autauga County, Alabama</td>\n",
       "      <td>Alabama</td>\n",
       "      <td>Autauga County</td>\n",
       "      <td>54571.0</td>\n",
       "      <td>55395.0</td>\n",
       "      <td>91.645297</td>\n",
       "    </tr>\n",
       "    <tr>\n",
       "      <th>1</th>\n",
       "      <td>Baldwin, AL</td>\n",
       "      <td>1003</td>\n",
       "      <td>2026.93</td>\n",
       "      <td>1003</td>\n",
       "      <td>1</td>\n",
       "      <td>1003</td>\n",
       "      <td>Baldwin County, Alabama</td>\n",
       "      <td>Alabama</td>\n",
       "      <td>Baldwin County</td>\n",
       "      <td>182265.0</td>\n",
       "      <td>200111.0</td>\n",
       "      <td>98.726152</td>\n",
       "    </tr>\n",
       "    <tr>\n",
       "      <th>2</th>\n",
       "      <td>Barbour, AL</td>\n",
       "      <td>1005</td>\n",
       "      <td>904.52</td>\n",
       "      <td>1005</td>\n",
       "      <td>1</td>\n",
       "      <td>1005</td>\n",
       "      <td>Barbour County, Alabama</td>\n",
       "      <td>Alabama</td>\n",
       "      <td>Barbour County</td>\n",
       "      <td>27457.0</td>\n",
       "      <td>26887.0</td>\n",
       "      <td>29.725158</td>\n",
       "    </tr>\n",
       "    <tr>\n",
       "      <th>3</th>\n",
       "      <td>Bibb, AL</td>\n",
       "      <td>1007</td>\n",
       "      <td>626.16</td>\n",
       "      <td>1007</td>\n",
       "      <td>1</td>\n",
       "      <td>1007</td>\n",
       "      <td>Bibb County, Alabama</td>\n",
       "      <td>Alabama</td>\n",
       "      <td>Bibb County</td>\n",
       "      <td>22919.0</td>\n",
       "      <td>22506.0</td>\n",
       "      <td>35.942890</td>\n",
       "    </tr>\n",
       "    <tr>\n",
       "      <th>4</th>\n",
       "      <td>Blount, AL</td>\n",
       "      <td>1009</td>\n",
       "      <td>650.60</td>\n",
       "      <td>1009</td>\n",
       "      <td>1</td>\n",
       "      <td>1009</td>\n",
       "      <td>Blount County, Alabama</td>\n",
       "      <td>Alabama</td>\n",
       "      <td>Blount County</td>\n",
       "      <td>57322.0</td>\n",
       "      <td>57719.0</td>\n",
       "      <td>88.716569</td>\n",
       "    </tr>\n",
       "  </tbody>\n",
       "</table>\n",
       "</div>"
      ],
      "text/plain": [
       "      Areaname  STCOU  LND010200D  fips  state_fips  county_fips  \\\n",
       "0  Autauga, AL   1001      604.45  1001           1         1001   \n",
       "1  Baldwin, AL   1003     2026.93  1003           1         1003   \n",
       "2  Barbour, AL   1005      904.52  1005           1         1005   \n",
       "3     Bibb, AL   1007      626.16  1007           1         1007   \n",
       "4   Blount, AL   1009      650.60  1009           1         1009   \n",
       "\n",
       "                  areaname state_name     county_name  base20104   pop2014  \\\n",
       "0  Autauga County, Alabama    Alabama  Autauga County    54571.0   55395.0   \n",
       "1  Baldwin County, Alabama    Alabama  Baldwin County   182265.0  200111.0   \n",
       "2  Barbour County, Alabama    Alabama  Barbour County    27457.0   26887.0   \n",
       "3     Bibb County, Alabama    Alabama     Bibb County    22919.0   22506.0   \n",
       "4   Blount County, Alabama    Alabama   Blount County    57322.0   57719.0   \n",
       "\n",
       "   pop_density  \n",
       "0    91.645297  \n",
       "1    98.726152  \n",
       "2    29.725158  \n",
       "3    35.942890  \n",
       "4    88.716569  "
      ]
     },
     "execution_count": 16,
     "metadata": {},
     "output_type": "execute_result"
    }
   ],
   "source": [
    "cty_info.head()"
   ]
  },
  {
   "cell_type": "code",
   "execution_count": null,
   "metadata": {},
   "outputs": [],
   "source": []
  }
 ],
 "metadata": {
  "kernelspec": {
   "display_name": "Python 3",
   "language": "python",
   "name": "python3"
  },
  "language_info": {
   "codemirror_mode": {
    "name": "ipython",
    "version": 3
   },
   "file_extension": ".py",
   "mimetype": "text/x-python",
   "name": "python",
   "nbconvert_exporter": "python",
   "pygments_lexer": "ipython3",
   "version": "3.7.4"
  }
 },
 "nbformat": 4,
 "nbformat_minor": 4
}
