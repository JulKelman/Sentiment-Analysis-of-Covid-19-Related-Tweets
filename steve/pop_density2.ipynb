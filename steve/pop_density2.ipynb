{
 "cells": [
  {
   "cell_type": "code",
   "execution_count": 1,
   "metadata": {},
   "outputs": [],
   "source": [
    "import pandas as pd"
   ]
  },
  {
   "cell_type": "code",
   "execution_count": 2,
   "metadata": {},
   "outputs": [],
   "source": [
    "# read in population data \n",
    "population_data = pd.read_csv('county_population.csv', encoding='latin-1')"
   ]
  },
  {
   "cell_type": "code",
   "execution_count": 3,
   "metadata": {},
   "outputs": [],
   "source": [
    "# determine all rows that have a fips number under 1001 (these are duplicates)\n",
    "delete_list = []\n",
    "for i, num in enumerate(population_data['county_fips']):\n",
    "    if num < 1001:\n",
    "        delete_list.append(i)\n",
    "        "
   ]
  },
  {
   "cell_type": "code",
   "execution_count": 4,
   "metadata": {},
   "outputs": [],
   "source": [
    "# drop these rows\n",
    "population_data.drop(index=delete_list,inplace=True)"
   ]
  },
  {
   "cell_type": "code",
   "execution_count": 5,
   "metadata": {},
   "outputs": [
    {
     "data": {
      "text/html": [
       "<div>\n",
       "<style scoped>\n",
       "    .dataframe tbody tr th:only-of-type {\n",
       "        vertical-align: middle;\n",
       "    }\n",
       "\n",
       "    .dataframe tbody tr th {\n",
       "        vertical-align: top;\n",
       "    }\n",
       "\n",
       "    .dataframe thead th {\n",
       "        text-align: right;\n",
       "    }\n",
       "</style>\n",
       "<table border=\"1\" class=\"dataframe\">\n",
       "  <thead>\n",
       "    <tr style=\"text-align: right;\">\n",
       "      <th></th>\n",
       "      <th>fips</th>\n",
       "      <th>state_fips</th>\n",
       "      <th>county_fips</th>\n",
       "      <th>areaname</th>\n",
       "      <th>state_name</th>\n",
       "      <th>county_name</th>\n",
       "      <th>fipsst</th>\n",
       "      <th>fipsco</th>\n",
       "      <th>region</th>\n",
       "      <th>division</th>\n",
       "      <th>...</th>\n",
       "      <th>pop2008</th>\n",
       "      <th>pop2009</th>\n",
       "      <th>pop19904</th>\n",
       "      <th>pop20104</th>\n",
       "      <th>base20104</th>\n",
       "      <th>pop2010</th>\n",
       "      <th>pop2011</th>\n",
       "      <th>pop2012</th>\n",
       "      <th>pop2013</th>\n",
       "      <th>pop2014</th>\n",
       "    </tr>\n",
       "  </thead>\n",
       "  <tbody>\n",
       "    <tr>\n",
       "      <th>3</th>\n",
       "      <td>1001</td>\n",
       "      <td>1</td>\n",
       "      <td>1001</td>\n",
       "      <td>Autauga County, Alabama</td>\n",
       "      <td>Alabama</td>\n",
       "      <td>Autauga County</td>\n",
       "      <td>1</td>\n",
       "      <td>1001</td>\n",
       "      <td>NaN</td>\n",
       "      <td>NaN</td>\n",
       "      <td>...</td>\n",
       "      <td>NaN</td>\n",
       "      <td>NaN</td>\n",
       "      <td>NaN</td>\n",
       "      <td>54571.0</td>\n",
       "      <td>54571.0</td>\n",
       "      <td>54684.0</td>\n",
       "      <td>55275.0</td>\n",
       "      <td>55192.0</td>\n",
       "      <td>55136.0</td>\n",
       "      <td>55395.0</td>\n",
       "    </tr>\n",
       "  </tbody>\n",
       "</table>\n",
       "<p>1 rows × 58 columns</p>\n",
       "</div>"
      ],
      "text/plain": [
       "   fips  state_fips  county_fips                 areaname state_name  \\\n",
       "3  1001           1         1001  Autauga County, Alabama    Alabama   \n",
       "\n",
       "      county_name  fipsst  fipsco  region  division  ...  pop2008  pop2009  \\\n",
       "3  Autauga County       1    1001     NaN       NaN  ...      NaN      NaN   \n",
       "\n",
       "   pop19904  pop20104  base20104  pop2010  pop2011  pop2012  pop2013  pop2014  \n",
       "3       NaN   54571.0    54571.0  54684.0  55275.0  55192.0  55136.0  55395.0  \n",
       "\n",
       "[1 rows x 58 columns]"
      ]
     },
     "execution_count": 5,
     "metadata": {},
     "output_type": "execute_result"
    }
   ],
   "source": [
    "population_data.head(1)"
   ]
  },
  {
   "cell_type": "code",
   "execution_count": 6,
   "metadata": {},
   "outputs": [],
   "source": [
    "# drop unnecessary columns\n",
    "population_data.drop(columns=['region', \n",
    "                              'division',\n",
    "                              'pop2008',\n",
    "                              'pop2009',\n",
    "                              'pop19904',\n",
    "                              'pop20104',\n",
    "                              'pop1970',\n",
    "                              'pop2004',\n",
    "                              'pop1971',\n",
    "                              'pop2005',\n",
    "                              'pop2006',\n",
    "                              'pop1972',\n",
    "                              'pop1973',\n",
    "                              'pop2001',\n",
    "                              'pop2002',\n",
    "                              'pop2003',\n",
    "                              'pop2000',\n",
    "                              'pop1999',\n",
    "                              'pop1998',\n",
    "                              'pop1997',\n",
    "                              'pop1996',\n",
    "                              'pop1995',\n",
    "                              'pop1994',\n",
    "                              'pop1993',\n",
    "                              'pop1992',\n",
    "                              'pop1991',\n",
    "                              'pop1990',\n",
    "                              'pop1974',\n",
    "                              'pop1975',\n",
    "                              'pop1976',\n",
    "                              'pop1977',\n",
    "                              'pop1978',\n",
    "                              'pop1979',\n",
    "                              'pop1980',\n",
    "                              'pop1981',\n",
    "                              'pop1982',\n",
    "                              'pop1983',\n",
    "                              'pop1984',\n",
    "                              'pop1985',\n",
    "                              'pop1986',\n",
    "                              'pop1987',\n",
    "                              'pop1988',\n",
    "                              'pop1989',\n",
    "                              'pop2007',\n",
    "                              'pop2004',\n",
    "                              'pop2010',\n",
    "                              'pop2011',\n",
    "                              'pop2012',\n",
    "                              'pop2013',\n",
    "                              'fipsco',\n",
    "                              'fipsst'\n",
    "                             ],inplace=True)"
   ]
  },
  {
   "cell_type": "code",
   "execution_count": 7,
   "metadata": {},
   "outputs": [],
   "source": [
    "# Import square mileage data\n",
    "sq_mile_data = pd.read_csv('p5_data_Sq_Miles.csv', encoding='latin-1')\n",
    "\n"
   ]
  },
  {
   "cell_type": "code",
   "execution_count": 8,
   "metadata": {},
   "outputs": [],
   "source": [
    "# reduce data to three rows\n",
    "sq_mile_data = sq_mile_data.loc[:,['Areaname','STCOU','LND010200D']]"
   ]
  },
  {
   "cell_type": "code",
   "execution_count": 10,
   "metadata": {},
   "outputs": [],
   "source": [
    "# merge DataFrames to create county info DF\n",
    "cty_info = pd.merge(sq_mile_data,population_data,left_on='STCOU', right_on='county_fips')"
   ]
  },
  {
   "cell_type": "code",
   "execution_count": 11,
   "metadata": {},
   "outputs": [],
   "source": [
    "# create population density column\n",
    "cty_info['pop_density'] = cty_info['pop2014'] / cty_info['LND010200D']"
   ]
  },
  {
   "cell_type": "code",
   "execution_count": 12,
   "metadata": {},
   "outputs": [],
   "source": [
    "# Import file of US cities and matching counties\n",
    "city_cty = pd.read_csv('uscities.csv')"
   ]
  },
  {
   "cell_type": "code",
   "execution_count": 13,
   "metadata": {},
   "outputs": [
    {
     "data": {
      "text/html": [
       "<div>\n",
       "<style scoped>\n",
       "    .dataframe tbody tr th:only-of-type {\n",
       "        vertical-align: middle;\n",
       "    }\n",
       "\n",
       "    .dataframe tbody tr th {\n",
       "        vertical-align: top;\n",
       "    }\n",
       "\n",
       "    .dataframe thead th {\n",
       "        text-align: right;\n",
       "    }\n",
       "</style>\n",
       "<table border=\"1\" class=\"dataframe\">\n",
       "  <thead>\n",
       "    <tr style=\"text-align: right;\">\n",
       "      <th></th>\n",
       "      <th>city</th>\n",
       "      <th>city_ascii</th>\n",
       "      <th>state_id</th>\n",
       "      <th>state_name</th>\n",
       "      <th>county_fips</th>\n",
       "      <th>county_name</th>\n",
       "      <th>county_fips_all</th>\n",
       "      <th>county_name_all</th>\n",
       "      <th>lat</th>\n",
       "      <th>lng</th>\n",
       "      <th>population</th>\n",
       "      <th>density</th>\n",
       "      <th>source</th>\n",
       "      <th>military</th>\n",
       "      <th>incorporated</th>\n",
       "      <th>timezone</th>\n",
       "      <th>ranking</th>\n",
       "      <th>zips</th>\n",
       "      <th>id</th>\n",
       "    </tr>\n",
       "  </thead>\n",
       "  <tbody>\n",
       "    <tr>\n",
       "      <th>0</th>\n",
       "      <td>South Creek</td>\n",
       "      <td>South Creek</td>\n",
       "      <td>WA</td>\n",
       "      <td>Washington</td>\n",
       "      <td>53053</td>\n",
       "      <td>Pierce</td>\n",
       "      <td>53053</td>\n",
       "      <td>Pierce</td>\n",
       "      <td>46.9994</td>\n",
       "      <td>-122.3921</td>\n",
       "      <td>2500.0</td>\n",
       "      <td>125.0</td>\n",
       "      <td>polygon</td>\n",
       "      <td>False</td>\n",
       "      <td>True</td>\n",
       "      <td>America/Los_Angeles</td>\n",
       "      <td>3</td>\n",
       "      <td>98580 98387 98338</td>\n",
       "      <td>1840042075</td>\n",
       "    </tr>\n",
       "    <tr>\n",
       "      <th>1</th>\n",
       "      <td>Roslyn</td>\n",
       "      <td>Roslyn</td>\n",
       "      <td>WA</td>\n",
       "      <td>Washington</td>\n",
       "      <td>53037</td>\n",
       "      <td>Kittitas</td>\n",
       "      <td>53037</td>\n",
       "      <td>Kittitas</td>\n",
       "      <td>47.2507</td>\n",
       "      <td>-121.0989</td>\n",
       "      <td>947.0</td>\n",
       "      <td>84.0</td>\n",
       "      <td>polygon</td>\n",
       "      <td>False</td>\n",
       "      <td>True</td>\n",
       "      <td>America/Los_Angeles</td>\n",
       "      <td>3</td>\n",
       "      <td>98941 98068 98925</td>\n",
       "      <td>1840019842</td>\n",
       "    </tr>\n",
       "    <tr>\n",
       "      <th>2</th>\n",
       "      <td>Sprague</td>\n",
       "      <td>Sprague</td>\n",
       "      <td>WA</td>\n",
       "      <td>Washington</td>\n",
       "      <td>53043</td>\n",
       "      <td>Lincoln</td>\n",
       "      <td>53043</td>\n",
       "      <td>Lincoln</td>\n",
       "      <td>47.3048</td>\n",
       "      <td>-117.9713</td>\n",
       "      <td>441.0</td>\n",
       "      <td>163.0</td>\n",
       "      <td>polygon</td>\n",
       "      <td>False</td>\n",
       "      <td>True</td>\n",
       "      <td>America/Los_Angeles</td>\n",
       "      <td>3</td>\n",
       "      <td>99032</td>\n",
       "      <td>1840021107</td>\n",
       "    </tr>\n",
       "    <tr>\n",
       "      <th>3</th>\n",
       "      <td>Gig Harbor</td>\n",
       "      <td>Gig Harbor</td>\n",
       "      <td>WA</td>\n",
       "      <td>Washington</td>\n",
       "      <td>53053</td>\n",
       "      <td>Pierce</td>\n",
       "      <td>53053</td>\n",
       "      <td>Pierce</td>\n",
       "      <td>47.3352</td>\n",
       "      <td>-122.5968</td>\n",
       "      <td>9507.0</td>\n",
       "      <td>622.0</td>\n",
       "      <td>polygon</td>\n",
       "      <td>False</td>\n",
       "      <td>True</td>\n",
       "      <td>America/Los_Angeles</td>\n",
       "      <td>3</td>\n",
       "      <td>98332 98335</td>\n",
       "      <td>1840019855</td>\n",
       "    </tr>\n",
       "    <tr>\n",
       "      <th>4</th>\n",
       "      <td>Lake Cassidy</td>\n",
       "      <td>Lake Cassidy</td>\n",
       "      <td>WA</td>\n",
       "      <td>Washington</td>\n",
       "      <td>53061</td>\n",
       "      <td>Snohomish</td>\n",
       "      <td>53061</td>\n",
       "      <td>Snohomish</td>\n",
       "      <td>48.0639</td>\n",
       "      <td>-122.0920</td>\n",
       "      <td>3591.0</td>\n",
       "      <td>131.0</td>\n",
       "      <td>polygon</td>\n",
       "      <td>False</td>\n",
       "      <td>True</td>\n",
       "      <td>America/Los_Angeles</td>\n",
       "      <td>3</td>\n",
       "      <td>98223 98258 98270</td>\n",
       "      <td>1840041959</td>\n",
       "    </tr>\n",
       "  </tbody>\n",
       "</table>\n",
       "</div>"
      ],
      "text/plain": [
       "           city    city_ascii state_id  state_name  county_fips county_name  \\\n",
       "0   South Creek   South Creek       WA  Washington        53053      Pierce   \n",
       "1        Roslyn        Roslyn       WA  Washington        53037    Kittitas   \n",
       "2       Sprague       Sprague       WA  Washington        53043     Lincoln   \n",
       "3    Gig Harbor    Gig Harbor       WA  Washington        53053      Pierce   \n",
       "4  Lake Cassidy  Lake Cassidy       WA  Washington        53061   Snohomish   \n",
       "\n",
       "  county_fips_all county_name_all      lat       lng  population  density  \\\n",
       "0           53053          Pierce  46.9994 -122.3921      2500.0    125.0   \n",
       "1           53037        Kittitas  47.2507 -121.0989       947.0     84.0   \n",
       "2           53043         Lincoln  47.3048 -117.9713       441.0    163.0   \n",
       "3           53053          Pierce  47.3352 -122.5968      9507.0    622.0   \n",
       "4           53061       Snohomish  48.0639 -122.0920      3591.0    131.0   \n",
       "\n",
       "    source  military  incorporated             timezone  ranking  \\\n",
       "0  polygon     False          True  America/Los_Angeles        3   \n",
       "1  polygon     False          True  America/Los_Angeles        3   \n",
       "2  polygon     False          True  America/Los_Angeles        3   \n",
       "3  polygon     False          True  America/Los_Angeles        3   \n",
       "4  polygon     False          True  America/Los_Angeles        3   \n",
       "\n",
       "                zips          id  \n",
       "0  98580 98387 98338  1840042075  \n",
       "1  98941 98068 98925  1840019842  \n",
       "2              99032  1840021107  \n",
       "3        98332 98335  1840019855  \n",
       "4  98223 98258 98270  1840041959  "
      ]
     },
     "execution_count": 13,
     "metadata": {},
     "output_type": "execute_result"
    }
   ],
   "source": [
    "city_cty.head()"
   ]
  },
  {
   "cell_type": "code",
   "execution_count": null,
   "metadata": {},
   "outputs": [],
   "source": [
    "city_cty_info = pd.merge(cty_info,city_cty,on='county_fips')"
   ]
  },
  {
   "cell_type": "code",
   "execution_count": null,
   "metadata": {},
   "outputs": [],
   "source": [
    "city_cty_info.head()"
   ]
  },
  {
   "cell_type": "code",
   "execution_count": null,
   "metadata": {},
   "outputs": [],
   "source": [
    "drops = ['STCOU','LND010200D','county_fips_all','fips','Areaname','areaname','base20104','military','incorporated','timezone','id']\n",
    "\n",
    "city_cty_info.drop(columns=drops, inplace=True)"
   ]
  },
  {
   "cell_type": "code",
   "execution_count": null,
   "metadata": {},
   "outputs": [],
   "source": [
    "pd.set_option(\"display.max_rows\", None, \"display.max_columns\", None)"
   ]
  },
  {
   "cell_type": "code",
   "execution_count": null,
   "metadata": {},
   "outputs": [],
   "source": [
    "tx_sip = pd.read_csv('../data/tx_sip.csv')"
   ]
  },
  {
   "cell_type": "code",
   "execution_count": null,
   "metadata": {},
   "outputs": [],
   "source": [
    "tx_sip.head(1)"
   ]
  },
  {
   "cell_type": "code",
   "execution_count": null,
   "metadata": {},
   "outputs": [],
   "source": [
    "sip_list = tx_sip['Index_list'].tolist()"
   ]
  },
  {
   "cell_type": "code",
   "execution_count": null,
   "metadata": {},
   "outputs": [],
   "source": [
    "city_cty_info['shelter_in_place'] = [1 if num in sip_list else 0 for num in range(0,28627)]"
   ]
  },
  {
   "cell_type": "code",
   "execution_count": null,
   "metadata": {},
   "outputs": [],
   "source": [
    "city_cty_info.head()"
   ]
  },
  {
   "cell_type": "code",
   "execution_count": null,
   "metadata": {},
   "outputs": [],
   "source": [
    "tx_df = city_cty_info.loc[23939:25656,:]\n",
    "ny_df = city_cty_info.loc[16441:17519,:]"
   ]
  },
  {
   "cell_type": "code",
   "execution_count": null,
   "metadata": {},
   "outputs": [],
   "source": [
    "city_cty_final = pd.concat([ny_df,tx_df], axis = 0)"
   ]
  },
  {
   "cell_type": "code",
   "execution_count": null,
   "metadata": {
    "scrolled": true
   },
   "outputs": [],
   "source": [
    "city_cty_final.tail()"
   ]
  },
  {
   "cell_type": "code",
   "execution_count": null,
   "metadata": {},
   "outputs": [],
   "source": [
    "df_client = pd.read_csv('../data/tweets_and_covid.csv')"
   ]
  },
  {
   "cell_type": "code",
   "execution_count": null,
   "metadata": {},
   "outputs": [],
   "source": [
    "df_client_ny = df_client[df_client['state'] == 'NY']\n",
    "df_client_tx = df_client[df_client['state'] == 'TX']"
   ]
  },
  {
   "cell_type": "code",
   "execution_count": null,
   "metadata": {},
   "outputs": [],
   "source": [
    "df_client_ny.shape"
   ]
  },
  {
   "cell_type": "code",
   "execution_count": null,
   "metadata": {},
   "outputs": [],
   "source": [
    "ny1 = ['Cheektowaga','Clarence','Amherst','Henrietta','Clifton Park','Delmar','Desoto','Greece','Halfmoon','Huntington','Latham', 'Oyster Bay', 'Poestenkill','Somers']\n",
    "ny2 = ['Buffalo','Clarence Center', 'Buffalo','Rochester','Round Lake','Albany','Cedar Hill','Rochester','Mechanicville','Huntington Bay','Austin','Colonie','Oyster Bay Cove','Averill Park',\"Golden's Bridge\"]\n",
    "tx1 = ['Desoto','Jollyville']\n",
    "tx2 = ['Cedar Hill','Austin']"
   ]
  },
  {
   "cell_type": "code",
   "execution_count": null,
   "metadata": {},
   "outputs": [],
   "source": [
    "df_client_ny['city'].replace({'Amherst':'Buffalo',})"
   ]
  },
  {
   "cell_type": "code",
   "execution_count": null,
   "metadata": {},
   "outputs": [],
   "source": [
    "len(city_fix(df_client_ny,ny1,ny2))\n",
    "\n",
    "# df_client_ny['city2'] = "
   ]
  },
  {
   "cell_type": "code",
   "execution_count": null,
   "metadata": {},
   "outputs": [],
   "source": [
    "df_client_tx['city2'] = city_fix(df_client_tx,tx1,tx2)"
   ]
  },
  {
   "cell_type": "code",
   "execution_count": null,
   "metadata": {},
   "outputs": [],
   "source": [
    "len(list2)"
   ]
  },
  {
   "cell_type": "code",
   "execution_count": null,
   "metadata": {},
   "outputs": [],
   "source": [
    "df_client['city2'] = city_list"
   ]
  },
  {
   "cell_type": "code",
   "execution_count": null,
   "metadata": {},
   "outputs": [],
   "source": [
    "df_client_ny.shape"
   ]
  },
  {
   "cell_type": "code",
   "execution_count": null,
   "metadata": {},
   "outputs": [],
   "source": [
    "merge_ny = pd.merge(df_client_ny, ny_df, left_on='city2', right_on='city')\n",
    "merge_tx = pd.merge(df_client_tx, tx_df, left_on='city2', right_on='city')"
   ]
  },
  {
   "cell_type": "code",
   "execution_count": null,
   "metadata": {},
   "outputs": [],
   "source": [
    "tweets_covid_cty_info = pd.concat([merge_ny,merge_tx], axis=0)"
   ]
  },
  {
   "cell_type": "code",
   "execution_count": null,
   "metadata": {},
   "outputs": [],
   "source": [
    "tweets_covid_cty_info.to_csv(r'../data/tweets_covid_cty_info.csv')"
   ]
  },
  {
   "cell_type": "code",
   "execution_count": null,
   "metadata": {},
   "outputs": [],
   "source": []
  }
 ],
 "metadata": {
  "kernelspec": {
   "display_name": "Python 3",
   "language": "python",
   "name": "python3"
  },
  "language_info": {
   "codemirror_mode": {
    "name": "ipython",
    "version": 3
   },
   "file_extension": ".py",
   "mimetype": "text/x-python",
   "name": "python",
   "nbconvert_exporter": "python",
   "pygments_lexer": "ipython3",
   "version": "3.7.4"
  }
 },
 "nbformat": 4,
 "nbformat_minor": 4
}
